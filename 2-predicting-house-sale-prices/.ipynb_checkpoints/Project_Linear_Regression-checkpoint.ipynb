{
 "cells": [
  {
   "cell_type": "markdown",
   "metadata": {},
   "source": [
    "# Predicting House Sale Prices in Ames, Iowa\n",
    "In this project, we work with the housing data for the city of Ames, Iowa, United States from 2006 to 2010. \n",
    "We will explore some techniques for cleaning, transforming, and selecting features, and we will use a __linear regression model__ to predict the house sale prices.\n",
    "\n",
    "This project comprises five sections:\n",
    "1. Introduction;\n",
    "2. Feature Engineering;\n",
    "3. Feature Selection;\n",
    "4. Train and Test.\n",
    "\n",
    "The [Ames Housing dataset](https://www.tandfonline.com/doi/abs/10.1080/10691898.2011.11889627) was compiled by Dean De Cock for use in data science education. [Here](https://s3.amazonaws.com/dq-content/307/data_description.txt) we can find some description for the columns in the dataset.\n",
    "\n",
    "## 1. Introduction"
   ]
  },
  {
   "cell_type": "code",
   "execution_count": 1,
   "metadata": {},
   "outputs": [],
   "source": [
    "import pandas as pd\n",
    "import numpy as np\n",
    "import matplotlib.pyplot as plt\n",
    "import seaborn as sns\n",
    "\n",
    "from sklearn.linear_model import LinearRegression\n",
    "from sklearn.metrics import mean_squared_error\n",
    "from sklearn.model_selection import KFold"
   ]
  },
  {
   "cell_type": "markdown",
   "metadata": {},
   "source": [
    "Read `AmesHousing.tsv` into a pandas data frame using the tab delimiter (`\\t`)."
   ]
  },
  {
   "cell_type": "code",
   "execution_count": 2,
   "metadata": {},
   "outputs": [],
   "source": [
    "# Read AmesHousing.tsv into a pandas data frame. \n",
    "data = pd.read_csv('AmesHousing.tsv', delimiter = \"\\t\")"
   ]
  },
  {
   "cell_type": "markdown",
   "metadata": {},
   "source": [
    "We create the functions that we will use in our pipeline. We will update these functions later. Description of the code can be found in the inline comments. As metric, we use the __root mean squared error__ (RMSE)."
   ]
  },
  {
   "cell_type": "code",
   "execution_count": 3,
   "metadata": {},
   "outputs": [],
   "source": [
    "def transform_features(df):\n",
    "    return df\n",
    "\n",
    "def select_features(df):\n",
    "    return df[['Gr Liv Area', 'SalePrice']]\n",
    "\n",
    "def train_and_test(df):\n",
    "    # Selects the first 1460 rows from df and assign to train.\n",
    "    train = df[0:1460]\n",
    "    # Selects the remaining rows from df and assign to test.\n",
    "    test = df[1460:]\n",
    "    \n",
    "    # We use `pd.DataFrame.select_dtypes()` to specify column types\n",
    "    # and return only those columns as a data frame.\n",
    "    numeric_train = train.select_dtypes(include=['integer', 'float'])\n",
    "    numeric_test = test.select_dtypes(include=['integer', 'float'])\n",
    "    \n",
    "    # Trains a model using all numerical columns except the SalePrice\n",
    "    # column (the target column)     \n",
    "    features = numeric_train.columns.drop('SalePrice')\n",
    "    \n",
    "    # MS: Instantiate a linear regression model.\n",
    "    lr = LinearRegression()\n",
    "    \n",
    "    # MS: Fit a linear regression model\n",
    "    lr.fit(train[features], train['SalePrice'])\n",
    "    \n",
    "    # Test the model on the test set and returns the RMSE value.\n",
    "    test_predictions = lr.predict(test[features])\n",
    "    test_rmse = np.sqrt(mean_squared_error(test_predictions, test['SalePrice']))\n",
    "    \n",
    "    return test_rmse"
   ]
  },
  {
   "cell_type": "markdown",
   "metadata": {},
   "source": [
    "We apply the functions according to the following __pipeline__:\n",
    "1. __transform features__;\n",
    "2. __select features__;\n",
    "3. __train and test__."
   ]
  },
  {
   "cell_type": "code",
   "execution_count": 4,
   "metadata": {},
   "outputs": [
    {
     "name": "stdout",
     "output_type": "stream",
     "text": [
      "57088.25\n"
     ]
    }
   ],
   "source": [
    "transformed_df = transform_features(data)\n",
    "filtered_df = select_features(transformed_df)\n",
    "rmse = train_and_test(filtered_df)\n",
    "\n",
    "# Visualize the RMSE\n",
    "print(\"{:0.2f}\".format(rmse))"
   ]
  },
  {
   "cell_type": "markdown",
   "metadata": {
    "collapsed": true
   },
   "source": [
    "## 2. Feature Engineering\n",
    "In this section, we remove features with many missing values, explore the potential categorical features, and transform text and numerical columns."
   ]
  },
  {
   "cell_type": "markdown",
   "metadata": {},
   "source": [
    "1) __All columns__. We drop any with 5% or more missing values *for now*."
   ]
  },
  {
   "cell_type": "code",
   "execution_count": 5,
   "metadata": {},
   "outputs": [],
   "source": [
    "all_mv_counts = data.isnull().sum()\n",
    "\n",
    "# Which columns contain more than 5% missing values?\n",
    "# Names of the columns to be dropped:\n",
    "cols_to_drop = all_mv_counts[all_mv_counts>0.05*len(data)].index\n",
    "\n",
    "# Drop those columns from the dataframe.\n",
    "data = data.drop(cols_to_drop, axis=1)"
   ]
  },
  {
   "cell_type": "markdown",
   "metadata": {},
   "source": [
    "2) __Text columns__. We drop all text columns with 1 or more missing values *for now*."
   ]
  },
  {
   "cell_type": "code",
   "execution_count": 6,
   "metadata": {},
   "outputs": [],
   "source": [
    "text_mv_counts = data.select_dtypes(include=['object']).isnull().sum()\n",
    "\n",
    "# Names of the text columns to be dropped:\n",
    "text_cols_to_drop = text_mv_counts[text_mv_counts>0].index\n",
    "\n",
    "# text_cols_to_drop\n",
    "\n",
    "# Drop those columns from the dataframe.\n",
    "data = data.drop(text_cols_to_drop, axis=1)"
   ]
  },
  {
   "cell_type": "markdown",
   "metadata": {},
   "source": [
    "3) __Numerical columns__. For columns with missing values, fill in with the most popular value for that column."
   ]
  },
  {
   "cell_type": "code",
   "execution_count": 7,
   "metadata": {},
   "outputs": [],
   "source": [
    "# Compute column-wise number of missing values:\n",
    "num_mv_counts = data.select_dtypes(include=['int', 'float']).isnull().sum()\n",
    "\n",
    "# Which columns contain more than 0 and less than 5% missing values?\n",
    "fixable_num_cols = num_mv_counts[(num_mv_counts>0) & (num_mv_counts<0.05*len(data))].index"
   ]
  },
  {
   "cell_type": "markdown",
   "metadata": {},
   "source": [
    "For numerical columns that contain more than 0 and less than 5% missing values, let's fill in the missing values using the most popular value for that column."
   ]
  },
  {
   "cell_type": "code",
   "execution_count": 8,
   "metadata": {},
   "outputs": [
    {
     "data": {
      "text/plain": [
       "{'Mas Vnr Area': 0.0,\n",
       " 'BsmtFin SF 1': 0.0,\n",
       " 'BsmtFin SF 2': 0.0,\n",
       " 'Bsmt Unf SF': 0.0,\n",
       " 'Total Bsmt SF': 0.0,\n",
       " 'Bsmt Full Bath': 0.0,\n",
       " 'Bsmt Half Bath': 0.0,\n",
       " 'Garage Cars': 2.0,\n",
       " 'Garage Area': 0.0}"
      ]
     },
     "execution_count": 8,
     "metadata": {},
     "output_type": "execute_result"
    }
   ],
   "source": [
    "# Return a dictionary with the most popular value ('records') for each numeric column\n",
    "# that meets the above criteria\n",
    "replacement_values_dict = data[fixable_num_cols].mode().to_dict(orient='records')[0]\n",
    "replacement_values_dict"
   ]
  },
  {
   "cell_type": "code",
   "execution_count": 9,
   "metadata": {},
   "outputs": [
    {
     "data": {
      "text/plain": [
       "0    64\n",
       "dtype: int64"
      ]
     },
     "execution_count": 9,
     "metadata": {},
     "output_type": "execute_result"
    }
   ],
   "source": [
    "## Use `pd.DataFrame.fillna()` to replace missing values.\n",
    "data = data.fillna(replacement_values_dict)\n",
    "\n",
    "## Verify that every column has 0 missing values\n",
    "data.isnull().sum().value_counts()"
   ]
  },
  {
   "cell_type": "markdown",
   "metadata": {},
   "source": [
    "4) __New features__. We create some new features that can better capture the information in some of the features."
   ]
  },
  {
   "cell_type": "code",
   "execution_count": 10,
   "metadata": {},
   "outputs": [
    {
     "data": {
      "text/plain": [
       "2180   -1\n",
       "dtype: int64"
      ]
     },
     "execution_count": 10,
     "metadata": {},
     "output_type": "execute_result"
    }
   ],
   "source": [
    "years_sold = data['Yr Sold'] - data['Year Built']\n",
    "\n",
    "# Check for negative values in this new feature.\n",
    "# The house cannot be sold before being built!\n",
    "years_sold[years_sold < 0]"
   ]
  },
  {
   "cell_type": "code",
   "execution_count": 11,
   "metadata": {},
   "outputs": [
    {
     "data": {
      "text/plain": [
       "1702   -1\n",
       "2180   -2\n",
       "2181   -1\n",
       "dtype: int64"
      ]
     },
     "execution_count": 11,
     "metadata": {},
     "output_type": "execute_result"
    }
   ],
   "source": [
    "years_since_remod = data['Yr Sold'] - data['Year Remod/Add']\n",
    "\n",
    "# Check for negative values in this new feature.\n",
    "years_since_remod[years_since_remod < 0]"
   ]
  },
  {
   "cell_type": "code",
   "execution_count": 12,
   "metadata": {},
   "outputs": [],
   "source": [
    "# Create new columns\n",
    "data['Years Before Sale'] = years_sold\n",
    "data['Years Since Remod'] = years_since_remod\n",
    "\n",
    "# Drop rows containing negative values for these new features.\n",
    "# Use the indexes shown above.\n",
    "data = data.drop([1702, 2180, 2181], axis=0)\n",
    "\n",
    "# Drop original year columns since we do not need them anymore.\n",
    "data = data.drop(['Year Built', 'Year Remod/Add'], axis=1)"
   ]
  },
  {
   "cell_type": "markdown",
   "metadata": {},
   "source": [
    "5) __Drop columns__. Let's drop columns that:\n",
    "- are not useful for machine learning;\n",
    "- leak data about the final sale."
   ]
  },
  {
   "cell_type": "code",
   "execution_count": 13,
   "metadata": {},
   "outputs": [],
   "source": [
    "# Drop columns that aren't useful for ML\n",
    "data = data.drop(['PID', 'Order'], axis=1)\n",
    "\n",
    "# Drop columns that leak data about the final sale\n",
    "data = data.drop(['Mo Sold', 'Sale Condition', 'Sale Type', 'Yr Sold'], axis=1)"
   ]
  },
  {
   "cell_type": "markdown",
   "metadata": {},
   "source": [
    "Now let's wrap it all up and encapsulate all the above operations into the function `transform_features()`."
   ]
  },
  {
   "cell_type": "code",
   "execution_count": 14,
   "metadata": {},
   "outputs": [],
   "source": [
    "def transform_features(data):\n",
    "    \n",
    "    # Operations on all columns:\n",
    "    all_mv_counts = data.isnull().sum()\n",
    "    cols_to_drop = all_mv_counts[all_mv_counts>0.05*len(data)].index\n",
    "    data = data.drop(cols_to_drop, axis=1)\n",
    "\n",
    "    # Operations on text columns:\n",
    "    text_mv_counts = data.select_dtypes(include=['object']).isnull().sum()\n",
    "    text_cols_to_drop = text_mv_counts[text_mv_counts>0].index\n",
    "    data = data.drop(text_cols_to_drop, axis=1)\n",
    "    \n",
    "    # Operations on numerical columns:\n",
    "    num_mv_counts = data.select_dtypes(include=['int', 'float']).isnull().sum()\n",
    "    fixable_num_cols = num_mv_counts[(num_mv_counts>0) & (num_mv_counts<0.05*len(data))].index\n",
    "    replacement_values_dict = data[fixable_num_cols].mode().to_dict(orient='records')[0]\n",
    "    data = data.fillna(replacement_values_dict)\n",
    "    \n",
    "    # Create new features:\n",
    "    years_sold = data['Yr Sold'] - data['Year Built']\n",
    "    years_since_remod = data['Yr Sold'] - data['Year Remod/Add']\n",
    "    data['Years Before Sale'] = years_sold\n",
    "    data['Years Since Remod'] = years_since_remod\n",
    "    data = data.drop([1702, 2180, 2181], axis=0)\n",
    "    \n",
    "    # Drop columns that aren't useful for ML and columns that leak data about the final sale\n",
    "    data = data.drop(['PID', 'Order', 'Mo Sold', 'Sale Condition', 'Sale Type', 'Year Built', 'Year Remod/Add'], axis=1)\n",
    "    return data"
   ]
  },
  {
   "cell_type": "markdown",
   "metadata": {},
   "source": [
    "Let's create the dataframe `data` again and apply the functions `transform_features`, `select_features`, and `train_and_test`."
   ]
  },
  {
   "cell_type": "code",
   "execution_count": 15,
   "metadata": {},
   "outputs": [
    {
     "name": "stdout",
     "output_type": "stream",
     "text": [
      "55275.37\n"
     ]
    }
   ],
   "source": [
    "data = pd.read_csv('AmesHousing.tsv', delimiter = \"\\t\")\n",
    "transformed_df = transform_features(data)\n",
    "filtered_df = select_features(transformed_df)\n",
    "rmse = train_and_test(filtered_df)\n",
    "\n",
    "# Visualize the RMSE\n",
    "print(\"{:0.2f}\".format(rmse))"
   ]
  },
  {
   "cell_type": "markdown",
   "metadata": {},
   "source": [
    "OK, we get some improvement with respect to the previous RMSE, which was 57088."
   ]
  },
  {
   "cell_type": "markdown",
   "metadata": {},
   "source": [
    "## 3. Feature Selection\n",
    "So far, we have cleaned and transformed a few features in the data set. Now we move on to feature selection for **numerical features**."
   ]
  },
  {
   "cell_type": "code",
   "execution_count": 16,
   "metadata": {},
   "outputs": [],
   "source": [
    "# Keep only the numerical columns:\n",
    "numerical_df = transformed_df.select_dtypes(include=['int', 'float'])"
   ]
  },
  {
   "cell_type": "markdown",
   "metadata": {},
   "source": [
    "1) Generate a __correlation matrix heatmap__ of the numerical features in the training data set.\n",
    "\n",
    "We focus on how the feature columns correlate with the target column (`SalePrice`). We take the absolute value and sort the values in ascending order."
   ]
  },
  {
   "cell_type": "code",
   "execution_count": 17,
   "metadata": {},
   "outputs": [
    {
     "data": {
      "text/plain": [
       "BsmtFin SF 2         0.006127\n",
       "Misc Val             0.019273\n",
       "Yr Sold              0.030358\n",
       "3Ssn Porch           0.032268\n",
       "Bsmt Half Bath       0.035875\n",
       "Low Qual Fin SF      0.037629\n",
       "Pool Area            0.068438\n",
       "MS SubClass          0.085128\n",
       "Overall Cond         0.101540\n",
       "Screen Porch         0.112280\n",
       "Kitchen AbvGr        0.119760\n",
       "Enclosed Porch       0.128685\n",
       "Bedroom AbvGr        0.143916\n",
       "Bsmt Unf SF          0.182751\n",
       "Lot Area             0.267520\n",
       "2nd Flr SF           0.269601\n",
       "Bsmt Full Bath       0.276258\n",
       "Half Bath            0.284871\n",
       "Open Porch SF        0.316262\n",
       "Wood Deck SF         0.328183\n",
       "BsmtFin SF 1         0.439284\n",
       "Fireplaces           0.474831\n",
       "TotRms AbvGrd        0.498574\n",
       "Mas Vnr Area         0.506983\n",
       "Years Since Remod    0.534985\n",
       "Full Bath            0.546118\n",
       "Years Before Sale    0.558979\n",
       "1st Flr SF           0.635185\n",
       "Garage Area          0.641425\n",
       "Total Bsmt SF        0.644012\n",
       "Garage Cars          0.648361\n",
       "Gr Liv Area          0.717596\n",
       "Overall Qual         0.801206\n",
       "SalePrice            1.000000\n",
       "Name: SalePrice, dtype: float64"
      ]
     },
     "execution_count": 17,
     "metadata": {},
     "output_type": "execute_result"
    }
   ],
   "source": [
    "sorted_corrs = numerical_df.corr()['SalePrice'].abs().sort_values()\n",
    "sorted_corrs"
   ]
  },
  {
   "cell_type": "markdown",
   "metadata": {},
   "source": [
    "Let's only look at the features with a correlation coefficient larger than 0.4. This is an arbitrary choice that is worth experimenting."
   ]
  },
  {
   "cell_type": "code",
   "execution_count": 18,
   "metadata": {},
   "outputs": [
    {
     "data": {
      "text/plain": [
       "BsmtFin SF 1         0.439284\n",
       "Fireplaces           0.474831\n",
       "TotRms AbvGrd        0.498574\n",
       "Mas Vnr Area         0.506983\n",
       "Years Since Remod    0.534985\n",
       "Full Bath            0.546118\n",
       "Years Before Sale    0.558979\n",
       "1st Flr SF           0.635185\n",
       "Garage Area          0.641425\n",
       "Total Bsmt SF        0.644012\n",
       "Garage Cars          0.648361\n",
       "Gr Liv Area          0.717596\n",
       "Overall Qual         0.801206\n",
       "SalePrice            1.000000\n",
       "Name: SalePrice, dtype: float64"
      ]
     },
     "execution_count": 18,
     "metadata": {},
     "output_type": "execute_result"
    }
   ],
   "source": [
    "strong_corrs = sorted_corrs[sorted_corrs > 0.4]\n",
    "strong_corrs"
   ]
  },
  {
   "cell_type": "markdown",
   "metadata": {},
   "source": [
    "We create a correlation matrix heatmap for the features that we kept (i.e., `strong_corrs`)."
   ]
  },
  {
   "cell_type": "code",
   "execution_count": 19,
   "metadata": {},
   "outputs": [
    {
     "data": {
      "image/png": "[encoded data removed]",
      "text/plain": [
       "<Figure size 432x288 with 2 Axes>"
      ]
     },
     "metadata": {
      "needs_background": "light"
     },
     "output_type": "display_data"
    }
   ],
   "source": [
    "# MS: Filter numerical_df using the indexes of strong_corrs and store the correlations to corrmat.\n",
    "corrmat = numerical_df[strong_corrs.index].corr()\n",
    "\n",
    "# MS: Use the seaborn.heatmap() function to generate a correlation matrix heatmap for the columns in strong_corrs.\n",
    "%matplotlib inline\n",
    "sns.heatmap(corrmat)\n",
    "plt.show()"
   ]
  },
  {
   "cell_type": "markdown",
   "metadata": {},
   "source": [
    "2) __In our transformed dataframe__, let's keep only the features with correlation coefficient larger than 0.4. Again, this is an arbitrary choice that is worth experimenting."
   ]
  },
  {
   "cell_type": "code",
   "execution_count": 20,
   "metadata": {},
   "outputs": [],
   "source": [
    "# Drop columns with less than 0.4 correlation coefficient\n",
    "transformed_df = transformed_df.drop(sorted_corrs[sorted_corrs < 0.4].index, axis=1)"
   ]
  },
  {
   "cell_type": "markdown",
   "metadata": {},
   "source": [
    "Let's visualize the first five rows of the transformed dataframe."
   ]
  },
  {
   "cell_type": "code",
   "execution_count": 21,
   "metadata": {},
   "outputs": [
    {
     "data": {
      "text/html": [
       "<div>\n",
       "<style scoped>\n",
       "    .dataframe tbody tr th:only-of-type {\n",
       "        vertical-align: middle;\n",
       "    }\n",
       "\n",
       "    .dataframe tbody tr th {\n",
       "        vertical-align: top;\n",
       "    }\n",
       "\n",
       "    .dataframe thead th {\n",
       "        text-align: right;\n",
       "    }\n",
       "</style>\n",
       "<table border=\"1\" class=\"dataframe\">\n",
       "  <thead>\n",
       "    <tr style=\"text-align: right;\">\n",
       "      <th></th>\n",
       "      <th>MS Zoning</th>\n",
       "      <th>Street</th>\n",
       "      <th>Lot Shape</th>\n",
       "      <th>Land Contour</th>\n",
       "      <th>Utilities</th>\n",
       "      <th>Lot Config</th>\n",
       "      <th>Land Slope</th>\n",
       "      <th>Neighborhood</th>\n",
       "      <th>Condition 1</th>\n",
       "      <th>Condition 2</th>\n",
       "      <th>...</th>\n",
       "      <th>Kitchen Qual</th>\n",
       "      <th>TotRms AbvGrd</th>\n",
       "      <th>Functional</th>\n",
       "      <th>Fireplaces</th>\n",
       "      <th>Garage Cars</th>\n",
       "      <th>Garage Area</th>\n",
       "      <th>Paved Drive</th>\n",
       "      <th>SalePrice</th>\n",
       "      <th>Years Before Sale</th>\n",
       "      <th>Years Since Remod</th>\n",
       "    </tr>\n",
       "  </thead>\n",
       "  <tbody>\n",
       "    <tr>\n",
       "      <th>0</th>\n",
       "      <td>RL</td>\n",
       "      <td>Pave</td>\n",
       "      <td>IR1</td>\n",
       "      <td>Lvl</td>\n",
       "      <td>AllPub</td>\n",
       "      <td>Corner</td>\n",
       "      <td>Gtl</td>\n",
       "      <td>NAmes</td>\n",
       "      <td>Norm</td>\n",
       "      <td>Norm</td>\n",
       "      <td>...</td>\n",
       "      <td>TA</td>\n",
       "      <td>7</td>\n",
       "      <td>Typ</td>\n",
       "      <td>2</td>\n",
       "      <td>2.0</td>\n",
       "      <td>528.0</td>\n",
       "      <td>P</td>\n",
       "      <td>215000</td>\n",
       "      <td>50</td>\n",
       "      <td>50</td>\n",
       "    </tr>\n",
       "    <tr>\n",
       "      <th>1</th>\n",
       "      <td>RH</td>\n",
       "      <td>Pave</td>\n",
       "      <td>Reg</td>\n",
       "      <td>Lvl</td>\n",
       "      <td>AllPub</td>\n",
       "      <td>Inside</td>\n",
       "      <td>Gtl</td>\n",
       "      <td>NAmes</td>\n",
       "      <td>Feedr</td>\n",
       "      <td>Norm</td>\n",
       "      <td>...</td>\n",
       "      <td>TA</td>\n",
       "      <td>5</td>\n",
       "      <td>Typ</td>\n",
       "      <td>0</td>\n",
       "      <td>1.0</td>\n",
       "      <td>730.0</td>\n",
       "      <td>Y</td>\n",
       "      <td>105000</td>\n",
       "      <td>49</td>\n",
       "      <td>49</td>\n",
       "    </tr>\n",
       "    <tr>\n",
       "      <th>2</th>\n",
       "      <td>RL</td>\n",
       "      <td>Pave</td>\n",
       "      <td>IR1</td>\n",
       "      <td>Lvl</td>\n",
       "      <td>AllPub</td>\n",
       "      <td>Corner</td>\n",
       "      <td>Gtl</td>\n",
       "      <td>NAmes</td>\n",
       "      <td>Norm</td>\n",
       "      <td>Norm</td>\n",
       "      <td>...</td>\n",
       "      <td>Gd</td>\n",
       "      <td>6</td>\n",
       "      <td>Typ</td>\n",
       "      <td>0</td>\n",
       "      <td>1.0</td>\n",
       "      <td>312.0</td>\n",
       "      <td>Y</td>\n",
       "      <td>172000</td>\n",
       "      <td>52</td>\n",
       "      <td>52</td>\n",
       "    </tr>\n",
       "    <tr>\n",
       "      <th>3</th>\n",
       "      <td>RL</td>\n",
       "      <td>Pave</td>\n",
       "      <td>Reg</td>\n",
       "      <td>Lvl</td>\n",
       "      <td>AllPub</td>\n",
       "      <td>Corner</td>\n",
       "      <td>Gtl</td>\n",
       "      <td>NAmes</td>\n",
       "      <td>Norm</td>\n",
       "      <td>Norm</td>\n",
       "      <td>...</td>\n",
       "      <td>Ex</td>\n",
       "      <td>8</td>\n",
       "      <td>Typ</td>\n",
       "      <td>2</td>\n",
       "      <td>2.0</td>\n",
       "      <td>522.0</td>\n",
       "      <td>Y</td>\n",
       "      <td>244000</td>\n",
       "      <td>42</td>\n",
       "      <td>42</td>\n",
       "    </tr>\n",
       "    <tr>\n",
       "      <th>4</th>\n",
       "      <td>RL</td>\n",
       "      <td>Pave</td>\n",
       "      <td>IR1</td>\n",
       "      <td>Lvl</td>\n",
       "      <td>AllPub</td>\n",
       "      <td>Inside</td>\n",
       "      <td>Gtl</td>\n",
       "      <td>Gilbert</td>\n",
       "      <td>Norm</td>\n",
       "      <td>Norm</td>\n",
       "      <td>...</td>\n",
       "      <td>TA</td>\n",
       "      <td>6</td>\n",
       "      <td>Typ</td>\n",
       "      <td>1</td>\n",
       "      <td>2.0</td>\n",
       "      <td>482.0</td>\n",
       "      <td>Y</td>\n",
       "      <td>189900</td>\n",
       "      <td>13</td>\n",
       "      <td>12</td>\n",
       "    </tr>\n",
       "  </tbody>\n",
       "</table>\n",
       "<p>5 rows × 39 columns</p>\n",
       "</div>"
      ],
      "text/plain": [
       "  MS Zoning Street Lot Shape Land Contour Utilities Lot Config Land Slope  \\\n",
       "0        RL   Pave       IR1          Lvl    AllPub     Corner        Gtl   \n",
       "1        RH   Pave       Reg          Lvl    AllPub     Inside        Gtl   \n",
       "2        RL   Pave       IR1          Lvl    AllPub     Corner        Gtl   \n",
       "3        RL   Pave       Reg          Lvl    AllPub     Corner        Gtl   \n",
       "4        RL   Pave       IR1          Lvl    AllPub     Inside        Gtl   \n",
       "\n",
       "  Neighborhood Condition 1 Condition 2  ... Kitchen Qual TotRms AbvGrd  \\\n",
       "0        NAmes        Norm        Norm  ...           TA             7   \n",
       "1        NAmes       Feedr        Norm  ...           TA             5   \n",
       "2        NAmes        Norm        Norm  ...           Gd             6   \n",
       "3        NAmes        Norm        Norm  ...           Ex             8   \n",
       "4      Gilbert        Norm        Norm  ...           TA             6   \n",
       "\n",
       "   Functional Fireplaces Garage Cars Garage Area Paved Drive  SalePrice  \\\n",
       "0         Typ          2         2.0       528.0           P     215000   \n",
       "1         Typ          0         1.0       730.0           Y     105000   \n",
       "2         Typ          0         1.0       312.0           Y     172000   \n",
       "3         Typ          2         2.0       522.0           Y     244000   \n",
       "4         Typ          1         2.0       482.0           Y     189900   \n",
       "\n",
       "  Years Before Sale Years Since Remod  \n",
       "0                50                50  \n",
       "1                49                49  \n",
       "2                52                52  \n",
       "3                42                42  \n",
       "4                13                12  \n",
       "\n",
       "[5 rows x 39 columns]"
      ]
     },
     "execution_count": 21,
     "metadata": {},
     "output_type": "execute_result"
    }
   ],
   "source": [
    "transformed_df.head()"
   ]
  },
  {
   "cell_type": "markdown",
   "metadata": {},
   "source": [
    "3) __Categorical columns__: which categorical columns should we keep?\n",
    "\n",
    "First of all, let's create a list of columns that according to the [documentation](https://s3.amazonaws.com/dq-content/307/data_description.txt) are meant to be categorical."
   ]
  },
  {
   "cell_type": "code",
   "execution_count": 22,
   "metadata": {},
   "outputs": [],
   "source": [
    "## Create a list of column names from documentation that are *meant* to be categorical\n",
    "nominal_features = [\"PID\", \"MS SubClass\", \"MS Zoning\", \"Street\", \"Alley\", \"Land Contour\", \"Lot Config\", \"Neighborhood\", \n",
    "                    \"Condition 1\", \"Condition 2\", \"Bldg Type\", \"House Style\", \"Roof Style\", \"Roof Matl\", \"Exterior 1st\", \n",
    "                    \"Exterior 2nd\", \"Mas Vnr Type\", \"Foundation\", \"Heating\", \"Central Air\", \"Garage Type\", \n",
    "                    \"Misc Feature\", \"Sale Type\", \"Sale Condition\"]"
   ]
  },
  {
   "cell_type": "markdown",
   "metadata": {},
   "source": [
    "Let's check which categorical columns listed in `nominal_features` are still present in the transformed dataframe `transformed_df`:"
   ]
  },
  {
   "cell_type": "code",
   "execution_count": 23,
   "metadata": {},
   "outputs": [],
   "source": [
    "transformed_df_cat_cols = []\n",
    "for col in nominal_features:\n",
    "    if col in transformed_df.columns:\n",
    "        transformed_df_cat_cols.append(col)"
   ]
  },
  {
   "cell_type": "code",
   "execution_count": 24,
   "metadata": {},
   "outputs": [
    {
     "data": {
      "text/plain": [
       "['MS Zoning',\n",
       " 'Street',\n",
       " 'Land Contour',\n",
       " 'Lot Config',\n",
       " 'Neighborhood',\n",
       " 'Condition 1',\n",
       " 'Condition 2',\n",
       " 'Bldg Type',\n",
       " 'House Style',\n",
       " 'Roof Style',\n",
       " 'Roof Matl',\n",
       " 'Exterior 1st',\n",
       " 'Exterior 2nd',\n",
       " 'Foundation',\n",
       " 'Heating',\n",
       " 'Central Air']"
      ]
     },
     "execution_count": 24,
     "metadata": {},
     "output_type": "execute_result"
    }
   ],
   "source": [
    "transformed_df_cat_cols"
   ]
  },
  {
   "cell_type": "markdown",
   "metadata": {},
   "source": [
    "If a categorical column has hundreds of unique values (or categories), it is probably better to drop it. The reason is that when we dummy code such a column, hundreds of columns will need to be added back to the data frame. So let's check how many unique values each categorical column in `transformed_df_cat_cols` has."
   ]
  },
  {
   "cell_type": "code",
   "execution_count": 25,
   "metadata": {},
   "outputs": [
    {
     "data": {
      "text/plain": [
       "Street           2\n",
       "Central Air      2\n",
       "Land Contour     4\n",
       "Lot Config       5\n",
       "Bldg Type        5\n",
       "Roof Style       6\n",
       "Foundation       6\n",
       "Heating          6\n",
       "MS Zoning        7\n",
       "Condition 2      8\n",
       "House Style      8\n",
       "Roof Matl        8\n",
       "Condition 1      9\n",
       "Exterior 1st    16\n",
       "Exterior 2nd    17\n",
       "Neighborhood    28\n",
       "dtype: int64"
      ]
     },
     "execution_count": 25,
     "metadata": {},
     "output_type": "execute_result"
    }
   ],
   "source": [
    "## How many unique values in each categorical column?\n",
    "uniqueness_counts = transformed_df[transformed_df_cat_cols].apply(lambda col: len(col.value_counts())).sort_values()\n",
    "uniqueness_counts"
   ]
  },
  {
   "cell_type": "markdown",
   "metadata": {},
   "source": [
    "We _decide_ to keep only those categorical columns that have at most 10 unique values. This cutoff is arbitrary and is worth experimenting."
   ]
  },
  {
   "cell_type": "code",
   "execution_count": 26,
   "metadata": {},
   "outputs": [],
   "source": [
    "## Aribtrary cutoff of 10 unique values (worth experimenting)\n",
    "drop_nonuniq_cols = uniqueness_counts[uniqueness_counts > 10].index\n",
    "drop_nonuniq_cols\n",
    "transformed_df = transformed_df.drop(drop_nonuniq_cols, axis=1)"
   ]
  },
  {
   "cell_type": "markdown",
   "metadata": {},
   "source": [
    "4) __Convert text columns to categorical and create dummy columns__.\n",
    "\n",
    "Let's convert to __category__ type those columns that are still of text (i.e., __object__) type. Then, for each categorical column, we create dummy columns that are added back to the dataframe. Finally, we drop the original text columns."
   ]
  },
  {
   "cell_type": "code",
   "execution_count": 27,
   "metadata": {},
   "outputs": [
    {
     "name": "stdout",
     "output_type": "stream",
     "text": [
      "MS Zoning: 7\n",
      "Street: 2\n",
      "Lot Shape: 4\n",
      "Land Contour: 4\n",
      "Utilities: 3\n",
      "Lot Config: 5\n",
      "Land Slope: 3\n",
      "Condition 1: 9\n",
      "Condition 2: 8\n",
      "Bldg Type: 5\n",
      "House Style: 8\n",
      "Roof Style: 6\n",
      "Roof Matl: 8\n",
      "Exter Qual: 4\n",
      "Exter Cond: 5\n",
      "Foundation: 6\n",
      "Heating: 6\n",
      "Heating QC: 5\n",
      "Central Air: 2\n",
      "Kitchen Qual: 5\n",
      "Functional: 8\n",
      "Paved Drive: 3\n"
     ]
    }
   ],
   "source": [
    "# MS: These are the text columns:\n",
    "text_cols = transformed_df.select_dtypes(include=['object'])\n",
    "\n",
    "# MS: Convert each column to the categorical data type\n",
    "for col in text_cols:\n",
    "    print(col+\":\", len(transformed_df[col].unique()))\n",
    "    transformed_df[col] = transformed_df[col].astype('category')\n",
    "\n",
    "# Create dummy columns, add back to the dataframe, and drop the original text columns:\n",
    "col_dummies = pd.get_dummies(transformed_df.select_dtypes(include=['category']))\n",
    "transformed_df = pd.concat([transformed_df, col_dummies], axis=1).drop(text_cols, axis=1)    "
   ]
  },
  {
   "cell_type": "markdown",
   "metadata": {},
   "source": [
    "5) __Wrapping it all up__. Let's update the function `select_features()` with all the operations described above. This function should take in the new, modified train and test data frames that were returned from `transform_features()`."
   ]
  },
  {
   "cell_type": "code",
   "execution_count": 28,
   "metadata": {},
   "outputs": [],
   "source": [
    "def select_features(df, coeff_threshold=0.4, uniq_threshold=10):\n",
    "    numerical_df = df.select_dtypes(include=['int', 'float'])\n",
    "    sorted_corrs = numerical_df.corr()['SalePrice'].abs().sort_values()\n",
    "    \n",
    "    # Drop columns with less than 0.4 correlation coefficient\n",
    "    df = df.drop(sorted_corrs[sorted_corrs < coeff_threshold].index, axis=1)\n",
    "    \n",
    "    ## Create a list of column names from documentation that are *meant* to be categorical\n",
    "    nominal_features = [\"PID\", \"MS SubClass\", \"MS Zoning\", \"Street\", \"Alley\", \"Land Contour\", \"Lot Config\", \"Neighborhood\",\n",
    "                        \"Condition 1\", \"Condition 2\", \"Bldg Type\", \"House Style\", \"Roof Style\", \"Roof Matl\", \"Exterior 1st\",\n",
    "                        \"Exterior 2nd\", \"Mas Vnr Type\", \"Foundation\", \"Heating\", \"Central Air\", \"Garage Type\",\n",
    "                        \"Misc Feature\", \"Sale Type\", \"Sale Condition\"]\n",
    "    \n",
    "    ## Which categorical columns are still present in the transformed_df? We'll test these\n",
    "    transformed_df_cat_cols = []\n",
    "    for col in nominal_features:\n",
    "        if col in df.columns:\n",
    "            transformed_df_cat_cols.append(col)\n",
    "            \n",
    "    uniqueness_counts = df[transformed_df_cat_cols].apply(lambda col: len(col.value_counts())).sort_values()\n",
    "    drop_nonuniq_cols = uniqueness_counts[uniqueness_counts > uniq_threshold].index\n",
    "    df = df.drop(drop_nonuniq_cols, axis=1)\n",
    "    \n",
    "    # MS: These are the text columns:\n",
    "    text_cols = df.select_dtypes(include=['object'])\n",
    "\n",
    "    # MS: Convert each column to the categorical data type\n",
    "    for col in text_cols:\n",
    "        # print(col+\":\", len(df[col].unique()))\n",
    "        df[col] = df[col].astype('category')\n",
    "\n",
    "    # Create dummy columns, add back to the dataframe, and drop the original text columns:\n",
    "    col_dummies = pd.get_dummies(df.select_dtypes(include=['category']))\n",
    "    df = pd.concat([df, col_dummies], axis=1).drop(text_cols, axis=1)\n",
    "    \n",
    "    return df"
   ]
  },
  {
   "cell_type": "markdown",
   "metadata": {
    "collapsed": true
   },
   "source": [
    "## 4. Train And Test"
   ]
  },
  {
   "cell_type": "markdown",
   "metadata": {},
   "source": [
    "For the final part of the pipeline, we have training and testing. We update the function `train_and_test` by adding a parameter parameter named `k` that controls the type of cross validation that occurs:\n",
    "- when k = 0, perform __*train/test validation*__;\n",
    "- when k = 1, perform __*simple cross validation*__;\n",
    "- when k is greater than 1, implement __*k-fold cross validation*__ using k folds."
   ]
  },
  {
   "cell_type": "code",
   "execution_count": 29,
   "metadata": {},
   "outputs": [],
   "source": [
    "def train_and_test(df, k=0):\n",
    "    numeric_df = df.select_dtypes(include=['integer', 'float'])\n",
    "    \n",
    "    # Trains a model using all numerical columns except the SalePrice column\n",
    "    features = numeric_df.columns.drop('SalePrice')\n",
    "    \n",
    "    lr = LinearRegression()\n",
    " \n",
    "    if k == 0:\n",
    "        # When k = 0, perform train/test validation\n",
    "        train = df[0:1460]\n",
    "        test = df[1460:]\n",
    "        \n",
    "        # Fit on train set and make prediction on the test set\n",
    "        lr.fit(train[features], train['SalePrice'])\n",
    "        test_predictions = lr.predict(test[features])\n",
    "        test_rmse = np.sqrt(mean_squared_error(test_predictions, test['SalePrice']))\n",
    "        \n",
    "        return test_rmse\n",
    "    \n",
    "    if k == 1:\n",
    "        # When k = 1, perform simple cross validation\n",
    "        # Shuffle the ordering of the rows in the dataframe\n",
    "        # frac=1 mean *all rows*\n",
    "        shuffled_df = df.sample(frac=1, )\n",
    "        fold_one = df[0:1460]\n",
    "        fold_two = df[1460:]\n",
    "        \n",
    "        # Train on fold_one and test on fold_two.\n",
    "        lr.fit(fold_one[features], fold_one['SalePrice'])\n",
    "        fold_two_predictions = lr.predict(fold_two[features])\n",
    "        fold_two_rmse = np.sqrt(mean_squared_error(fold_two_predictions, fold_two['SalePrice']))\n",
    "        \n",
    "        # Train on fold_two and test on fold_one.\n",
    "        lr.fit(fold_two[features], fold_two['SalePrice'])\n",
    "        fold_one_predictions = lr.predict(fold_one[features])\n",
    "        fold_one_rmse = np.sqrt(mean_squared_error(fold_one_predictions, fold_one['SalePrice']))\n",
    "        \n",
    "        # Compute the average RMSE and return.\n",
    "        print(fold_one_rmse)\n",
    "        print(fold_two_rmse)\n",
    "        avg_rmse = np.mean([fold_two_rmse, fold_one_rmse])\n",
    "        \n",
    "        return avg_rmse\n",
    "    \n",
    "    else:\n",
    "        # When k is greater than 1, implement k-fold cross validation using k folds:\n",
    "        kf = KFold(n_splits=k, shuffle=True)\n",
    "        rmse_values = []\n",
    "        # Perform k-fold cross validation using k folds.\n",
    "        for train_index, test_index, in kf.split(df):\n",
    "            train = df.iloc[train_index]\n",
    "            test = df.iloc[test_index]\n",
    "            lr.fit(train[features], train['SalePrice'])\n",
    "            predictions = lr.predict(test[features])\n",
    "            rmse = np.sqrt(mean_squared_error(predictions, test['SalePrice']))\n",
    "            rmse_values.append(rmse)\n",
    "        # print(rmse_values)\n",
    "        avg_rmse = np.mean(rmse_values)\n",
    "        return avg_rmse"
   ]
  },
  {
   "cell_type": "markdown",
   "metadata": {
    "collapsed": true
   },
   "source": [
    "Now we use our function pipeline to perform train and test using k-fold cross validation with 5 folds."
   ]
  },
  {
   "cell_type": "code",
   "execution_count": 30,
   "metadata": {},
   "outputs": [
    {
     "name": "stdout",
     "output_type": "stream",
     "text": [
      "Average RMSE: 28954.85\n"
     ]
    }
   ],
   "source": [
    "df = pd.read_csv(\"AmesHousing.tsv\", delimiter=\"\\t\")\n",
    "transformed_df = transform_features(df)\n",
    "filtered_df = select_features(transformed_df)\n",
    "rmse = train_and_test(filtered_df, k=5)\n",
    "\n",
    "print(\"Average RMSE: {:0.2f}\".format(rmse))"
   ]
  },
  {
   "cell_type": "markdown",
   "metadata": {
    "variables": {
     " \"{:0.2f}\".format(rmse) ": "28954.85"
    }
   },
   "source": [
    "The average RMSE is {{ \"{:0.2f}\".format(rmse) }}, which represents a big improvement with respect to the previous values of 57088 and 55275."
   ]
  }
 ],
 "metadata": {
  "anaconda-cloud": {},
  "kernelspec": {
   "display_name": "Python 3",
   "language": "python",
   "name": "python3"
  },
  "language_info": {
   "codemirror_mode": {
    "name": "ipython",
    "version": 3
   },
   "file_extension": ".py",
   "mimetype": "text/x-python",
   "name": "python",
   "nbconvert_exporter": "python",
   "pygments_lexer": "ipython3",
   "version": "3.7.6"
  }
 },
 "nbformat": 4,
 "nbformat_minor": 2
}

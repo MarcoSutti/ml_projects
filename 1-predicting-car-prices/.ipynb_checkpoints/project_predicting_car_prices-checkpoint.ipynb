{
 "cells": [
  {
   "cell_type": "markdown",
   "metadata": {},
   "source": [
    "# Predicting Car Prices with k-Nearest Neighbors\n",
    "\n",
    "In this project, we use the __k-nearest neighbors algorithm__ to predict a car's market price using its attributes. The data set we work with contains information on various cars. The feature columns describe the technical aspects of the vehicle such as the motor's displacement, the weight of the car, the miles per gallon, how fast the car accelerates, etc. The data set can be downloaded from [here](https://archive.ics.uci.edu/ml/machine-learning-databases/autos/imports-85.data), and more information can be found [here](https://archive.ics.uci.edu/ml/datasets/automobile)."
   ]
  },
  {
   "cell_type": "markdown",
   "metadata": {},
   "source": [
    "## 1. Introduction to the data set"
   ]
  },
  {
   "cell_type": "code",
   "execution_count": 1,
   "metadata": {},
   "outputs": [],
   "source": [
    "import pandas as pd\n",
    "import numpy as np"
   ]
  },
  {
   "cell_type": "markdown",
   "metadata": {},
   "source": [
    "We read `imports-85.data` into a dataframe `cars`."
   ]
  },
  {
   "cell_type": "code",
   "execution_count": 2,
   "metadata": {},
   "outputs": [],
   "source": [
    "cars = pd.read_csv('imports-85.data')"
   ]
  },
  {
   "cell_type": "code",
   "execution_count": 3,
   "metadata": {
    "jupyter": {
     "outputs_hidden": false
    }
   },
   "outputs": [],
   "source": [
    "pd.set_option('display.max_columns', None) # to display all the columns"
   ]
  },
  {
   "cell_type": "markdown",
   "metadata": {},
   "source": [
    "Let's have a look at the first five rows of the data set:"
   ]
  },
  {
   "cell_type": "code",
   "execution_count": 4,
   "metadata": {
    "jupyter": {
     "outputs_hidden": false
    }
   },
   "outputs": [
    {
     "data": {
      "text/html": [
       "<div>\n",
       "<style scoped>\n",
       "    .dataframe tbody tr th:only-of-type {\n",
       "        vertical-align: middle;\n",
       "    }\n",
       "\n",
       "    .dataframe tbody tr th {\n",
       "        vertical-align: top;\n",
       "    }\n",
       "\n",
       "    .dataframe thead th {\n",
       "        text-align: right;\n",
       "    }\n",
       "</style>\n",
       "<table border=\"1\" class=\"dataframe\">\n",
       "  <thead>\n",
       "    <tr style=\"text-align: right;\">\n",
       "      <th></th>\n",
       "      <th>3</th>\n",
       "      <th>?</th>\n",
       "      <th>alfa-romero</th>\n",
       "      <th>gas</th>\n",
       "      <th>std</th>\n",
       "      <th>two</th>\n",
       "      <th>convertible</th>\n",
       "      <th>rwd</th>\n",
       "      <th>front</th>\n",
       "      <th>88.60</th>\n",
       "      <th>168.80</th>\n",
       "      <th>64.10</th>\n",
       "      <th>48.80</th>\n",
       "      <th>2548</th>\n",
       "      <th>dohc</th>\n",
       "      <th>four</th>\n",
       "      <th>130</th>\n",
       "      <th>mpfi</th>\n",
       "      <th>3.47</th>\n",
       "      <th>2.68</th>\n",
       "      <th>9.00</th>\n",
       "      <th>111</th>\n",
       "      <th>5000</th>\n",
       "      <th>21</th>\n",
       "      <th>27</th>\n",
       "      <th>13495</th>\n",
       "    </tr>\n",
       "  </thead>\n",
       "  <tbody>\n",
       "    <tr>\n",
       "      <th>0</th>\n",
       "      <td>3</td>\n",
       "      <td>?</td>\n",
       "      <td>alfa-romero</td>\n",
       "      <td>gas</td>\n",
       "      <td>std</td>\n",
       "      <td>two</td>\n",
       "      <td>convertible</td>\n",
       "      <td>rwd</td>\n",
       "      <td>front</td>\n",
       "      <td>88.6</td>\n",
       "      <td>168.8</td>\n",
       "      <td>64.1</td>\n",
       "      <td>48.8</td>\n",
       "      <td>2548</td>\n",
       "      <td>dohc</td>\n",
       "      <td>four</td>\n",
       "      <td>130</td>\n",
       "      <td>mpfi</td>\n",
       "      <td>3.47</td>\n",
       "      <td>2.68</td>\n",
       "      <td>9.0</td>\n",
       "      <td>111</td>\n",
       "      <td>5000</td>\n",
       "      <td>21</td>\n",
       "      <td>27</td>\n",
       "      <td>16500</td>\n",
       "    </tr>\n",
       "    <tr>\n",
       "      <th>1</th>\n",
       "      <td>1</td>\n",
       "      <td>?</td>\n",
       "      <td>alfa-romero</td>\n",
       "      <td>gas</td>\n",
       "      <td>std</td>\n",
       "      <td>two</td>\n",
       "      <td>hatchback</td>\n",
       "      <td>rwd</td>\n",
       "      <td>front</td>\n",
       "      <td>94.5</td>\n",
       "      <td>171.2</td>\n",
       "      <td>65.5</td>\n",
       "      <td>52.4</td>\n",
       "      <td>2823</td>\n",
       "      <td>ohcv</td>\n",
       "      <td>six</td>\n",
       "      <td>152</td>\n",
       "      <td>mpfi</td>\n",
       "      <td>2.68</td>\n",
       "      <td>3.47</td>\n",
       "      <td>9.0</td>\n",
       "      <td>154</td>\n",
       "      <td>5000</td>\n",
       "      <td>19</td>\n",
       "      <td>26</td>\n",
       "      <td>16500</td>\n",
       "    </tr>\n",
       "    <tr>\n",
       "      <th>2</th>\n",
       "      <td>2</td>\n",
       "      <td>164</td>\n",
       "      <td>audi</td>\n",
       "      <td>gas</td>\n",
       "      <td>std</td>\n",
       "      <td>four</td>\n",
       "      <td>sedan</td>\n",
       "      <td>fwd</td>\n",
       "      <td>front</td>\n",
       "      <td>99.8</td>\n",
       "      <td>176.6</td>\n",
       "      <td>66.2</td>\n",
       "      <td>54.3</td>\n",
       "      <td>2337</td>\n",
       "      <td>ohc</td>\n",
       "      <td>four</td>\n",
       "      <td>109</td>\n",
       "      <td>mpfi</td>\n",
       "      <td>3.19</td>\n",
       "      <td>3.40</td>\n",
       "      <td>10.0</td>\n",
       "      <td>102</td>\n",
       "      <td>5500</td>\n",
       "      <td>24</td>\n",
       "      <td>30</td>\n",
       "      <td>13950</td>\n",
       "    </tr>\n",
       "    <tr>\n",
       "      <th>3</th>\n",
       "      <td>2</td>\n",
       "      <td>164</td>\n",
       "      <td>audi</td>\n",
       "      <td>gas</td>\n",
       "      <td>std</td>\n",
       "      <td>four</td>\n",
       "      <td>sedan</td>\n",
       "      <td>4wd</td>\n",
       "      <td>front</td>\n",
       "      <td>99.4</td>\n",
       "      <td>176.6</td>\n",
       "      <td>66.4</td>\n",
       "      <td>54.3</td>\n",
       "      <td>2824</td>\n",
       "      <td>ohc</td>\n",
       "      <td>five</td>\n",
       "      <td>136</td>\n",
       "      <td>mpfi</td>\n",
       "      <td>3.19</td>\n",
       "      <td>3.40</td>\n",
       "      <td>8.0</td>\n",
       "      <td>115</td>\n",
       "      <td>5500</td>\n",
       "      <td>18</td>\n",
       "      <td>22</td>\n",
       "      <td>17450</td>\n",
       "    </tr>\n",
       "    <tr>\n",
       "      <th>4</th>\n",
       "      <td>2</td>\n",
       "      <td>?</td>\n",
       "      <td>audi</td>\n",
       "      <td>gas</td>\n",
       "      <td>std</td>\n",
       "      <td>two</td>\n",
       "      <td>sedan</td>\n",
       "      <td>fwd</td>\n",
       "      <td>front</td>\n",
       "      <td>99.8</td>\n",
       "      <td>177.3</td>\n",
       "      <td>66.3</td>\n",
       "      <td>53.1</td>\n",
       "      <td>2507</td>\n",
       "      <td>ohc</td>\n",
       "      <td>five</td>\n",
       "      <td>136</td>\n",
       "      <td>mpfi</td>\n",
       "      <td>3.19</td>\n",
       "      <td>3.40</td>\n",
       "      <td>8.5</td>\n",
       "      <td>110</td>\n",
       "      <td>5500</td>\n",
       "      <td>19</td>\n",
       "      <td>25</td>\n",
       "      <td>15250</td>\n",
       "    </tr>\n",
       "  </tbody>\n",
       "</table>\n",
       "</div>"
      ],
      "text/plain": [
       "   3    ?  alfa-romero  gas  std   two  convertible  rwd  front  88.60  \\\n",
       "0  3    ?  alfa-romero  gas  std   two  convertible  rwd  front   88.6   \n",
       "1  1    ?  alfa-romero  gas  std   two    hatchback  rwd  front   94.5   \n",
       "2  2  164         audi  gas  std  four        sedan  fwd  front   99.8   \n",
       "3  2  164         audi  gas  std  four        sedan  4wd  front   99.4   \n",
       "4  2    ?         audi  gas  std   two        sedan  fwd  front   99.8   \n",
       "\n",
       "   168.80  64.10  48.80  2548  dohc  four  130  mpfi  3.47  2.68  9.00  111  \\\n",
       "0   168.8   64.1   48.8  2548  dohc  four  130  mpfi  3.47  2.68   9.0  111   \n",
       "1   171.2   65.5   52.4  2823  ohcv   six  152  mpfi  2.68  3.47   9.0  154   \n",
       "2   176.6   66.2   54.3  2337   ohc  four  109  mpfi  3.19  3.40  10.0  102   \n",
       "3   176.6   66.4   54.3  2824   ohc  five  136  mpfi  3.19  3.40   8.0  115   \n",
       "4   177.3   66.3   53.1  2507   ohc  five  136  mpfi  3.19  3.40   8.5  110   \n",
       "\n",
       "   5000  21  27  13495  \n",
       "0  5000  21  27  16500  \n",
       "1  5000  19  26  16500  \n",
       "2  5500  24  30  13950  \n",
       "3  5500  18  22  17450  \n",
       "4  5500  19  25  15250  "
      ]
     },
     "execution_count": 4,
     "metadata": {},
     "output_type": "execute_result"
    }
   ],
   "source": [
    "cars.head() # print the first five rows"
   ]
  },
  {
   "cell_type": "markdown",
   "metadata": {},
   "source": [
    "As we can see, the dataframe has no header. We use the documentation on the data source website to create a list of column names and pass it as an argument to the `read_csv` method."
   ]
  },
  {
   "cell_type": "code",
   "execution_count": 5,
   "metadata": {
    "jupyter": {
     "outputs_hidden": true
    }
   },
   "outputs": [],
   "source": [
    "columns_name = ['symboling','normalized_losses','make','fuel_type','aspiration','num_doors','body_style','drive_wheels','engine_location','wheel_base','length','width','height','curb_weight','engine_type','num_cylinders','engine_size','fuel_system','bore','stroke','compression_ratio','horsepower','peak_rpm','city_mpg','highway_mpg','price']"
   ]
  },
  {
   "cell_type": "markdown",
   "metadata": {},
   "source": [
    "Now let's read the data again, and pass the `columns_name` list as input argument to `read_csv`:"
   ]
  },
  {
   "cell_type": "code",
   "execution_count": 6,
   "metadata": {
    "jupyter": {
     "outputs_hidden": true
    }
   },
   "outputs": [],
   "source": [
    "cars = pd.read_csv('imports-85.data', header=None, names=columns_name)"
   ]
  },
  {
   "cell_type": "code",
   "execution_count": 7,
   "metadata": {
    "jupyter": {
     "outputs_hidden": false
    }
   },
   "outputs": [
    {
     "data": {
      "text/html": [
       "<div>\n",
       "<style scoped>\n",
       "    .dataframe tbody tr th:only-of-type {\n",
       "        vertical-align: middle;\n",
       "    }\n",
       "\n",
       "    .dataframe tbody tr th {\n",
       "        vertical-align: top;\n",
       "    }\n",
       "\n",
       "    .dataframe thead th {\n",
       "        text-align: right;\n",
       "    }\n",
       "</style>\n",
       "<table border=\"1\" class=\"dataframe\">\n",
       "  <thead>\n",
       "    <tr style=\"text-align: right;\">\n",
       "      <th></th>\n",
       "      <th>symboling</th>\n",
       "      <th>normalized_losses</th>\n",
       "      <th>make</th>\n",
       "      <th>fuel_type</th>\n",
       "      <th>aspiration</th>\n",
       "      <th>num_doors</th>\n",
       "      <th>body_style</th>\n",
       "      <th>drive_wheels</th>\n",
       "      <th>engine_location</th>\n",
       "      <th>wheel_base</th>\n",
       "      <th>length</th>\n",
       "      <th>width</th>\n",
       "      <th>height</th>\n",
       "      <th>curb_weight</th>\n",
       "      <th>engine_type</th>\n",
       "      <th>num_cylinders</th>\n",
       "      <th>engine_size</th>\n",
       "      <th>fuel_system</th>\n",
       "      <th>bore</th>\n",
       "      <th>stroke</th>\n",
       "      <th>compression_ratio</th>\n",
       "      <th>horsepower</th>\n",
       "      <th>peak_rpm</th>\n",
       "      <th>city_mpg</th>\n",
       "      <th>highway_mpg</th>\n",
       "      <th>price</th>\n",
       "    </tr>\n",
       "  </thead>\n",
       "  <tbody>\n",
       "    <tr>\n",
       "      <th>0</th>\n",
       "      <td>3</td>\n",
       "      <td>?</td>\n",
       "      <td>alfa-romero</td>\n",
       "      <td>gas</td>\n",
       "      <td>std</td>\n",
       "      <td>two</td>\n",
       "      <td>convertible</td>\n",
       "      <td>rwd</td>\n",
       "      <td>front</td>\n",
       "      <td>88.6</td>\n",
       "      <td>168.8</td>\n",
       "      <td>64.1</td>\n",
       "      <td>48.8</td>\n",
       "      <td>2548</td>\n",
       "      <td>dohc</td>\n",
       "      <td>four</td>\n",
       "      <td>130</td>\n",
       "      <td>mpfi</td>\n",
       "      <td>3.47</td>\n",
       "      <td>2.68</td>\n",
       "      <td>9.0</td>\n",
       "      <td>111</td>\n",
       "      <td>5000</td>\n",
       "      <td>21</td>\n",
       "      <td>27</td>\n",
       "      <td>13495</td>\n",
       "    </tr>\n",
       "    <tr>\n",
       "      <th>1</th>\n",
       "      <td>3</td>\n",
       "      <td>?</td>\n",
       "      <td>alfa-romero</td>\n",
       "      <td>gas</td>\n",
       "      <td>std</td>\n",
       "      <td>two</td>\n",
       "      <td>convertible</td>\n",
       "      <td>rwd</td>\n",
       "      <td>front</td>\n",
       "      <td>88.6</td>\n",
       "      <td>168.8</td>\n",
       "      <td>64.1</td>\n",
       "      <td>48.8</td>\n",
       "      <td>2548</td>\n",
       "      <td>dohc</td>\n",
       "      <td>four</td>\n",
       "      <td>130</td>\n",
       "      <td>mpfi</td>\n",
       "      <td>3.47</td>\n",
       "      <td>2.68</td>\n",
       "      <td>9.0</td>\n",
       "      <td>111</td>\n",
       "      <td>5000</td>\n",
       "      <td>21</td>\n",
       "      <td>27</td>\n",
       "      <td>16500</td>\n",
       "    </tr>\n",
       "    <tr>\n",
       "      <th>2</th>\n",
       "      <td>1</td>\n",
       "      <td>?</td>\n",
       "      <td>alfa-romero</td>\n",
       "      <td>gas</td>\n",
       "      <td>std</td>\n",
       "      <td>two</td>\n",
       "      <td>hatchback</td>\n",
       "      <td>rwd</td>\n",
       "      <td>front</td>\n",
       "      <td>94.5</td>\n",
       "      <td>171.2</td>\n",
       "      <td>65.5</td>\n",
       "      <td>52.4</td>\n",
       "      <td>2823</td>\n",
       "      <td>ohcv</td>\n",
       "      <td>six</td>\n",
       "      <td>152</td>\n",
       "      <td>mpfi</td>\n",
       "      <td>2.68</td>\n",
       "      <td>3.47</td>\n",
       "      <td>9.0</td>\n",
       "      <td>154</td>\n",
       "      <td>5000</td>\n",
       "      <td>19</td>\n",
       "      <td>26</td>\n",
       "      <td>16500</td>\n",
       "    </tr>\n",
       "    <tr>\n",
       "      <th>3</th>\n",
       "      <td>2</td>\n",
       "      <td>164</td>\n",
       "      <td>audi</td>\n",
       "      <td>gas</td>\n",
       "      <td>std</td>\n",
       "      <td>four</td>\n",
       "      <td>sedan</td>\n",
       "      <td>fwd</td>\n",
       "      <td>front</td>\n",
       "      <td>99.8</td>\n",
       "      <td>176.6</td>\n",
       "      <td>66.2</td>\n",
       "      <td>54.3</td>\n",
       "      <td>2337</td>\n",
       "      <td>ohc</td>\n",
       "      <td>four</td>\n",
       "      <td>109</td>\n",
       "      <td>mpfi</td>\n",
       "      <td>3.19</td>\n",
       "      <td>3.40</td>\n",
       "      <td>10.0</td>\n",
       "      <td>102</td>\n",
       "      <td>5500</td>\n",
       "      <td>24</td>\n",
       "      <td>30</td>\n",
       "      <td>13950</td>\n",
       "    </tr>\n",
       "    <tr>\n",
       "      <th>4</th>\n",
       "      <td>2</td>\n",
       "      <td>164</td>\n",
       "      <td>audi</td>\n",
       "      <td>gas</td>\n",
       "      <td>std</td>\n",
       "      <td>four</td>\n",
       "      <td>sedan</td>\n",
       "      <td>4wd</td>\n",
       "      <td>front</td>\n",
       "      <td>99.4</td>\n",
       "      <td>176.6</td>\n",
       "      <td>66.4</td>\n",
       "      <td>54.3</td>\n",
       "      <td>2824</td>\n",
       "      <td>ohc</td>\n",
       "      <td>five</td>\n",
       "      <td>136</td>\n",
       "      <td>mpfi</td>\n",
       "      <td>3.19</td>\n",
       "      <td>3.40</td>\n",
       "      <td>8.0</td>\n",
       "      <td>115</td>\n",
       "      <td>5500</td>\n",
       "      <td>18</td>\n",
       "      <td>22</td>\n",
       "      <td>17450</td>\n",
       "    </tr>\n",
       "  </tbody>\n",
       "</table>\n",
       "</div>"
      ],
      "text/plain": [
       "   symboling normalized_losses         make fuel_type aspiration num_doors  \\\n",
       "0          3                 ?  alfa-romero       gas        std       two   \n",
       "1          3                 ?  alfa-romero       gas        std       two   \n",
       "2          1                 ?  alfa-romero       gas        std       two   \n",
       "3          2               164         audi       gas        std      four   \n",
       "4          2               164         audi       gas        std      four   \n",
       "\n",
       "    body_style drive_wheels engine_location  wheel_base  length  width  \\\n",
       "0  convertible          rwd           front        88.6   168.8   64.1   \n",
       "1  convertible          rwd           front        88.6   168.8   64.1   \n",
       "2    hatchback          rwd           front        94.5   171.2   65.5   \n",
       "3        sedan          fwd           front        99.8   176.6   66.2   \n",
       "4        sedan          4wd           front        99.4   176.6   66.4   \n",
       "\n",
       "   height  curb_weight engine_type num_cylinders  engine_size fuel_system  \\\n",
       "0    48.8         2548        dohc          four          130        mpfi   \n",
       "1    48.8         2548        dohc          four          130        mpfi   \n",
       "2    52.4         2823        ohcv           six          152        mpfi   \n",
       "3    54.3         2337         ohc          four          109        mpfi   \n",
       "4    54.3         2824         ohc          five          136        mpfi   \n",
       "\n",
       "   bore stroke  compression_ratio horsepower peak_rpm  city_mpg  highway_mpg  \\\n",
       "0  3.47   2.68                9.0        111     5000        21           27   \n",
       "1  3.47   2.68                9.0        111     5000        21           27   \n",
       "2  2.68   3.47                9.0        154     5000        19           26   \n",
       "3  3.19   3.40               10.0        102     5500        24           30   \n",
       "4  3.19   3.40                8.0        115     5500        18           22   \n",
       "\n",
       "   price  \n",
       "0  13495  \n",
       "1  16500  \n",
       "2  16500  \n",
       "3  13950  \n",
       "4  17450  "
      ]
     },
     "execution_count": 7,
     "metadata": {},
     "output_type": "execute_result"
    }
   ],
   "source": [
    "cars.head() # print the first five rows"
   ]
  },
  {
   "cell_type": "markdown",
   "metadata": {},
   "source": [
    "Now the dataframe has an appropriate header. "
   ]
  },
  {
   "cell_type": "markdown",
   "metadata": {},
   "source": [
    "The columns that are numeric and can be used as features are: `symboling`, `normalized_losses`, `wheel_base`, `length`, `width`, `height`, `curb_weight`, `engine_size`, `bore`, `stroke`, `compression_ratio`, `horsepower`, `peak_rpm`, `city_mpg`, and `highway_mpg`."
   ]
  },
  {
   "cell_type": "markdown",
   "metadata": {},
   "source": [
    "The target column will be `price`."
   ]
  },
  {
   "cell_type": "markdown",
   "metadata": {},
   "source": [
    "## 2. Data Cleaning"
   ]
  },
  {
   "cell_type": "markdown",
   "metadata": {},
   "source": [
    "1) __Missing values__.\n",
    "We usually do not want any missing values if we want to use them for predictive modeling. However, as we can see in the above preview, the `normalized_losses` column contains missing values represented using `?`. We use the `DataFrame.replace()` method to replace all of the `?` values with the `numpy.nan` missing value."
   ]
  },
  {
   "cell_type": "code",
   "execution_count": 8,
   "metadata": {
    "jupyter": {
     "outputs_hidden": false
    }
   },
   "outputs": [],
   "source": [
    "cars = cars.replace(to_replace='?', value=np.nan)"
   ]
  },
  {
   "cell_type": "markdown",
   "metadata": {},
   "source": [
    "Because `?` is a string value, columns containing this value were cast to the pandas `object` data type (instead of a numeric type like `int` or `float`). Let's check which columns still need to be converted to numeric types:"
   ]
  },
  {
   "cell_type": "code",
   "execution_count": 9,
   "metadata": {
    "jupyter": {
     "outputs_hidden": false
    },
    "scrolled": true
   },
   "outputs": [
    {
     "name": "stdout",
     "output_type": "stream",
     "text": [
      "<class 'pandas.core.frame.DataFrame'>\n",
      "RangeIndex: 205 entries, 0 to 204\n",
      "Data columns (total 26 columns):\n",
      " #   Column             Non-Null Count  Dtype  \n",
      "---  ------             --------------  -----  \n",
      " 0   symboling          205 non-null    int64  \n",
      " 1   normalized_losses  164 non-null    object \n",
      " 2   make               205 non-null    object \n",
      " 3   fuel_type          205 non-null    object \n",
      " 4   aspiration         205 non-null    object \n",
      " 5   num_doors          203 non-null    object \n",
      " 6   body_style         205 non-null    object \n",
      " 7   drive_wheels       205 non-null    object \n",
      " 8   engine_location    205 non-null    object \n",
      " 9   wheel_base         205 non-null    float64\n",
      " 10  length             205 non-null    float64\n",
      " 11  width              205 non-null    float64\n",
      " 12  height             205 non-null    float64\n",
      " 13  curb_weight        205 non-null    int64  \n",
      " 14  engine_type        205 non-null    object \n",
      " 15  num_cylinders      205 non-null    object \n",
      " 16  engine_size        205 non-null    int64  \n",
      " 17  fuel_system        205 non-null    object \n",
      " 18  bore               201 non-null    object \n",
      " 19  stroke             201 non-null    object \n",
      " 20  compression_ratio  205 non-null    float64\n",
      " 21  horsepower         203 non-null    object \n",
      " 22  peak_rpm           203 non-null    object \n",
      " 23  city_mpg           205 non-null    int64  \n",
      " 24  highway_mpg        205 non-null    int64  \n",
      " 25  price              201 non-null    object \n",
      "dtypes: float64(5), int64(5), object(16)\n",
      "memory usage: 41.8+ KB\n"
     ]
    }
   ],
   "source": [
    "cars.info()"
   ]
  },
  {
   "cell_type": "markdown",
   "metadata": {},
   "source": [
    "2) __Conversion to numeric type__. It seems that we should convert to numeric types the columns `normalized_losses`, `bore`, `stroke`, `horsepower`, `peak_rpm`, and `price`. We create a list of columns to convert, and convert them using ` DataFrame.astype()`."
   ]
  },
  {
   "cell_type": "code",
   "execution_count": 10,
   "metadata": {
    "jupyter": {
     "outputs_hidden": false
    }
   },
   "outputs": [],
   "source": [
    "columns_to_convert = ['normalized_losses', 'bore', 'stroke', 'horsepower', 'peak_rpm', 'price']\n",
    "cars[columns_to_convert] = cars[columns_to_convert].astype('float')"
   ]
  },
  {
   "cell_type": "code",
   "execution_count": 11,
   "metadata": {
    "jupyter": {
     "outputs_hidden": false
    }
   },
   "outputs": [
    {
     "name": "stdout",
     "output_type": "stream",
     "text": [
      "<class 'pandas.core.frame.DataFrame'>\n",
      "RangeIndex: 205 entries, 0 to 204\n",
      "Data columns (total 26 columns):\n",
      " #   Column             Non-Null Count  Dtype  \n",
      "---  ------             --------------  -----  \n",
      " 0   symboling          205 non-null    int64  \n",
      " 1   normalized_losses  164 non-null    float64\n",
      " 2   make               205 non-null    object \n",
      " 3   fuel_type          205 non-null    object \n",
      " 4   aspiration         205 non-null    object \n",
      " 5   num_doors          203 non-null    object \n",
      " 6   body_style         205 non-null    object \n",
      " 7   drive_wheels       205 non-null    object \n",
      " 8   engine_location    205 non-null    object \n",
      " 9   wheel_base         205 non-null    float64\n",
      " 10  length             205 non-null    float64\n",
      " 11  width              205 non-null    float64\n",
      " 12  height             205 non-null    float64\n",
      " 13  curb_weight        205 non-null    int64  \n",
      " 14  engine_type        205 non-null    object \n",
      " 15  num_cylinders      205 non-null    object \n",
      " 16  engine_size        205 non-null    int64  \n",
      " 17  fuel_system        205 non-null    object \n",
      " 18  bore               201 non-null    float64\n",
      " 19  stroke             201 non-null    float64\n",
      " 20  compression_ratio  205 non-null    float64\n",
      " 21  horsepower         203 non-null    float64\n",
      " 22  peak_rpm           203 non-null    float64\n",
      " 23  city_mpg           205 non-null    int64  \n",
      " 24  highway_mpg        205 non-null    int64  \n",
      " 25  price              201 non-null    float64\n",
      "dtypes: float64(11), int64(5), object(10)\n",
      "memory usage: 41.8+ KB\n"
     ]
    }
   ],
   "source": [
    "cars.info()"
   ]
  },
  {
   "cell_type": "markdown",
   "metadata": {},
   "source": [
    "It looks fine now, as the columns with numerical values are of numeric types."
   ]
  },
  {
   "cell_type": "markdown",
   "metadata": {},
   "source": [
    "3) __Handling of missing values__. Now let's explore the missing values in the dataframe.\n",
    "We have three main options for handling missing values:\n",
    "- __*Drop the column entirely*__, if many values are missing in that column.\n",
    "- __*Replace the missing values*__ using the __*average*__ values from that column.\n",
    "- __*Drop the row entirely*__ (especially if other columns in those rows have missing values).\n",
    "\n",
    "First, let us check the number of rows that have a missing value for the `normalized_losses` column."
   ]
  },
  {
   "cell_type": "code",
   "execution_count": 12,
   "metadata": {
    "jupyter": {
     "outputs_hidden": false
    }
   },
   "outputs": [
    {
     "data": {
      "text/plain": [
       "41"
      ]
     },
     "execution_count": 12,
     "metadata": {},
     "output_type": "execute_result"
    }
   ],
   "source": [
    "cars['normalized_losses'].isna().sum()"
   ]
  },
  {
   "cell_type": "markdown",
   "metadata": {},
   "source": [
    "There are 41 NaN values, out of a total of 205 values, i.e., 20% of the values in the `normalized_losses` column are NaN. Let's explore the missing value counts for the other numeric columns: "
   ]
  },
  {
   "cell_type": "code",
   "execution_count": 13,
   "metadata": {
    "jupyter": {
     "outputs_hidden": false
    }
   },
   "outputs": [
    {
     "name": "stdout",
     "output_type": "stream",
     "text": [
      "symboling: 0\n",
      "wheel_base: 0\n",
      "length: 0\n",
      "width: 0\n",
      "height: 0\n",
      "curb_weight: 0\n",
      "engine_size: 0\n",
      "bore: 4\n",
      "stroke: 4\n",
      "compression_ratio: 0\n",
      "horsepower: 2\n",
      "peak_rpm: 2\n",
      "city_mpg: 0\n",
      "highway_mpg: 0\n",
      "price: 4\n"
     ]
    }
   ],
   "source": [
    "numeric_columns = ['symboling', 'wheel_base', 'length', 'width', 'height', 'curb_weight', 'engine_size', 'bore', 'stroke', 'compression_ratio', 'horsepower', 'peak_rpm', 'city_mpg', 'highway_mpg', 'price']\n",
    "\n",
    "for col_name in numeric_columns:\n",
    "    print(col_name+':', cars[col_name].isna().sum())"
   ]
  },
  {
   "cell_type": "markdown",
   "metadata": {},
   "source": [
    "For the other columns, the amount of missing values is less than 2% for each column. Let's drop the `normalized_losses` column and keep all the other columns by replacing the missing values with the average value from each column."
   ]
  },
  {
   "cell_type": "code",
   "execution_count": 14,
   "metadata": {
    "jupyter": {
     "outputs_hidden": false
    }
   },
   "outputs": [],
   "source": [
    "cars.drop('normalized_losses', inplace=True, axis=1)"
   ]
  },
  {
   "cell_type": "markdown",
   "metadata": {},
   "source": [
    "For the columns `bore`, `stroke`, `horsepower`, `peak_rpm`, and `price`, replace the missing values by the mean of the entire column, then check that there are no more missing values and that the mean has not been altered:"
   ]
  },
  {
   "cell_type": "code",
   "execution_count": 15,
   "metadata": {
    "jupyter": {
     "outputs_hidden": false
    }
   },
   "outputs": [
    {
     "name": "stdout",
     "output_type": "stream",
     "text": [
      "bore\n",
      "average: 3.33\n",
      "missing: 0\n",
      "new avg: 3.33\n",
      "stroke\n",
      "average: 3.255\n",
      "missing: 0\n",
      "new avg: 3.255\n",
      "horsepower\n",
      "average: 104.256\n",
      "missing: 0\n",
      "new avg: 104.256\n",
      "peak_rpm\n",
      "average: 5125.369\n",
      "missing: 0\n",
      "new avg: 5125.369\n",
      "price\n",
      "average: 13207.129\n",
      "missing: 0\n",
      "new avg: 13207.129\n"
     ]
    }
   ],
   "source": [
    "columns_with_nans = ['bore', 'stroke', 'horsepower', 'peak_rpm', 'price']\n",
    "\n",
    "for col in columns_with_nans:\n",
    "    avg = round(cars[col].mean(), 3)\n",
    "    print(col)\n",
    "    print('average:', avg)\n",
    "    cars[col] = cars[col].fillna(avg)\n",
    "    print('missing:', cars[col].isna().sum())\n",
    "    # Print new average and round it to three decimals:\n",
    "    print('new avg:', round(cars[col].mean(), 3))"
   ]
  },
  {
   "cell_type": "markdown",
   "metadata": {},
   "source": [
    "We still have some cells with missing data, let us just drop the corresponding rows."
   ]
  },
  {
   "cell_type": "code",
   "execution_count": 16,
   "metadata": {
    "jupyter": {
     "outputs_hidden": false
    }
   },
   "outputs": [
    {
     "name": "stdout",
     "output_type": "stream",
     "text": [
      "<class 'pandas.core.frame.DataFrame'>\n",
      "Int64Index: 203 entries, 0 to 204\n",
      "Data columns (total 25 columns):\n",
      " #   Column             Non-Null Count  Dtype  \n",
      "---  ------             --------------  -----  \n",
      " 0   symboling          203 non-null    int64  \n",
      " 1   make               203 non-null    object \n",
      " 2   fuel_type          203 non-null    object \n",
      " 3   aspiration         203 non-null    object \n",
      " 4   num_doors          203 non-null    object \n",
      " 5   body_style         203 non-null    object \n",
      " 6   drive_wheels       203 non-null    object \n",
      " 7   engine_location    203 non-null    object \n",
      " 8   wheel_base         203 non-null    float64\n",
      " 9   length             203 non-null    float64\n",
      " 10  width              203 non-null    float64\n",
      " 11  height             203 non-null    float64\n",
      " 12  curb_weight        203 non-null    int64  \n",
      " 13  engine_type        203 non-null    object \n",
      " 14  num_cylinders      203 non-null    object \n",
      " 15  engine_size        203 non-null    int64  \n",
      " 16  fuel_system        203 non-null    object \n",
      " 17  bore               203 non-null    float64\n",
      " 18  stroke             203 non-null    float64\n",
      " 19  compression_ratio  203 non-null    float64\n",
      " 20  horsepower         203 non-null    float64\n",
      " 21  peak_rpm           203 non-null    float64\n",
      " 22  city_mpg           203 non-null    int64  \n",
      " 23  highway_mpg        203 non-null    int64  \n",
      " 24  price              203 non-null    float64\n",
      "dtypes: float64(10), int64(5), object(10)\n",
      "memory usage: 41.2+ KB\n"
     ]
    }
   ],
   "source": [
    "cars.dropna(inplace=True)\n",
    "cars.info()"
   ]
  },
  {
   "cell_type": "markdown",
   "metadata": {},
   "source": [
    "4) __Normalization__. Now let's just consider the numeric columns, and normalize them in a range of 0 to 1."
   ]
  },
  {
   "cell_type": "code",
   "execution_count": 17,
   "metadata": {
    "jupyter": {
     "outputs_hidden": false
    }
   },
   "outputs": [
    {
     "data": {
      "text/html": [
       "<div>\n",
       "<style scoped>\n",
       "    .dataframe tbody tr th:only-of-type {\n",
       "        vertical-align: middle;\n",
       "    }\n",
       "\n",
       "    .dataframe tbody tr th {\n",
       "        vertical-align: top;\n",
       "    }\n",
       "\n",
       "    .dataframe thead th {\n",
       "        text-align: right;\n",
       "    }\n",
       "</style>\n",
       "<table border=\"1\" class=\"dataframe\">\n",
       "  <thead>\n",
       "    <tr style=\"text-align: right;\">\n",
       "      <th></th>\n",
       "      <th>symboling</th>\n",
       "      <th>wheel_base</th>\n",
       "      <th>length</th>\n",
       "      <th>width</th>\n",
       "      <th>height</th>\n",
       "      <th>curb_weight</th>\n",
       "      <th>engine_size</th>\n",
       "      <th>bore</th>\n",
       "      <th>stroke</th>\n",
       "      <th>compression_ratio</th>\n",
       "      <th>horsepower</th>\n",
       "      <th>peak_rpm</th>\n",
       "      <th>city_mpg</th>\n",
       "      <th>highway_mpg</th>\n",
       "      <th>price</th>\n",
       "    </tr>\n",
       "  </thead>\n",
       "  <tbody>\n",
       "    <tr>\n",
       "      <th>0</th>\n",
       "      <td>3</td>\n",
       "      <td>88.6</td>\n",
       "      <td>168.8</td>\n",
       "      <td>64.1</td>\n",
       "      <td>48.8</td>\n",
       "      <td>2548</td>\n",
       "      <td>130</td>\n",
       "      <td>3.47</td>\n",
       "      <td>2.68</td>\n",
       "      <td>9.0</td>\n",
       "      <td>111.0</td>\n",
       "      <td>5000.0</td>\n",
       "      <td>21</td>\n",
       "      <td>27</td>\n",
       "      <td>13495.0</td>\n",
       "    </tr>\n",
       "    <tr>\n",
       "      <th>1</th>\n",
       "      <td>3</td>\n",
       "      <td>88.6</td>\n",
       "      <td>168.8</td>\n",
       "      <td>64.1</td>\n",
       "      <td>48.8</td>\n",
       "      <td>2548</td>\n",
       "      <td>130</td>\n",
       "      <td>3.47</td>\n",
       "      <td>2.68</td>\n",
       "      <td>9.0</td>\n",
       "      <td>111.0</td>\n",
       "      <td>5000.0</td>\n",
       "      <td>21</td>\n",
       "      <td>27</td>\n",
       "      <td>16500.0</td>\n",
       "    </tr>\n",
       "    <tr>\n",
       "      <th>2</th>\n",
       "      <td>1</td>\n",
       "      <td>94.5</td>\n",
       "      <td>171.2</td>\n",
       "      <td>65.5</td>\n",
       "      <td>52.4</td>\n",
       "      <td>2823</td>\n",
       "      <td>152</td>\n",
       "      <td>2.68</td>\n",
       "      <td>3.47</td>\n",
       "      <td>9.0</td>\n",
       "      <td>154.0</td>\n",
       "      <td>5000.0</td>\n",
       "      <td>19</td>\n",
       "      <td>26</td>\n",
       "      <td>16500.0</td>\n",
       "    </tr>\n",
       "    <tr>\n",
       "      <th>3</th>\n",
       "      <td>2</td>\n",
       "      <td>99.8</td>\n",
       "      <td>176.6</td>\n",
       "      <td>66.2</td>\n",
       "      <td>54.3</td>\n",
       "      <td>2337</td>\n",
       "      <td>109</td>\n",
       "      <td>3.19</td>\n",
       "      <td>3.40</td>\n",
       "      <td>10.0</td>\n",
       "      <td>102.0</td>\n",
       "      <td>5500.0</td>\n",
       "      <td>24</td>\n",
       "      <td>30</td>\n",
       "      <td>13950.0</td>\n",
       "    </tr>\n",
       "    <tr>\n",
       "      <th>4</th>\n",
       "      <td>2</td>\n",
       "      <td>99.4</td>\n",
       "      <td>176.6</td>\n",
       "      <td>66.4</td>\n",
       "      <td>54.3</td>\n",
       "      <td>2824</td>\n",
       "      <td>136</td>\n",
       "      <td>3.19</td>\n",
       "      <td>3.40</td>\n",
       "      <td>8.0</td>\n",
       "      <td>115.0</td>\n",
       "      <td>5500.0</td>\n",
       "      <td>18</td>\n",
       "      <td>22</td>\n",
       "      <td>17450.0</td>\n",
       "    </tr>\n",
       "  </tbody>\n",
       "</table>\n",
       "</div>"
      ],
      "text/plain": [
       "   symboling  wheel_base  length  width  height  curb_weight  engine_size  \\\n",
       "0          3        88.6   168.8   64.1    48.8         2548          130   \n",
       "1          3        88.6   168.8   64.1    48.8         2548          130   \n",
       "2          1        94.5   171.2   65.5    52.4         2823          152   \n",
       "3          2        99.8   176.6   66.2    54.3         2337          109   \n",
       "4          2        99.4   176.6   66.4    54.3         2824          136   \n",
       "\n",
       "   bore  stroke  compression_ratio  horsepower  peak_rpm  city_mpg  \\\n",
       "0  3.47    2.68                9.0       111.0    5000.0        21   \n",
       "1  3.47    2.68                9.0       111.0    5000.0        21   \n",
       "2  2.68    3.47                9.0       154.0    5000.0        19   \n",
       "3  3.19    3.40               10.0       102.0    5500.0        24   \n",
       "4  3.19    3.40                8.0       115.0    5500.0        18   \n",
       "\n",
       "   highway_mpg    price  \n",
       "0           27  13495.0  \n",
       "1           27  16500.0  \n",
       "2           26  16500.0  \n",
       "3           30  13950.0  \n",
       "4           22  17450.0  "
      ]
     },
     "execution_count": 17,
     "metadata": {},
     "output_type": "execute_result"
    }
   ],
   "source": [
    "cars_num = cars[numeric_columns]\n",
    "cars_num.head()"
   ]
  },
  {
   "cell_type": "markdown",
   "metadata": {},
   "source": [
    "To normalize the columns in a range of 0 to 1, we use __*Min-Max normalization*__:\n",
    "\n",
    "$$ X = \\frac{X - X.min}{X.max -  X.min}$$"
   ]
  },
  {
   "cell_type": "markdown",
   "metadata": {},
   "source": [
    "Let's define a list of the numeric columns that we want to normalize, and then perform the normalization by using a lambda function:\n",
    "NB: I did not handle the missing values in the `price` column, and I will not apply any normalization to it."
   ]
  },
  {
   "cell_type": "code",
   "execution_count": 18,
   "metadata": {
    "jupyter": {
     "outputs_hidden": false
    }
   },
   "outputs": [
    {
     "name": "stderr",
     "output_type": "stream",
     "text": [
      "/home/marco/anaconda3/lib/python3.7/site-packages/pandas/core/frame.py:2963: SettingWithCopyWarning: \n",
      "A value is trying to be set on a copy of a slice from a DataFrame.\n",
      "Try using .loc[row_indexer,col_indexer] = value instead\n",
      "\n",
      "See the caveats in the documentation: https://pandas.pydata.org/pandas-docs/stable/user_guide/indexing.html#returning-a-view-versus-a-copy\n",
      "  self[k1] = value[k2]\n"
     ]
    }
   ],
   "source": [
    "columns_to_normalize = ['symboling', 'wheel_base', 'length', 'width', 'height', 'curb_weight', 'engine_size', 'bore', 'stroke', 'compression_ratio', 'horsepower', 'peak_rpm', 'city_mpg', 'highway_mpg']\n",
    "cars_num[columns_to_normalize] = cars_num[columns_to_normalize].apply(lambda x:(x-x.min()) / (x.max()-x.min())).round(decimals=3).copy()"
   ]
  },
  {
   "cell_type": "markdown",
   "metadata": {},
   "source": [
    "Let's check the first ten columns of the resulting dataframe:"
   ]
  },
  {
   "cell_type": "code",
   "execution_count": 19,
   "metadata": {
    "jupyter": {
     "outputs_hidden": false
    },
    "scrolled": true
   },
   "outputs": [
    {
     "data": {
      "text/html": [
       "<div>\n",
       "<style scoped>\n",
       "    .dataframe tbody tr th:only-of-type {\n",
       "        vertical-align: middle;\n",
       "    }\n",
       "\n",
       "    .dataframe tbody tr th {\n",
       "        vertical-align: top;\n",
       "    }\n",
       "\n",
       "    .dataframe thead th {\n",
       "        text-align: right;\n",
       "    }\n",
       "</style>\n",
       "<table border=\"1\" class=\"dataframe\">\n",
       "  <thead>\n",
       "    <tr style=\"text-align: right;\">\n",
       "      <th></th>\n",
       "      <th>symboling</th>\n",
       "      <th>wheel_base</th>\n",
       "      <th>length</th>\n",
       "      <th>width</th>\n",
       "      <th>height</th>\n",
       "      <th>curb_weight</th>\n",
       "      <th>engine_size</th>\n",
       "      <th>bore</th>\n",
       "      <th>stroke</th>\n",
       "      <th>compression_ratio</th>\n",
       "      <th>horsepower</th>\n",
       "      <th>peak_rpm</th>\n",
       "      <th>city_mpg</th>\n",
       "      <th>highway_mpg</th>\n",
       "      <th>price</th>\n",
       "    </tr>\n",
       "  </thead>\n",
       "  <tbody>\n",
       "    <tr>\n",
       "      <th>0</th>\n",
       "      <td>1.0</td>\n",
       "      <td>0.058</td>\n",
       "      <td>0.413</td>\n",
       "      <td>0.317</td>\n",
       "      <td>0.083</td>\n",
       "      <td>0.411</td>\n",
       "      <td>0.260</td>\n",
       "      <td>0.664</td>\n",
       "      <td>0.290</td>\n",
       "      <td>0.125</td>\n",
       "      <td>0.262</td>\n",
       "      <td>0.347</td>\n",
       "      <td>0.222</td>\n",
       "      <td>0.289</td>\n",
       "      <td>13495.000</td>\n",
       "    </tr>\n",
       "    <tr>\n",
       "      <th>1</th>\n",
       "      <td>1.0</td>\n",
       "      <td>0.058</td>\n",
       "      <td>0.413</td>\n",
       "      <td>0.317</td>\n",
       "      <td>0.083</td>\n",
       "      <td>0.411</td>\n",
       "      <td>0.260</td>\n",
       "      <td>0.664</td>\n",
       "      <td>0.290</td>\n",
       "      <td>0.125</td>\n",
       "      <td>0.262</td>\n",
       "      <td>0.347</td>\n",
       "      <td>0.222</td>\n",
       "      <td>0.289</td>\n",
       "      <td>16500.000</td>\n",
       "    </tr>\n",
       "    <tr>\n",
       "      <th>2</th>\n",
       "      <td>0.6</td>\n",
       "      <td>0.230</td>\n",
       "      <td>0.449</td>\n",
       "      <td>0.433</td>\n",
       "      <td>0.383</td>\n",
       "      <td>0.518</td>\n",
       "      <td>0.343</td>\n",
       "      <td>0.100</td>\n",
       "      <td>0.667</td>\n",
       "      <td>0.125</td>\n",
       "      <td>0.442</td>\n",
       "      <td>0.347</td>\n",
       "      <td>0.167</td>\n",
       "      <td>0.263</td>\n",
       "      <td>16500.000</td>\n",
       "    </tr>\n",
       "    <tr>\n",
       "      <th>3</th>\n",
       "      <td>0.8</td>\n",
       "      <td>0.385</td>\n",
       "      <td>0.530</td>\n",
       "      <td>0.492</td>\n",
       "      <td>0.542</td>\n",
       "      <td>0.329</td>\n",
       "      <td>0.181</td>\n",
       "      <td>0.464</td>\n",
       "      <td>0.633</td>\n",
       "      <td>0.188</td>\n",
       "      <td>0.225</td>\n",
       "      <td>0.551</td>\n",
       "      <td>0.306</td>\n",
       "      <td>0.368</td>\n",
       "      <td>13950.000</td>\n",
       "    </tr>\n",
       "    <tr>\n",
       "      <th>4</th>\n",
       "      <td>0.8</td>\n",
       "      <td>0.373</td>\n",
       "      <td>0.530</td>\n",
       "      <td>0.508</td>\n",
       "      <td>0.542</td>\n",
       "      <td>0.518</td>\n",
       "      <td>0.283</td>\n",
       "      <td>0.464</td>\n",
       "      <td>0.633</td>\n",
       "      <td>0.062</td>\n",
       "      <td>0.279</td>\n",
       "      <td>0.551</td>\n",
       "      <td>0.139</td>\n",
       "      <td>0.158</td>\n",
       "      <td>17450.000</td>\n",
       "    </tr>\n",
       "    <tr>\n",
       "      <th>5</th>\n",
       "      <td>0.8</td>\n",
       "      <td>0.385</td>\n",
       "      <td>0.540</td>\n",
       "      <td>0.500</td>\n",
       "      <td>0.442</td>\n",
       "      <td>0.395</td>\n",
       "      <td>0.283</td>\n",
       "      <td>0.464</td>\n",
       "      <td>0.633</td>\n",
       "      <td>0.094</td>\n",
       "      <td>0.258</td>\n",
       "      <td>0.551</td>\n",
       "      <td>0.167</td>\n",
       "      <td>0.237</td>\n",
       "      <td>15250.000</td>\n",
       "    </tr>\n",
       "    <tr>\n",
       "      <th>6</th>\n",
       "      <td>0.6</td>\n",
       "      <td>0.560</td>\n",
       "      <td>0.770</td>\n",
       "      <td>0.925</td>\n",
       "      <td>0.658</td>\n",
       "      <td>0.526</td>\n",
       "      <td>0.283</td>\n",
       "      <td>0.464</td>\n",
       "      <td>0.633</td>\n",
       "      <td>0.094</td>\n",
       "      <td>0.258</td>\n",
       "      <td>0.551</td>\n",
       "      <td>0.167</td>\n",
       "      <td>0.237</td>\n",
       "      <td>17710.000</td>\n",
       "    </tr>\n",
       "    <tr>\n",
       "      <th>7</th>\n",
       "      <td>0.6</td>\n",
       "      <td>0.560</td>\n",
       "      <td>0.770</td>\n",
       "      <td>0.925</td>\n",
       "      <td>0.658</td>\n",
       "      <td>0.569</td>\n",
       "      <td>0.283</td>\n",
       "      <td>0.464</td>\n",
       "      <td>0.633</td>\n",
       "      <td>0.094</td>\n",
       "      <td>0.258</td>\n",
       "      <td>0.551</td>\n",
       "      <td>0.167</td>\n",
       "      <td>0.237</td>\n",
       "      <td>18920.000</td>\n",
       "    </tr>\n",
       "    <tr>\n",
       "      <th>8</th>\n",
       "      <td>0.6</td>\n",
       "      <td>0.560</td>\n",
       "      <td>0.770</td>\n",
       "      <td>0.925</td>\n",
       "      <td>0.675</td>\n",
       "      <td>0.620</td>\n",
       "      <td>0.264</td>\n",
       "      <td>0.421</td>\n",
       "      <td>0.633</td>\n",
       "      <td>0.081</td>\n",
       "      <td>0.383</td>\n",
       "      <td>0.551</td>\n",
       "      <td>0.111</td>\n",
       "      <td>0.105</td>\n",
       "      <td>23875.000</td>\n",
       "    </tr>\n",
       "    <tr>\n",
       "      <th>9</th>\n",
       "      <td>0.4</td>\n",
       "      <td>0.376</td>\n",
       "      <td>0.554</td>\n",
       "      <td>0.633</td>\n",
       "      <td>0.350</td>\n",
       "      <td>0.607</td>\n",
       "      <td>0.264</td>\n",
       "      <td>0.421</td>\n",
       "      <td>0.633</td>\n",
       "      <td>0.000</td>\n",
       "      <td>0.467</td>\n",
       "      <td>0.551</td>\n",
       "      <td>0.083</td>\n",
       "      <td>0.158</td>\n",
       "      <td>13207.129</td>\n",
       "    </tr>\n",
       "  </tbody>\n",
       "</table>\n",
       "</div>"
      ],
      "text/plain": [
       "   symboling  wheel_base  length  width  height  curb_weight  engine_size  \\\n",
       "0        1.0       0.058   0.413  0.317   0.083        0.411        0.260   \n",
       "1        1.0       0.058   0.413  0.317   0.083        0.411        0.260   \n",
       "2        0.6       0.230   0.449  0.433   0.383        0.518        0.343   \n",
       "3        0.8       0.385   0.530  0.492   0.542        0.329        0.181   \n",
       "4        0.8       0.373   0.530  0.508   0.542        0.518        0.283   \n",
       "5        0.8       0.385   0.540  0.500   0.442        0.395        0.283   \n",
       "6        0.6       0.560   0.770  0.925   0.658        0.526        0.283   \n",
       "7        0.6       0.560   0.770  0.925   0.658        0.569        0.283   \n",
       "8        0.6       0.560   0.770  0.925   0.675        0.620        0.264   \n",
       "9        0.4       0.376   0.554  0.633   0.350        0.607        0.264   \n",
       "\n",
       "    bore  stroke  compression_ratio  horsepower  peak_rpm  city_mpg  \\\n",
       "0  0.664   0.290              0.125       0.262     0.347     0.222   \n",
       "1  0.664   0.290              0.125       0.262     0.347     0.222   \n",
       "2  0.100   0.667              0.125       0.442     0.347     0.167   \n",
       "3  0.464   0.633              0.188       0.225     0.551     0.306   \n",
       "4  0.464   0.633              0.062       0.279     0.551     0.139   \n",
       "5  0.464   0.633              0.094       0.258     0.551     0.167   \n",
       "6  0.464   0.633              0.094       0.258     0.551     0.167   \n",
       "7  0.464   0.633              0.094       0.258     0.551     0.167   \n",
       "8  0.421   0.633              0.081       0.383     0.551     0.111   \n",
       "9  0.421   0.633              0.000       0.467     0.551     0.083   \n",
       "\n",
       "   highway_mpg      price  \n",
       "0        0.289  13495.000  \n",
       "1        0.289  16500.000  \n",
       "2        0.263  16500.000  \n",
       "3        0.368  13950.000  \n",
       "4        0.158  17450.000  \n",
       "5        0.237  15250.000  \n",
       "6        0.237  17710.000  \n",
       "7        0.237  18920.000  \n",
       "8        0.105  23875.000  \n",
       "9        0.158  13207.129  "
      ]
     },
     "execution_count": 19,
     "metadata": {},
     "output_type": "execute_result"
    }
   ],
   "source": [
    "cars_num.head(10)"
   ]
  },
  {
   "cell_type": "code",
   "execution_count": 20,
   "metadata": {
    "jupyter": {
     "outputs_hidden": true
    }
   },
   "outputs": [
    {
     "name": "stdout",
     "output_type": "stream",
     "text": [
      "['symboling', 'wheel_base', 'length', 'width', 'height', 'curb_weight', 'engine_size', 'bore', 'stroke', 'compression_ratio', 'horsepower', 'peak_rpm', 'city_mpg', 'highway_mpg', 'price']\n",
      "['symboling', 'wheel_base', 'length', 'width', 'height', 'curb_weight', 'engine_size', 'bore', 'stroke', 'compression_ratio', 'horsepower', 'peak_rpm', 'city_mpg', 'highway_mpg']\n"
     ]
    }
   ],
   "source": [
    "print(numeric_columns)\n",
    "numeric_columns.remove('price')\n",
    "print(numeric_columns)"
   ]
  },
  {
   "cell_type": "markdown",
   "metadata": {},
   "source": [
    "## 3. Univariate Model"
   ]
  },
  {
   "cell_type": "markdown",
   "metadata": {},
   "source": [
    "We start the analysis with a __*univariate*__ k-nearest neighbors algorithm. This allows us to structure the code workflow and understand the features better.\n",
    "We create a function named `knn_train_test()` that encapsulates the training and validation process. We perform a simple train/test validation and calculate the __root mean squared error__ (RMSE)."
   ]
  },
  {
   "cell_type": "code",
   "execution_count": 21,
   "metadata": {},
   "outputs": [],
   "source": [
    "from sklearn.neighbors import KNeighborsRegressor\n",
    "from sklearn.metrics import mean_squared_error"
   ]
  },
  {
   "cell_type": "code",
   "execution_count": 22,
   "metadata": {
    "jupyter": {
     "outputs_hidden": true
    }
   },
   "outputs": [],
   "source": [
    "def knn_train_test(df, training_col_name='', target_col_name='price', k=5):\n",
    "    # MS: Split the data set into two partitions:\n",
    "    # - the training set contains the majority of the rows (75%)\n",
    "    # - the test set contains the remaining minority of the rows (25%)\n",
    "    \n",
    "    nb_rows = len(df)\n",
    "    np.random.seed(1)\n",
    "    \n",
    "    # Shuffle the indices\n",
    "    idx = np.random.permutation(nb_rows)\n",
    "    \n",
    "    train_df = df.iloc[idx[0:round(nb_rows * .75)]].copy()\n",
    "    test_df = df.iloc[idx[round(nb_rows * .75):]].copy()\n",
    "        \n",
    "    # MS: Create an instance of the KNeighborsRegressor class\n",
    "    # The default number of neighbors nb_neighbors is set to 5\n",
    "    knn = KNeighborsRegressor(n_neighbors=k)\n",
    "       \n",
    "    # MS: Fit the model on the training set\n",
    "    knn.fit(train_df[training_col_name], train_df[target_col_name])\n",
    "    \n",
    "    # MS: Make predictions on the training_col_name from test_df\n",
    "    # to predict the price value for the rows in test_df\n",
    "    predicted_prices = knn.predict(test_df[training_col_name])\n",
    "    \n",
    "    # MS: Calculate the RMSE and return that value\n",
    "    # MS: The true values are in the column: test_df['price']\n",
    "    rmse = np.sqrt(mean_squared_error(test_df[target_col_name], predicted_prices))\n",
    "    \n",
    "    return(rmse)"
   ]
  },
  {
   "cell_type": "markdown",
   "metadata": {},
   "source": [
    "Now we use this function to train and test univariate models using the different numeric columns in the data set."
   ]
  },
  {
   "cell_type": "code",
   "execution_count": 23,
   "metadata": {
    "jupyter": {
     "outputs_hidden": false
    }
   },
   "outputs": [
    {
     "data": {
      "text/plain": [
       "[8490.8,\n",
       " 5505.26,\n",
       " 5772.15,\n",
       " 4352.52,\n",
       " 7167.59,\n",
       " 3584.47,\n",
       " 4111.54,\n",
       " 7539.75,\n",
       " 7473.34,\n",
       " 6718.45,\n",
       " 3669.37,\n",
       " 9103.71,\n",
       " 4186.47,\n",
       " 4122.56]"
      ]
     },
     "execution_count": 23,
     "metadata": {},
     "output_type": "execute_result"
    }
   ],
   "source": [
    "rmse_values = list()\n",
    "for feature in numeric_columns:\n",
    "    rmse = knn_train_test(cars_num,[feature])\n",
    "    rmse_values.append(round(rmse, 2))\n",
    "rmse_values"
   ]
  },
  {
   "cell_type": "code",
   "execution_count": 24,
   "metadata": {
    "jupyter": {
     "outputs_hidden": false
    }
   },
   "outputs": [
    {
     "data": {
      "image/png": "[encoded data removed]",
      "text/plain": [
       "<Figure size 432x288 with 1 Axes>"
      ]
     },
     "metadata": {
      "needs_background": "light"
     },
     "output_type": "display_data"
    }
   ],
   "source": [
    "import matplotlib.pyplot as plt\n",
    "%matplotlib inline\n",
    "\n",
    "x = list(range(0,len(rmse_values)))  \n",
    "plt.plot(x, rmse_values, color='g')\n",
    "plt.xticks(np.arange(len(rmse_values)), numeric_columns, rotation=90)\n",
    "plt.title('RMSE for the Univariate Model')\n",
    "plt.ylabel('RMSE')\n",
    "plt.show()"
   ]
  },
  {
   "cell_type": "markdown",
   "metadata": {},
   "source": [
    "According to the RMSE metric, the column that performs the best using the default k value is `curb_weight`, having an RMSE of 3584."
   ]
  },
  {
   "cell_type": "markdown",
   "metadata": {},
   "source": [
    "So far, we used the default k value of 5. Now, for each numeric column, let's create, train, and test a univariate model using the following k values (1, 3, 5, 7, and 9). We use line plots to visualize the results for each numeric column."
   ]
  },
  {
   "cell_type": "code",
   "execution_count": 25,
   "metadata": {
    "jupyter": {
     "outputs_hidden": false
    }
   },
   "outputs": [
    {
     "data": {
      "image/png": "[encoded data removed]",
      "text/plain": [
       "<Figure size 432x288 with 1 Axes>"
      ]
     },
     "metadata": {
      "needs_background": "light"
     },
     "output_type": "display_data"
    },
    {
     "data": {
      "image/png": "[encoded data removed]",
      "text/plain": [
       "<Figure size 432x288 with 1 Axes>"
      ]
     },
     "metadata": {
      "needs_background": "light"
     },
     "output_type": "display_data"
    },
    {
     "data": {
      "image/png": "[encoded data removed]",
      "text/plain": [
       "<Figure size 432x288 with 1 Axes>"
      ]
     },
     "metadata": {
      "needs_background": "light"
     },
     "output_type": "display_data"
    },
    {
     "data": {
      "image/png": "[encoded data removed]",
      "text/plain": [
       "<Figure size 432x288 with 1 Axes>"
      ]
     },
     "metadata": {
      "needs_background": "light"
     },
     "output_type": "display_data"
    },
    {
     "data": {
      "image/png": "[encoded data removed]",
      "text/plain": [
       "<Figure size 432x288 with 1 Axes>"
      ]
     },
     "metadata": {
      "needs_background": "light"
     },
     "output_type": "display_data"
    },
    {
     "data": {
      "image/png": "[encoded data removed]",
      "text/plain": [
       "<Figure size 432x288 with 1 Axes>"
      ]
     },
     "metadata": {
      "needs_background": "light"
     },
     "output_type": "display_data"
    },
    {
     "data": {
      "image/png": "[encoded data removed]",
      "text/plain": [
       "<Figure size 432x288 with 1 Axes>"
      ]
     },
     "metadata": {
      "needs_background": "light"
     },
     "output_type": "display_data"
    },
    {
     "data": {
      "image/png": "[encoded data removed]",
      "text/plain": [
       "<Figure size 432x288 with 1 Axes>"
      ]
     },
     "metadata": {
      "needs_background": "light"
     },
     "output_type": "display_data"
    },
    {
     "data": {
      "image/png": "[encoded data removed]",
      "text/plain": [
       "<Figure size 432x288 with 1 Axes>"
      ]
     },
     "metadata": {
      "needs_background": "light"
     },
     "output_type": "display_data"
    },
    {
     "data": {
      "image/png": "[encoded data removed]",
      "text/plain": [
       "<Figure size 432x288 with 1 Axes>"
      ]
     },
     "metadata": {
      "needs_background": "light"
     },
     "output_type": "display_data"
    },
    {
     "data": {
      "image/png": "[encoded data removed]",
      "text/plain": [
       "<Figure size 432x288 with 1 Axes>"
      ]
     },
     "metadata": {
      "needs_background": "light"
     },
     "output_type": "display_data"
    },
    {
     "data": {
      "image/png": "[encoded data removed]",
      "text/plain": [
       "<Figure size 432x288 with 1 Axes>"
      ]
     },
     "metadata": {
      "needs_background": "light"
     },
     "output_type": "display_data"
    },
    {
     "data": {
      "image/png": "[encoded data removed]",
      "text/plain": [
       "<Figure size 432x288 with 1 Axes>"
      ]
     },
     "metadata": {
      "needs_background": "light"
     },
     "output_type": "display_data"
    },
    {
     "data": {
      "image/png": "[encoded data removed]",
      "text/plain": [
       "<Figure size 432x288 with 1 Axes>"
      ]
     },
     "metadata": {
      "needs_background": "light"
     },
     "output_type": "display_data"
    }
   ],
   "source": [
    "knn_array = [1, 3, 5, 7, 9]\n",
    "rmse_k = {}\n",
    "for feature in numeric_columns:\n",
    "    rmse_values = list()\n",
    "    for knn in knn_array:\n",
    "        rmse = knn_train_test(cars_num, [feature], k=knn)\n",
    "        rmse_values.append(round(rmse, 2))\n",
    "        \n",
    "    # Save all the results in a dictionary:\n",
    "    rmse_k[feature] = rmse_values\n",
    "    \n",
    "    plt.plot(knn_array, rmse_values)\n",
    "    plt.title(feature)\n",
    "    plt.xlabel('k value')\n",
    "    plt.ylabel('RMSE')\n",
    "    plt.show()"
   ]
  },
  {
   "cell_type": "markdown",
   "metadata": {},
   "source": [
    "We convert `rmse_k` into a dataframe, and visualize it:"
   ]
  },
  {
   "cell_type": "code",
   "execution_count": 26,
   "metadata": {
    "jupyter": {
     "outputs_hidden": false
    }
   },
   "outputs": [
    {
     "data": {
      "text/html": [
       "<div>\n",
       "<style scoped>\n",
       "    .dataframe tbody tr th:only-of-type {\n",
       "        vertical-align: middle;\n",
       "    }\n",
       "\n",
       "    .dataframe tbody tr th {\n",
       "        vertical-align: top;\n",
       "    }\n",
       "\n",
       "    .dataframe thead th {\n",
       "        text-align: right;\n",
       "    }\n",
       "</style>\n",
       "<table border=\"1\" class=\"dataframe\">\n",
       "  <thead>\n",
       "    <tr style=\"text-align: right;\">\n",
       "      <th></th>\n",
       "      <th>symboling</th>\n",
       "      <th>wheel_base</th>\n",
       "      <th>length</th>\n",
       "      <th>width</th>\n",
       "      <th>height</th>\n",
       "      <th>curb_weight</th>\n",
       "      <th>engine_size</th>\n",
       "      <th>bore</th>\n",
       "      <th>stroke</th>\n",
       "      <th>compression_ratio</th>\n",
       "      <th>horsepower</th>\n",
       "      <th>peak_rpm</th>\n",
       "      <th>city_mpg</th>\n",
       "      <th>highway_mpg</th>\n",
       "    </tr>\n",
       "  </thead>\n",
       "  <tbody>\n",
       "    <tr>\n",
       "      <th>1</th>\n",
       "      <td>14726.12</td>\n",
       "      <td>3070.81</td>\n",
       "      <td>5359.36</td>\n",
       "      <td>3943.56</td>\n",
       "      <td>9910.15</td>\n",
       "      <td>4508.81</td>\n",
       "      <td>5167.12</td>\n",
       "      <td>8825.76</td>\n",
       "      <td>8567.42</td>\n",
       "      <td>6799.79</td>\n",
       "      <td>3744.08</td>\n",
       "      <td>10085.46</td>\n",
       "      <td>6154.50</td>\n",
       "      <td>4178.98</td>\n",
       "    </tr>\n",
       "    <tr>\n",
       "      <th>3</th>\n",
       "      <td>10154.76</td>\n",
       "      <td>4325.49</td>\n",
       "      <td>6032.07</td>\n",
       "      <td>5592.10</td>\n",
       "      <td>6977.48</td>\n",
       "      <td>4088.37</td>\n",
       "      <td>3699.65</td>\n",
       "      <td>8530.46</td>\n",
       "      <td>7362.07</td>\n",
       "      <td>6613.22</td>\n",
       "      <td>3574.05</td>\n",
       "      <td>9759.07</td>\n",
       "      <td>4590.02</td>\n",
       "      <td>4124.48</td>\n",
       "    </tr>\n",
       "    <tr>\n",
       "      <th>5</th>\n",
       "      <td>8490.80</td>\n",
       "      <td>5505.26</td>\n",
       "      <td>5772.15</td>\n",
       "      <td>4352.52</td>\n",
       "      <td>7167.59</td>\n",
       "      <td>3584.47</td>\n",
       "      <td>4111.54</td>\n",
       "      <td>7539.75</td>\n",
       "      <td>7473.34</td>\n",
       "      <td>6718.45</td>\n",
       "      <td>3669.37</td>\n",
       "      <td>9103.71</td>\n",
       "      <td>4186.47</td>\n",
       "      <td>4122.56</td>\n",
       "    </tr>\n",
       "    <tr>\n",
       "      <th>7</th>\n",
       "      <td>8968.11</td>\n",
       "      <td>5343.02</td>\n",
       "      <td>5370.47</td>\n",
       "      <td>4258.01</td>\n",
       "      <td>7125.51</td>\n",
       "      <td>3876.21</td>\n",
       "      <td>4143.22</td>\n",
       "      <td>6827.55</td>\n",
       "      <td>8551.41</td>\n",
       "      <td>6711.81</td>\n",
       "      <td>3967.37</td>\n",
       "      <td>8628.12</td>\n",
       "      <td>4127.82</td>\n",
       "      <td>4022.58</td>\n",
       "    </tr>\n",
       "    <tr>\n",
       "      <th>9</th>\n",
       "      <td>8703.46</td>\n",
       "      <td>5352.52</td>\n",
       "      <td>4669.27</td>\n",
       "      <td>4409.58</td>\n",
       "      <td>7149.95</td>\n",
       "      <td>3906.86</td>\n",
       "      <td>4202.28</td>\n",
       "      <td>6855.34</td>\n",
       "      <td>8401.78</td>\n",
       "      <td>6934.11</td>\n",
       "      <td>4412.02</td>\n",
       "      <td>8247.56</td>\n",
       "      <td>4428.03</td>\n",
       "      <td>4098.75</td>\n",
       "    </tr>\n",
       "  </tbody>\n",
       "</table>\n",
       "</div>"
      ],
      "text/plain": [
       "   symboling  wheel_base   length    width   height  curb_weight  engine_size  \\\n",
       "1   14726.12     3070.81  5359.36  3943.56  9910.15      4508.81      5167.12   \n",
       "3   10154.76     4325.49  6032.07  5592.10  6977.48      4088.37      3699.65   \n",
       "5    8490.80     5505.26  5772.15  4352.52  7167.59      3584.47      4111.54   \n",
       "7    8968.11     5343.02  5370.47  4258.01  7125.51      3876.21      4143.22   \n",
       "9    8703.46     5352.52  4669.27  4409.58  7149.95      3906.86      4202.28   \n",
       "\n",
       "      bore   stroke  compression_ratio  horsepower  peak_rpm  city_mpg  \\\n",
       "1  8825.76  8567.42            6799.79     3744.08  10085.46   6154.50   \n",
       "3  8530.46  7362.07            6613.22     3574.05   9759.07   4590.02   \n",
       "5  7539.75  7473.34            6718.45     3669.37   9103.71   4186.47   \n",
       "7  6827.55  8551.41            6711.81     3967.37   8628.12   4127.82   \n",
       "9  6855.34  8401.78            6934.11     4412.02   8247.56   4428.03   \n",
       "\n",
       "   highway_mpg  \n",
       "1      4178.98  \n",
       "3      4124.48  \n",
       "5      4122.56  \n",
       "7      4022.58  \n",
       "9      4098.75  "
      ]
     },
     "execution_count": 26,
     "metadata": {},
     "output_type": "execute_result"
    }
   ],
   "source": [
    "results = pd.DataFrame(rmse_k, index=knn_array)\n",
    "results"
   ]
  },
  {
   "cell_type": "markdown",
   "metadata": {},
   "source": [
    "## 4. Multivariate Model"
   ]
  },
  {
   "cell_type": "markdown",
   "metadata": {},
   "source": [
    "In this section, we modify the `knn_train_test()` function from the previous section to accept a list of column names (instead of just a string)."
   ]
  },
  {
   "cell_type": "markdown",
   "metadata": {},
   "source": [
    "To understand which features are the best, we will use the dataframe `result` from the previous step. For each feature, let us compute the average RMSE across the different `k` values and store it in a new row named `avg`:"
   ]
  },
  {
   "cell_type": "code",
   "execution_count": 27,
   "metadata": {
    "jupyter": {
     "outputs_hidden": false
    }
   },
   "outputs": [
    {
     "data": {
      "text/html": [
       "<div>\n",
       "<style scoped>\n",
       "    .dataframe tbody tr th:only-of-type {\n",
       "        vertical-align: middle;\n",
       "    }\n",
       "\n",
       "    .dataframe tbody tr th {\n",
       "        vertical-align: top;\n",
       "    }\n",
       "\n",
       "    .dataframe thead th {\n",
       "        text-align: right;\n",
       "    }\n",
       "</style>\n",
       "<table border=\"1\" class=\"dataframe\">\n",
       "  <thead>\n",
       "    <tr style=\"text-align: right;\">\n",
       "      <th></th>\n",
       "      <th>symboling</th>\n",
       "      <th>wheel_base</th>\n",
       "      <th>length</th>\n",
       "      <th>width</th>\n",
       "      <th>height</th>\n",
       "      <th>curb_weight</th>\n",
       "      <th>engine_size</th>\n",
       "      <th>bore</th>\n",
       "      <th>stroke</th>\n",
       "      <th>compression_ratio</th>\n",
       "      <th>horsepower</th>\n",
       "      <th>peak_rpm</th>\n",
       "      <th>city_mpg</th>\n",
       "      <th>highway_mpg</th>\n",
       "    </tr>\n",
       "  </thead>\n",
       "  <tbody>\n",
       "    <tr>\n",
       "      <th>1</th>\n",
       "      <td>14726.12</td>\n",
       "      <td>3070.81</td>\n",
       "      <td>5359.360</td>\n",
       "      <td>3943.560</td>\n",
       "      <td>9910.150</td>\n",
       "      <td>4508.810</td>\n",
       "      <td>5167.120</td>\n",
       "      <td>8825.760</td>\n",
       "      <td>8567.420</td>\n",
       "      <td>6799.790</td>\n",
       "      <td>3744.080</td>\n",
       "      <td>10085.460</td>\n",
       "      <td>6154.500</td>\n",
       "      <td>4178.98</td>\n",
       "    </tr>\n",
       "    <tr>\n",
       "      <th>3</th>\n",
       "      <td>10154.76</td>\n",
       "      <td>4325.49</td>\n",
       "      <td>6032.070</td>\n",
       "      <td>5592.100</td>\n",
       "      <td>6977.480</td>\n",
       "      <td>4088.370</td>\n",
       "      <td>3699.650</td>\n",
       "      <td>8530.460</td>\n",
       "      <td>7362.070</td>\n",
       "      <td>6613.220</td>\n",
       "      <td>3574.050</td>\n",
       "      <td>9759.070</td>\n",
       "      <td>4590.020</td>\n",
       "      <td>4124.48</td>\n",
       "    </tr>\n",
       "    <tr>\n",
       "      <th>5</th>\n",
       "      <td>8490.80</td>\n",
       "      <td>5505.26</td>\n",
       "      <td>5772.150</td>\n",
       "      <td>4352.520</td>\n",
       "      <td>7167.590</td>\n",
       "      <td>3584.470</td>\n",
       "      <td>4111.540</td>\n",
       "      <td>7539.750</td>\n",
       "      <td>7473.340</td>\n",
       "      <td>6718.450</td>\n",
       "      <td>3669.370</td>\n",
       "      <td>9103.710</td>\n",
       "      <td>4186.470</td>\n",
       "      <td>4122.56</td>\n",
       "    </tr>\n",
       "    <tr>\n",
       "      <th>7</th>\n",
       "      <td>8968.11</td>\n",
       "      <td>5343.02</td>\n",
       "      <td>5370.470</td>\n",
       "      <td>4258.010</td>\n",
       "      <td>7125.510</td>\n",
       "      <td>3876.210</td>\n",
       "      <td>4143.220</td>\n",
       "      <td>6827.550</td>\n",
       "      <td>8551.410</td>\n",
       "      <td>6711.810</td>\n",
       "      <td>3967.370</td>\n",
       "      <td>8628.120</td>\n",
       "      <td>4127.820</td>\n",
       "      <td>4022.58</td>\n",
       "    </tr>\n",
       "    <tr>\n",
       "      <th>9</th>\n",
       "      <td>8703.46</td>\n",
       "      <td>5352.52</td>\n",
       "      <td>4669.270</td>\n",
       "      <td>4409.580</td>\n",
       "      <td>7149.950</td>\n",
       "      <td>3906.860</td>\n",
       "      <td>4202.280</td>\n",
       "      <td>6855.340</td>\n",
       "      <td>8401.780</td>\n",
       "      <td>6934.110</td>\n",
       "      <td>4412.020</td>\n",
       "      <td>8247.560</td>\n",
       "      <td>4428.030</td>\n",
       "      <td>4098.75</td>\n",
       "    </tr>\n",
       "    <tr>\n",
       "      <th>avg</th>\n",
       "      <td>10208.65</td>\n",
       "      <td>4719.42</td>\n",
       "      <td>5440.664</td>\n",
       "      <td>4511.154</td>\n",
       "      <td>7666.136</td>\n",
       "      <td>3992.944</td>\n",
       "      <td>4264.762</td>\n",
       "      <td>7715.772</td>\n",
       "      <td>8071.204</td>\n",
       "      <td>6755.476</td>\n",
       "      <td>3873.378</td>\n",
       "      <td>9164.784</td>\n",
       "      <td>4697.368</td>\n",
       "      <td>4109.47</td>\n",
       "    </tr>\n",
       "  </tbody>\n",
       "</table>\n",
       "</div>"
      ],
      "text/plain": [
       "     symboling  wheel_base    length     width    height  curb_weight  \\\n",
       "1     14726.12     3070.81  5359.360  3943.560  9910.150     4508.810   \n",
       "3     10154.76     4325.49  6032.070  5592.100  6977.480     4088.370   \n",
       "5      8490.80     5505.26  5772.150  4352.520  7167.590     3584.470   \n",
       "7      8968.11     5343.02  5370.470  4258.010  7125.510     3876.210   \n",
       "9      8703.46     5352.52  4669.270  4409.580  7149.950     3906.860   \n",
       "avg   10208.65     4719.42  5440.664  4511.154  7666.136     3992.944   \n",
       "\n",
       "     engine_size      bore    stroke  compression_ratio  horsepower  \\\n",
       "1       5167.120  8825.760  8567.420           6799.790    3744.080   \n",
       "3       3699.650  8530.460  7362.070           6613.220    3574.050   \n",
       "5       4111.540  7539.750  7473.340           6718.450    3669.370   \n",
       "7       4143.220  6827.550  8551.410           6711.810    3967.370   \n",
       "9       4202.280  6855.340  8401.780           6934.110    4412.020   \n",
       "avg     4264.762  7715.772  8071.204           6755.476    3873.378   \n",
       "\n",
       "      peak_rpm  city_mpg  highway_mpg  \n",
       "1    10085.460  6154.500      4178.98  \n",
       "3     9759.070  4590.020      4124.48  \n",
       "5     9103.710  4186.470      4122.56  \n",
       "7     8628.120  4127.820      4022.58  \n",
       "9     8247.560  4428.030      4098.75  \n",
       "avg   9164.784  4697.368      4109.47  "
      ]
     },
     "execution_count": 27,
     "metadata": {},
     "output_type": "execute_result"
    }
   ],
   "source": [
    "results.loc['avg'] = results.apply(np.mean)\n",
    "results"
   ]
  },
  {
   "cell_type": "markdown",
   "metadata": {},
   "source": [
    "Now we sort the feature columns in ascending order according to their average RMSE:"
   ]
  },
  {
   "cell_type": "code",
   "execution_count": 28,
   "metadata": {
    "jupyter": {
     "outputs_hidden": false
    }
   },
   "outputs": [
    {
     "data": {
      "text/plain": [
       "Index(['horsepower', 'curb_weight', 'highway_mpg', 'engine_size', 'width',\n",
       "       'city_mpg', 'wheel_base', 'length', 'compression_ratio', 'height',\n",
       "       'bore', 'stroke', 'peak_rpm', 'symboling'],\n",
       "      dtype='object')"
      ]
     },
     "execution_count": 28,
     "metadata": {},
     "output_type": "execute_result"
    }
   ],
   "source": [
    "# By using index we keep only the indices (i.e., the names of the best features)\n",
    "best_features = results.loc['avg'].sort_values().index\n",
    "best_features"
   ]
  },
  {
   "cell_type": "markdown",
   "metadata": {},
   "source": [
    "Use the best 2 to 13 features from the previous step to train and test a multivariate k-nearest neighbors model using the default `k` value."
   ]
  },
  {
   "cell_type": "code",
   "execution_count": 29,
   "metadata": {
    "jupyter": {
     "outputs_hidden": false
    }
   },
   "outputs": [
    {
     "name": "stdout",
     "output_type": "stream",
     "text": [
      "{2: 2954.48, 3: 3055.03, 4: 3140.17, 5: 2881.26, 6: 2955.5, 7: 2815.25, 8: 2852.18, 9: 3018.05, 10: 3122.0, 11: 3035.29, 12: 3266.03, 13: 3140.37}\n"
     ]
    }
   ],
   "source": [
    "nb_best_features = list(range(2,len(best_features)))\n",
    "# Initialize dictionary for RMSE values:\n",
    "rmse_values = {}\n",
    "for n in nb_best_features:\n",
    "    # print(n)\n",
    "    # print( best_features[:n])\n",
    "    rmse = knn_train_test(cars_num, best_features[:n])\n",
    "    rmse_values[n] = round(rmse, 2)\n",
    "print(rmse_values)"
   ]
  },
  {
   "cell_type": "code",
   "execution_count": 30,
   "metadata": {
    "jupyter": {
     "outputs_hidden": false
    }
   },
   "outputs": [
    {
     "name": "stdout",
     "output_type": "stream",
     "text": [
      "[2, 3, 4, 5, 6, 7, 8, 9, 10, 11, 12, 13]\n",
      "dict_values([2954.48, 3055.03, 3140.17, 2881.26, 2955.5, 2815.25, 2852.18, 3018.05, 3122.0, 3035.29, 3266.03, 3140.37])\n"
     ]
    },
    {
     "data": {
      "image/png": "[encoded data removed]",
      "text/plain": [
       "<Figure size 432x288 with 1 Axes>"
      ]
     },
     "metadata": {
      "needs_background": "light"
     },
     "output_type": "display_data"
    }
   ],
   "source": [
    "print(nb_best_features)\n",
    "print(rmse_values.values())\n",
    "\n",
    "plt.plot(nb_best_features, list(rmse_values.values()), color='r')\n",
    "plt.title('RMSE vs number of best features')\n",
    "plt.xlabel('number of best features')\n",
    "plt.ylabel('RMSE')\n",
    "plt.show()"
   ]
  },
  {
   "cell_type": "markdown",
   "metadata": {},
   "source": [
    "It appears that using 7 features gives the smallest RMSE."
   ]
  },
  {
   "cell_type": "markdown",
   "metadata": {},
   "source": [
    "## 5. Hyperparameter Tuning\n",
    "\n",
    "Let's now optimize the models that performed the best in the previous step. The top 3 models in the last step use the best 5 features, the best 7 features, and the best 8 features. \n",
    "\n",
    "1) For each model, we __vary the hyperparameter value__ (i.e., the `k` value) __from 1 to 25__ and calculate the corresponding RMSE values. "
   ]
  },
  {
   "cell_type": "code",
   "execution_count": 31,
   "metadata": {
    "jupyter": {
     "outputs_hidden": false
    }
   },
   "outputs": [
    {
     "data": {
      "text/html": [
       "<div>\n",
       "<style scoped>\n",
       "    .dataframe tbody tr th:only-of-type {\n",
       "        vertical-align: middle;\n",
       "    }\n",
       "\n",
       "    .dataframe tbody tr th {\n",
       "        vertical-align: top;\n",
       "    }\n",
       "\n",
       "    .dataframe thead th {\n",
       "        text-align: right;\n",
       "    }\n",
       "</style>\n",
       "<table border=\"1\" class=\"dataframe\">\n",
       "  <thead>\n",
       "    <tr style=\"text-align: right;\">\n",
       "      <th></th>\n",
       "      <th>5</th>\n",
       "      <th>7</th>\n",
       "      <th>8</th>\n",
       "    </tr>\n",
       "  </thead>\n",
       "  <tbody>\n",
       "    <tr>\n",
       "      <th>1</th>\n",
       "      <td>3115.35</td>\n",
       "      <td>3030.29</td>\n",
       "      <td>2974.28</td>\n",
       "    </tr>\n",
       "    <tr>\n",
       "      <th>2</th>\n",
       "      <td>2847.10</td>\n",
       "      <td>2802.16</td>\n",
       "      <td>2862.22</td>\n",
       "    </tr>\n",
       "    <tr>\n",
       "      <th>3</th>\n",
       "      <td>3048.96</td>\n",
       "      <td>2965.75</td>\n",
       "      <td>2916.73</td>\n",
       "    </tr>\n",
       "    <tr>\n",
       "      <th>4</th>\n",
       "      <td>2970.30</td>\n",
       "      <td>2843.35</td>\n",
       "      <td>2824.41</td>\n",
       "    </tr>\n",
       "    <tr>\n",
       "      <th>5</th>\n",
       "      <td>2881.26</td>\n",
       "      <td>2815.25</td>\n",
       "      <td>2852.18</td>\n",
       "    </tr>\n",
       "    <tr>\n",
       "      <th>6</th>\n",
       "      <td>2792.53</td>\n",
       "      <td>2904.51</td>\n",
       "      <td>2884.02</td>\n",
       "    </tr>\n",
       "    <tr>\n",
       "      <th>7</th>\n",
       "      <td>2787.44</td>\n",
       "      <td>2873.48</td>\n",
       "      <td>2876.73</td>\n",
       "    </tr>\n",
       "    <tr>\n",
       "      <th>8</th>\n",
       "      <td>2947.83</td>\n",
       "      <td>2931.71</td>\n",
       "      <td>2965.91</td>\n",
       "    </tr>\n",
       "    <tr>\n",
       "      <th>9</th>\n",
       "      <td>3050.48</td>\n",
       "      <td>3071.23</td>\n",
       "      <td>3133.22</td>\n",
       "    </tr>\n",
       "    <tr>\n",
       "      <th>10</th>\n",
       "      <td>3125.05</td>\n",
       "      <td>3065.68</td>\n",
       "      <td>3199.26</td>\n",
       "    </tr>\n",
       "    <tr>\n",
       "      <th>11</th>\n",
       "      <td>3091.42</td>\n",
       "      <td>3219.43</td>\n",
       "      <td>3304.81</td>\n",
       "    </tr>\n",
       "    <tr>\n",
       "      <th>12</th>\n",
       "      <td>3278.42</td>\n",
       "      <td>3403.76</td>\n",
       "      <td>3351.23</td>\n",
       "    </tr>\n",
       "    <tr>\n",
       "      <th>13</th>\n",
       "      <td>3431.01</td>\n",
       "      <td>3573.55</td>\n",
       "      <td>3460.47</td>\n",
       "    </tr>\n",
       "    <tr>\n",
       "      <th>14</th>\n",
       "      <td>3645.14</td>\n",
       "      <td>3679.62</td>\n",
       "      <td>3593.29</td>\n",
       "    </tr>\n",
       "    <tr>\n",
       "      <th>15</th>\n",
       "      <td>3809.15</td>\n",
       "      <td>3760.37</td>\n",
       "      <td>3751.67</td>\n",
       "    </tr>\n",
       "    <tr>\n",
       "      <th>16</th>\n",
       "      <td>3900.45</td>\n",
       "      <td>3882.15</td>\n",
       "      <td>3882.49</td>\n",
       "    </tr>\n",
       "    <tr>\n",
       "      <th>17</th>\n",
       "      <td>4019.55</td>\n",
       "      <td>4003.71</td>\n",
       "      <td>3970.92</td>\n",
       "    </tr>\n",
       "    <tr>\n",
       "      <th>18</th>\n",
       "      <td>4128.28</td>\n",
       "      <td>4129.48</td>\n",
       "      <td>4085.16</td>\n",
       "    </tr>\n",
       "    <tr>\n",
       "      <th>19</th>\n",
       "      <td>4248.43</td>\n",
       "      <td>4242.71</td>\n",
       "      <td>4204.61</td>\n",
       "    </tr>\n",
       "    <tr>\n",
       "      <th>20</th>\n",
       "      <td>4328.28</td>\n",
       "      <td>4324.04</td>\n",
       "      <td>4290.16</td>\n",
       "    </tr>\n",
       "    <tr>\n",
       "      <th>21</th>\n",
       "      <td>4389.18</td>\n",
       "      <td>4405.06</td>\n",
       "      <td>4388.18</td>\n",
       "    </tr>\n",
       "    <tr>\n",
       "      <th>22</th>\n",
       "      <td>4440.48</td>\n",
       "      <td>4490.94</td>\n",
       "      <td>4446.44</td>\n",
       "    </tr>\n",
       "    <tr>\n",
       "      <th>23</th>\n",
       "      <td>4500.93</td>\n",
       "      <td>4505.44</td>\n",
       "      <td>4464.85</td>\n",
       "    </tr>\n",
       "    <tr>\n",
       "      <th>24</th>\n",
       "      <td>4550.09</td>\n",
       "      <td>4569.45</td>\n",
       "      <td>4536.49</td>\n",
       "    </tr>\n",
       "    <tr>\n",
       "      <th>25</th>\n",
       "      <td>4629.87</td>\n",
       "      <td>4633.10</td>\n",
       "      <td>4551.71</td>\n",
       "    </tr>\n",
       "  </tbody>\n",
       "</table>\n",
       "</div>"
      ],
      "text/plain": [
       "          5        7        8\n",
       "1   3115.35  3030.29  2974.28\n",
       "2   2847.10  2802.16  2862.22\n",
       "3   3048.96  2965.75  2916.73\n",
       "4   2970.30  2843.35  2824.41\n",
       "5   2881.26  2815.25  2852.18\n",
       "6   2792.53  2904.51  2884.02\n",
       "7   2787.44  2873.48  2876.73\n",
       "8   2947.83  2931.71  2965.91\n",
       "9   3050.48  3071.23  3133.22\n",
       "10  3125.05  3065.68  3199.26\n",
       "11  3091.42  3219.43  3304.81\n",
       "12  3278.42  3403.76  3351.23\n",
       "13  3431.01  3573.55  3460.47\n",
       "14  3645.14  3679.62  3593.29\n",
       "15  3809.15  3760.37  3751.67\n",
       "16  3900.45  3882.15  3882.49\n",
       "17  4019.55  4003.71  3970.92\n",
       "18  4128.28  4129.48  4085.16\n",
       "19  4248.43  4242.71  4204.61\n",
       "20  4328.28  4324.04  4290.16\n",
       "21  4389.18  4405.06  4388.18\n",
       "22  4440.48  4490.94  4446.44\n",
       "23  4500.93  4505.44  4464.85\n",
       "24  4550.09  4569.45  4536.49\n",
       "25  4629.87  4633.10  4551.71"
      ]
     },
     "execution_count": 31,
     "metadata": {},
     "output_type": "execute_result"
    }
   ],
   "source": [
    "top_best_features = [5, 7, 8]\n",
    "knn_array = list(range(1,26))\n",
    "rmse_k = {}\n",
    "for n in top_best_features:\n",
    "    rmse_values = list()\n",
    "    for knn in knn_array:\n",
    "        rmse = knn_train_test(cars_num, best_features[:n], k = knn)\n",
    "        rmse_values.append(round(rmse, 2))\n",
    "    rmse_k[n] = rmse_values\n",
    "final_result = pd.DataFrame(rmse_k, index=range(1,26))\n",
    "final_result"
   ]
  },
  {
   "cell_type": "markdown",
   "metadata": {},
   "source": [
    "Plot the resulting RMSE values."
   ]
  },
  {
   "cell_type": "code",
   "execution_count": 32,
   "metadata": {
    "jupyter": {
     "outputs_hidden": false
    }
   },
   "outputs": [
    {
     "data": {
      "image/png": "[encoded data removed]",
      "text/plain": [
       "<Figure size 432x288 with 1 Axes>"
      ]
     },
     "metadata": {
      "needs_background": "light"
     },
     "output_type": "display_data"
    }
   ],
   "source": [
    "plt.plot(final_result)\n",
    "plt.title('RMSE vs k value')\n",
    "plt.xlabel('k value')\n",
    "plt.ylabel('RMSE')\n",
    "plt.legend(top_best_features, loc='upper left')\n",
    "plt.show()"
   ]
  },
  {
   "cell_type": "markdown",
   "metadata": {},
   "source": [
    "2) __Which `k` value is optimal for each model?__"
   ]
  },
  {
   "cell_type": "code",
   "execution_count": 33,
   "metadata": {
    "jupyter": {
     "outputs_hidden": true
    }
   },
   "outputs": [
    {
     "data": {
      "text/plain": [
       "5    7\n",
       "7    2\n",
       "8    4\n",
       "dtype: int64"
      ]
     },
     "execution_count": 33,
     "metadata": {},
     "output_type": "execute_result"
    }
   ],
   "source": [
    "# Returns index for minimum across each column of final_results:\n",
    "final_result[[5, 7, 8]].idxmin()"
   ]
  },
  {
   "cell_type": "markdown",
   "metadata": {},
   "source": [
    "As we can observe from both the values and the plot displayed above:\n",
    "- when we use the best 5 features, the optimal `k` is 7;\n",
    "- when we use the best 7 features, the optimal `k` is 2;\n",
    "- when we use the best 8 features, the optimal `k` is 4."
   ]
  }
 ],
 "metadata": {
  "kernelspec": {
   "display_name": "Python 3",
   "language": "python",
   "name": "python3"
  },
  "language_info": {
   "codemirror_mode": {
    "name": "ipython",
    "version": 3
   },
   "file_extension": ".py",
   "mimetype": "text/x-python",
   "name": "python",
   "nbconvert_exporter": "python",
   "pygments_lexer": "ipython3",
   "version": "3.7.6"
  }
 },
 "nbformat": 4,
 "nbformat_minor": 4
}

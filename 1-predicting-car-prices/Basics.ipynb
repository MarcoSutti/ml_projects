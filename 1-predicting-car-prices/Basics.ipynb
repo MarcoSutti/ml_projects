{
 "cells": [
  {
   "cell_type": "markdown",
   "metadata": {},
   "source": [
    "# Predicting Car Prices"
   ]
  },
  {
   "cell_type": "code",
   "execution_count": 25,
   "metadata": {},
   "outputs": [],
   "source": [
    "import pandas as pd\n",
    "import numpy as np"
   ]
  },
  {
   "cell_type": "markdown",
   "metadata": {},
   "source": [
    "## 1. Introduction to the data set"
   ]
  },
  {
   "cell_type": "code",
   "execution_count": 26,
   "metadata": {},
   "outputs": [],
   "source": [
    "cars = pd.read_csv('imports-85.data')"
   ]
  },
  {
   "cell_type": "code",
   "execution_count": 27,
   "metadata": {
    "collapsed": false,
    "jupyter": {
     "outputs_hidden": false
    }
   },
   "outputs": [],
   "source": [
    "pd.set_option('display.max_columns', None) # to display all the columns"
   ]
  },
  {
   "cell_type": "code",
   "execution_count": 28,
   "metadata": {
    "collapsed": false,
    "jupyter": {
     "outputs_hidden": false
    }
   },
   "outputs": [
    {
     "data": {
      "text/html": [
       "<div>\n",
       "<style scoped>\n",
       "    .dataframe tbody tr th:only-of-type {\n",
       "        vertical-align: middle;\n",
       "    }\n",
       "\n",
       "    .dataframe tbody tr th {\n",
       "        vertical-align: top;\n",
       "    }\n",
       "\n",
       "    .dataframe thead th {\n",
       "        text-align: right;\n",
       "    }\n",
       "</style>\n",
       "<table border=\"1\" class=\"dataframe\">\n",
       "  <thead>\n",
       "    <tr style=\"text-align: right;\">\n",
       "      <th></th>\n",
       "      <th>3</th>\n",
       "      <th>?</th>\n",
       "      <th>alfa-romero</th>\n",
       "      <th>gas</th>\n",
       "      <th>std</th>\n",
       "      <th>two</th>\n",
       "      <th>convertible</th>\n",
       "      <th>rwd</th>\n",
       "      <th>front</th>\n",
       "      <th>88.60</th>\n",
       "      <th>168.80</th>\n",
       "      <th>64.10</th>\n",
       "      <th>48.80</th>\n",
       "      <th>2548</th>\n",
       "      <th>dohc</th>\n",
       "      <th>four</th>\n",
       "      <th>130</th>\n",
       "      <th>mpfi</th>\n",
       "      <th>3.47</th>\n",
       "      <th>2.68</th>\n",
       "      <th>9.00</th>\n",
       "      <th>111</th>\n",
       "      <th>5000</th>\n",
       "      <th>21</th>\n",
       "      <th>27</th>\n",
       "      <th>13495</th>\n",
       "    </tr>\n",
       "  </thead>\n",
       "  <tbody>\n",
       "    <tr>\n",
       "      <th>0</th>\n",
       "      <td>3</td>\n",
       "      <td>?</td>\n",
       "      <td>alfa-romero</td>\n",
       "      <td>gas</td>\n",
       "      <td>std</td>\n",
       "      <td>two</td>\n",
       "      <td>convertible</td>\n",
       "      <td>rwd</td>\n",
       "      <td>front</td>\n",
       "      <td>88.6</td>\n",
       "      <td>168.8</td>\n",
       "      <td>64.1</td>\n",
       "      <td>48.8</td>\n",
       "      <td>2548</td>\n",
       "      <td>dohc</td>\n",
       "      <td>four</td>\n",
       "      <td>130</td>\n",
       "      <td>mpfi</td>\n",
       "      <td>3.47</td>\n",
       "      <td>2.68</td>\n",
       "      <td>9.0</td>\n",
       "      <td>111</td>\n",
       "      <td>5000</td>\n",
       "      <td>21</td>\n",
       "      <td>27</td>\n",
       "      <td>16500</td>\n",
       "    </tr>\n",
       "    <tr>\n",
       "      <th>1</th>\n",
       "      <td>1</td>\n",
       "      <td>?</td>\n",
       "      <td>alfa-romero</td>\n",
       "      <td>gas</td>\n",
       "      <td>std</td>\n",
       "      <td>two</td>\n",
       "      <td>hatchback</td>\n",
       "      <td>rwd</td>\n",
       "      <td>front</td>\n",
       "      <td>94.5</td>\n",
       "      <td>171.2</td>\n",
       "      <td>65.5</td>\n",
       "      <td>52.4</td>\n",
       "      <td>2823</td>\n",
       "      <td>ohcv</td>\n",
       "      <td>six</td>\n",
       "      <td>152</td>\n",
       "      <td>mpfi</td>\n",
       "      <td>2.68</td>\n",
       "      <td>3.47</td>\n",
       "      <td>9.0</td>\n",
       "      <td>154</td>\n",
       "      <td>5000</td>\n",
       "      <td>19</td>\n",
       "      <td>26</td>\n",
       "      <td>16500</td>\n",
       "    </tr>\n",
       "    <tr>\n",
       "      <th>2</th>\n",
       "      <td>2</td>\n",
       "      <td>164</td>\n",
       "      <td>audi</td>\n",
       "      <td>gas</td>\n",
       "      <td>std</td>\n",
       "      <td>four</td>\n",
       "      <td>sedan</td>\n",
       "      <td>fwd</td>\n",
       "      <td>front</td>\n",
       "      <td>99.8</td>\n",
       "      <td>176.6</td>\n",
       "      <td>66.2</td>\n",
       "      <td>54.3</td>\n",
       "      <td>2337</td>\n",
       "      <td>ohc</td>\n",
       "      <td>four</td>\n",
       "      <td>109</td>\n",
       "      <td>mpfi</td>\n",
       "      <td>3.19</td>\n",
       "      <td>3.40</td>\n",
       "      <td>10.0</td>\n",
       "      <td>102</td>\n",
       "      <td>5500</td>\n",
       "      <td>24</td>\n",
       "      <td>30</td>\n",
       "      <td>13950</td>\n",
       "    </tr>\n",
       "    <tr>\n",
       "      <th>3</th>\n",
       "      <td>2</td>\n",
       "      <td>164</td>\n",
       "      <td>audi</td>\n",
       "      <td>gas</td>\n",
       "      <td>std</td>\n",
       "      <td>four</td>\n",
       "      <td>sedan</td>\n",
       "      <td>4wd</td>\n",
       "      <td>front</td>\n",
       "      <td>99.4</td>\n",
       "      <td>176.6</td>\n",
       "      <td>66.4</td>\n",
       "      <td>54.3</td>\n",
       "      <td>2824</td>\n",
       "      <td>ohc</td>\n",
       "      <td>five</td>\n",
       "      <td>136</td>\n",
       "      <td>mpfi</td>\n",
       "      <td>3.19</td>\n",
       "      <td>3.40</td>\n",
       "      <td>8.0</td>\n",
       "      <td>115</td>\n",
       "      <td>5500</td>\n",
       "      <td>18</td>\n",
       "      <td>22</td>\n",
       "      <td>17450</td>\n",
       "    </tr>\n",
       "    <tr>\n",
       "      <th>4</th>\n",
       "      <td>2</td>\n",
       "      <td>?</td>\n",
       "      <td>audi</td>\n",
       "      <td>gas</td>\n",
       "      <td>std</td>\n",
       "      <td>two</td>\n",
       "      <td>sedan</td>\n",
       "      <td>fwd</td>\n",
       "      <td>front</td>\n",
       "      <td>99.8</td>\n",
       "      <td>177.3</td>\n",
       "      <td>66.3</td>\n",
       "      <td>53.1</td>\n",
       "      <td>2507</td>\n",
       "      <td>ohc</td>\n",
       "      <td>five</td>\n",
       "      <td>136</td>\n",
       "      <td>mpfi</td>\n",
       "      <td>3.19</td>\n",
       "      <td>3.40</td>\n",
       "      <td>8.5</td>\n",
       "      <td>110</td>\n",
       "      <td>5500</td>\n",
       "      <td>19</td>\n",
       "      <td>25</td>\n",
       "      <td>15250</td>\n",
       "    </tr>\n",
       "  </tbody>\n",
       "</table>\n",
       "</div>"
      ],
      "text/plain": [
       "   3    ?  alfa-romero  gas  std   two  convertible  rwd  front  88.60  \\\n",
       "0  3    ?  alfa-romero  gas  std   two  convertible  rwd  front   88.6   \n",
       "1  1    ?  alfa-romero  gas  std   two    hatchback  rwd  front   94.5   \n",
       "2  2  164         audi  gas  std  four        sedan  fwd  front   99.8   \n",
       "3  2  164         audi  gas  std  four        sedan  4wd  front   99.4   \n",
       "4  2    ?         audi  gas  std   two        sedan  fwd  front   99.8   \n",
       "\n",
       "   168.80  64.10  48.80  2548  dohc  four  130  mpfi  3.47  2.68  9.00  111  \\\n",
       "0   168.8   64.1   48.8  2548  dohc  four  130  mpfi  3.47  2.68   9.0  111   \n",
       "1   171.2   65.5   52.4  2823  ohcv   six  152  mpfi  2.68  3.47   9.0  154   \n",
       "2   176.6   66.2   54.3  2337   ohc  four  109  mpfi  3.19  3.40  10.0  102   \n",
       "3   176.6   66.4   54.3  2824   ohc  five  136  mpfi  3.19  3.40   8.0  115   \n",
       "4   177.3   66.3   53.1  2507   ohc  five  136  mpfi  3.19  3.40   8.5  110   \n",
       "\n",
       "   5000  21  27  13495  \n",
       "0  5000  21  27  16500  \n",
       "1  5000  19  26  16500  \n",
       "2  5500  24  30  13950  \n",
       "3  5500  18  22  17450  \n",
       "4  5500  19  25  15250  "
      ]
     },
     "execution_count": 28,
     "metadata": {},
     "output_type": "execute_result"
    }
   ],
   "source": [
    "cars.head() # print the first five rows"
   ]
  },
  {
   "cell_type": "markdown",
   "metadata": {},
   "source": [
    "As we can see, the dataframe has no header. I will use the documentation on the data source website to create a list of column names and pass it as an argument to the `read_csv` method."
   ]
  },
  {
   "cell_type": "code",
   "execution_count": 29,
   "metadata": {
    "collapsed": true,
    "jupyter": {
     "outputs_hidden": true
    }
   },
   "outputs": [],
   "source": [
    "columns_name = ['symboling','normalized_losses','make','fuel_type','aspiration','num_doors','body_style','drive_wheels','engine_location','wheel_base','length','width','height','curb_weight','engine_type','num_cylinders','engine_size','fuel_system','bore','stroke','compression_ratio','horsepower','peak_rpm','city_mpg','highway_mpg','price']"
   ]
  },
  {
   "cell_type": "markdown",
   "metadata": {},
   "source": [
    "Now let's read the data again, and pass the `columns_name` as input argument to `read_csv`:"
   ]
  },
  {
   "cell_type": "code",
   "execution_count": 30,
   "metadata": {
    "collapsed": true,
    "jupyter": {
     "outputs_hidden": true
    }
   },
   "outputs": [],
   "source": [
    "cars = pd.read_csv('imports-85.data',header=None,names=columns_name)"
   ]
  },
  {
   "cell_type": "code",
   "execution_count": 31,
   "metadata": {
    "collapsed": false,
    "jupyter": {
     "outputs_hidden": false
    }
   },
   "outputs": [
    {
     "data": {
      "text/html": [
       "<div>\n",
       "<style scoped>\n",
       "    .dataframe tbody tr th:only-of-type {\n",
       "        vertical-align: middle;\n",
       "    }\n",
       "\n",
       "    .dataframe tbody tr th {\n",
       "        vertical-align: top;\n",
       "    }\n",
       "\n",
       "    .dataframe thead th {\n",
       "        text-align: right;\n",
       "    }\n",
       "</style>\n",
       "<table border=\"1\" class=\"dataframe\">\n",
       "  <thead>\n",
       "    <tr style=\"text-align: right;\">\n",
       "      <th></th>\n",
       "      <th>symboling</th>\n",
       "      <th>normalized_losses</th>\n",
       "      <th>make</th>\n",
       "      <th>fuel_type</th>\n",
       "      <th>aspiration</th>\n",
       "      <th>num_doors</th>\n",
       "      <th>body_style</th>\n",
       "      <th>drive_wheels</th>\n",
       "      <th>engine_location</th>\n",
       "      <th>wheel_base</th>\n",
       "      <th>length</th>\n",
       "      <th>width</th>\n",
       "      <th>height</th>\n",
       "      <th>curb_weight</th>\n",
       "      <th>engine_type</th>\n",
       "      <th>num_cylinders</th>\n",
       "      <th>engine_size</th>\n",
       "      <th>fuel_system</th>\n",
       "      <th>bore</th>\n",
       "      <th>stroke</th>\n",
       "      <th>compression_ratio</th>\n",
       "      <th>horsepower</th>\n",
       "      <th>peak_rpm</th>\n",
       "      <th>city_mpg</th>\n",
       "      <th>highway_mpg</th>\n",
       "      <th>price</th>\n",
       "    </tr>\n",
       "  </thead>\n",
       "  <tbody>\n",
       "    <tr>\n",
       "      <th>0</th>\n",
       "      <td>3</td>\n",
       "      <td>?</td>\n",
       "      <td>alfa-romero</td>\n",
       "      <td>gas</td>\n",
       "      <td>std</td>\n",
       "      <td>two</td>\n",
       "      <td>convertible</td>\n",
       "      <td>rwd</td>\n",
       "      <td>front</td>\n",
       "      <td>88.6</td>\n",
       "      <td>168.8</td>\n",
       "      <td>64.1</td>\n",
       "      <td>48.8</td>\n",
       "      <td>2548</td>\n",
       "      <td>dohc</td>\n",
       "      <td>four</td>\n",
       "      <td>130</td>\n",
       "      <td>mpfi</td>\n",
       "      <td>3.47</td>\n",
       "      <td>2.68</td>\n",
       "      <td>9.0</td>\n",
       "      <td>111</td>\n",
       "      <td>5000</td>\n",
       "      <td>21</td>\n",
       "      <td>27</td>\n",
       "      <td>13495</td>\n",
       "    </tr>\n",
       "    <tr>\n",
       "      <th>1</th>\n",
       "      <td>3</td>\n",
       "      <td>?</td>\n",
       "      <td>alfa-romero</td>\n",
       "      <td>gas</td>\n",
       "      <td>std</td>\n",
       "      <td>two</td>\n",
       "      <td>convertible</td>\n",
       "      <td>rwd</td>\n",
       "      <td>front</td>\n",
       "      <td>88.6</td>\n",
       "      <td>168.8</td>\n",
       "      <td>64.1</td>\n",
       "      <td>48.8</td>\n",
       "      <td>2548</td>\n",
       "      <td>dohc</td>\n",
       "      <td>four</td>\n",
       "      <td>130</td>\n",
       "      <td>mpfi</td>\n",
       "      <td>3.47</td>\n",
       "      <td>2.68</td>\n",
       "      <td>9.0</td>\n",
       "      <td>111</td>\n",
       "      <td>5000</td>\n",
       "      <td>21</td>\n",
       "      <td>27</td>\n",
       "      <td>16500</td>\n",
       "    </tr>\n",
       "    <tr>\n",
       "      <th>2</th>\n",
       "      <td>1</td>\n",
       "      <td>?</td>\n",
       "      <td>alfa-romero</td>\n",
       "      <td>gas</td>\n",
       "      <td>std</td>\n",
       "      <td>two</td>\n",
       "      <td>hatchback</td>\n",
       "      <td>rwd</td>\n",
       "      <td>front</td>\n",
       "      <td>94.5</td>\n",
       "      <td>171.2</td>\n",
       "      <td>65.5</td>\n",
       "      <td>52.4</td>\n",
       "      <td>2823</td>\n",
       "      <td>ohcv</td>\n",
       "      <td>six</td>\n",
       "      <td>152</td>\n",
       "      <td>mpfi</td>\n",
       "      <td>2.68</td>\n",
       "      <td>3.47</td>\n",
       "      <td>9.0</td>\n",
       "      <td>154</td>\n",
       "      <td>5000</td>\n",
       "      <td>19</td>\n",
       "      <td>26</td>\n",
       "      <td>16500</td>\n",
       "    </tr>\n",
       "    <tr>\n",
       "      <th>3</th>\n",
       "      <td>2</td>\n",
       "      <td>164</td>\n",
       "      <td>audi</td>\n",
       "      <td>gas</td>\n",
       "      <td>std</td>\n",
       "      <td>four</td>\n",
       "      <td>sedan</td>\n",
       "      <td>fwd</td>\n",
       "      <td>front</td>\n",
       "      <td>99.8</td>\n",
       "      <td>176.6</td>\n",
       "      <td>66.2</td>\n",
       "      <td>54.3</td>\n",
       "      <td>2337</td>\n",
       "      <td>ohc</td>\n",
       "      <td>four</td>\n",
       "      <td>109</td>\n",
       "      <td>mpfi</td>\n",
       "      <td>3.19</td>\n",
       "      <td>3.40</td>\n",
       "      <td>10.0</td>\n",
       "      <td>102</td>\n",
       "      <td>5500</td>\n",
       "      <td>24</td>\n",
       "      <td>30</td>\n",
       "      <td>13950</td>\n",
       "    </tr>\n",
       "    <tr>\n",
       "      <th>4</th>\n",
       "      <td>2</td>\n",
       "      <td>164</td>\n",
       "      <td>audi</td>\n",
       "      <td>gas</td>\n",
       "      <td>std</td>\n",
       "      <td>four</td>\n",
       "      <td>sedan</td>\n",
       "      <td>4wd</td>\n",
       "      <td>front</td>\n",
       "      <td>99.4</td>\n",
       "      <td>176.6</td>\n",
       "      <td>66.4</td>\n",
       "      <td>54.3</td>\n",
       "      <td>2824</td>\n",
       "      <td>ohc</td>\n",
       "      <td>five</td>\n",
       "      <td>136</td>\n",
       "      <td>mpfi</td>\n",
       "      <td>3.19</td>\n",
       "      <td>3.40</td>\n",
       "      <td>8.0</td>\n",
       "      <td>115</td>\n",
       "      <td>5500</td>\n",
       "      <td>18</td>\n",
       "      <td>22</td>\n",
       "      <td>17450</td>\n",
       "    </tr>\n",
       "  </tbody>\n",
       "</table>\n",
       "</div>"
      ],
      "text/plain": [
       "   symboling normalized_losses         make fuel_type aspiration num_doors  \\\n",
       "0          3                 ?  alfa-romero       gas        std       two   \n",
       "1          3                 ?  alfa-romero       gas        std       two   \n",
       "2          1                 ?  alfa-romero       gas        std       two   \n",
       "3          2               164         audi       gas        std      four   \n",
       "4          2               164         audi       gas        std      four   \n",
       "\n",
       "    body_style drive_wheels engine_location  wheel_base  length  width  \\\n",
       "0  convertible          rwd           front        88.6   168.8   64.1   \n",
       "1  convertible          rwd           front        88.6   168.8   64.1   \n",
       "2    hatchback          rwd           front        94.5   171.2   65.5   \n",
       "3        sedan          fwd           front        99.8   176.6   66.2   \n",
       "4        sedan          4wd           front        99.4   176.6   66.4   \n",
       "\n",
       "   height  curb_weight engine_type num_cylinders  engine_size fuel_system  \\\n",
       "0    48.8         2548        dohc          four          130        mpfi   \n",
       "1    48.8         2548        dohc          four          130        mpfi   \n",
       "2    52.4         2823        ohcv           six          152        mpfi   \n",
       "3    54.3         2337         ohc          four          109        mpfi   \n",
       "4    54.3         2824         ohc          five          136        mpfi   \n",
       "\n",
       "   bore stroke  compression_ratio horsepower peak_rpm  city_mpg  highway_mpg  \\\n",
       "0  3.47   2.68                9.0        111     5000        21           27   \n",
       "1  3.47   2.68                9.0        111     5000        21           27   \n",
       "2  2.68   3.47                9.0        154     5000        19           26   \n",
       "3  3.19   3.40               10.0        102     5500        24           30   \n",
       "4  3.19   3.40                8.0        115     5500        18           22   \n",
       "\n",
       "   price  \n",
       "0  13495  \n",
       "1  16500  \n",
       "2  16500  \n",
       "3  13950  \n",
       "4  17450  "
      ]
     },
     "execution_count": 31,
     "metadata": {},
     "output_type": "execute_result"
    }
   ],
   "source": [
    "cars.head() # print the first five rows"
   ]
  },
  {
   "cell_type": "markdown",
   "metadata": {},
   "source": [
    "Now the dataframe looks like the data set preview. "
   ]
  },
  {
   "cell_type": "markdown",
   "metadata": {},
   "source": [
    "The columns that are numeric and can be used as features are: `symboling`, `normalized_losses`, `wheel_base`, `length`, `width`, `height`, `curb_weight`, `engine_size`, `bore`, `stroke`, `compression_ratio`, `horsepower`, `peak_rpm`, `city_mpg`, and `highway_mpg`."
   ]
  },
  {
   "cell_type": "markdown",
   "metadata": {},
   "source": [
    "The target column will be `price`."
   ]
  },
  {
   "cell_type": "markdown",
   "metadata": {},
   "source": [
    "## 2. Data Cleaning"
   ]
  },
  {
   "cell_type": "markdown",
   "metadata": {},
   "source": [
    "We can see that the `normalized_losses` column contains missing values represented using \"?\". We use the `DataFrame.replace()` method to replace all of the ? values with the `numpy.nan` missing value."
   ]
  },
  {
   "cell_type": "code",
   "execution_count": 32,
   "metadata": {
    "collapsed": false,
    "jupyter": {
     "outputs_hidden": false
    }
   },
   "outputs": [],
   "source": [
    "cars = cars.replace(to_replace='?', value=np.nan)"
   ]
  },
  {
   "cell_type": "markdown",
   "metadata": {},
   "source": [
    "Because `?` is a string value, columns containing this value were cast to the pandas `object` data type (instead of a numeric type like `int` or `float`). Let's check which columns need to be converted to numeric types:"
   ]
  },
  {
   "cell_type": "code",
   "execution_count": 33,
   "metadata": {
    "collapsed": false,
    "jupyter": {
     "outputs_hidden": false
    },
    "scrolled": true
   },
   "outputs": [
    {
     "name": "stdout",
     "output_type": "stream",
     "text": [
      "<class 'pandas.core.frame.DataFrame'>\n",
      "RangeIndex: 205 entries, 0 to 204\n",
      "Data columns (total 26 columns):\n",
      "symboling            205 non-null int64\n",
      "normalized_losses    164 non-null object\n",
      "make                 205 non-null object\n",
      "fuel_type            205 non-null object\n",
      "aspiration           205 non-null object\n",
      "num_doors            203 non-null object\n",
      "body_style           205 non-null object\n",
      "drive_wheels         205 non-null object\n",
      "engine_location      205 non-null object\n",
      "wheel_base           205 non-null float64\n",
      "length               205 non-null float64\n",
      "width                205 non-null float64\n",
      "height               205 non-null float64\n",
      "curb_weight          205 non-null int64\n",
      "engine_type          205 non-null object\n",
      "num_cylinders        205 non-null object\n",
      "engine_size          205 non-null int64\n",
      "fuel_system          205 non-null object\n",
      "bore                 201 non-null object\n",
      "stroke               201 non-null object\n",
      "compression_ratio    205 non-null float64\n",
      "horsepower           203 non-null object\n",
      "peak_rpm             203 non-null object\n",
      "city_mpg             205 non-null int64\n",
      "highway_mpg          205 non-null int64\n",
      "price                201 non-null object\n",
      "dtypes: float64(5), int64(5), object(16)\n",
      "memory usage: 41.7+ KB\n"
     ]
    }
   ],
   "source": [
    "cars.info()"
   ]
  },
  {
   "cell_type": "markdown",
   "metadata": {},
   "source": [
    "It seems that we should convert to numeric types the columns `normalized_losses`, `bore`, `stroke`, `horsepower`, `peak_rpm`, and `price`."
   ]
  },
  {
   "cell_type": "code",
   "execution_count": 34,
   "metadata": {
    "collapsed": false,
    "jupyter": {
     "outputs_hidden": false
    }
   },
   "outputs": [],
   "source": [
    "columns_to_convert = ['normalized_losses', 'bore', 'stroke', 'horsepower', 'peak_rpm', 'price']\n",
    "cars[columns_to_convert] = cars[columns_to_convert].astype('float')"
   ]
  },
  {
   "cell_type": "code",
   "execution_count": 11,
   "metadata": {
    "collapsed": false,
    "jupyter": {
     "outputs_hidden": false
    }
   },
   "outputs": [
    {
     "name": "stdout",
     "output_type": "stream",
     "text": [
      "<class 'pandas.core.frame.DataFrame'>\n",
      "RangeIndex: 205 entries, 0 to 204\n",
      "Data columns (total 26 columns):\n",
      "symboling            205 non-null int64\n",
      "normalized_losses    164 non-null float64\n",
      "make                 205 non-null object\n",
      "fuel_type            205 non-null object\n",
      "aspiration           205 non-null object\n",
      "num_doors            203 non-null object\n",
      "body_style           205 non-null object\n",
      "drive_wheels         205 non-null object\n",
      "engine_location      205 non-null object\n",
      "wheel_base           205 non-null float64\n",
      "length               205 non-null float64\n",
      "width                205 non-null float64\n",
      "height               205 non-null float64\n",
      "curb_weight          205 non-null int64\n",
      "engine_type          205 non-null object\n",
      "num_cylinders        205 non-null object\n",
      "engine_size          205 non-null int64\n",
      "fuel_system          205 non-null object\n",
      "bore                 201 non-null float64\n",
      "stroke               201 non-null float64\n",
      "compression_ratio    205 non-null float64\n",
      "horsepower           203 non-null float64\n",
      "peak_rpm             203 non-null float64\n",
      "city_mpg             205 non-null int64\n",
      "highway_mpg          205 non-null int64\n",
      "price                201 non-null float64\n",
      "dtypes: float64(11), int64(5), object(10)\n",
      "memory usage: 41.7+ KB\n"
     ]
    }
   ],
   "source": [
    "cars.info()"
   ]
  },
  {
   "cell_type": "markdown",
   "metadata": {},
   "source": [
    "It looks fine now, the columns with numerical values are of numeric types."
   ]
  },
  {
   "cell_type": "markdown",
   "metadata": {},
   "source": [
    "Now let us explore the missing values in the dataframe. First, let us check the number of rows that have a missing value for the `normalized_losses` column."
   ]
  },
  {
   "cell_type": "code",
   "execution_count": 35,
   "metadata": {
    "collapsed": false,
    "jupyter": {
     "outputs_hidden": false
    }
   },
   "outputs": [
    {
     "data": {
      "text/plain": [
       "41"
      ]
     },
     "execution_count": 35,
     "metadata": {},
     "output_type": "execute_result"
    }
   ],
   "source": [
    "cars['normalized_losses'].isna().sum()"
   ]
  },
  {
   "cell_type": "markdown",
   "metadata": {},
   "source": [
    "So there are 41 NaN values, out of a total of 205 values, i.e., 20% of the values in the `normalized_losses` column are NaN. Let's explore the missing value counts for the other numeric columns: "
   ]
  },
  {
   "cell_type": "code",
   "execution_count": 36,
   "metadata": {
    "collapsed": false,
    "jupyter": {
     "outputs_hidden": false
    }
   },
   "outputs": [
    {
     "name": "stdout",
     "output_type": "stream",
     "text": [
      "symboling: 0\n",
      "wheel_base: 0\n",
      "length: 0\n",
      "width: 0\n",
      "height: 0\n",
      "curb_weight: 0\n",
      "engine_size: 0\n",
      "bore: 4\n",
      "stroke: 4\n",
      "compression_ratio: 0\n",
      "horsepower: 2\n",
      "peak_rpm: 2\n",
      "city_mpg: 0\n",
      "highway_mpg: 0\n",
      "price: 4\n"
     ]
    }
   ],
   "source": [
    "numeric_columns = ['symboling', 'wheel_base', 'length', 'width', 'height', 'curb_weight', 'engine_size', 'bore', 'stroke', 'compression_ratio', 'horsepower', 'peak_rpm', 'city_mpg', 'highway_mpg', 'price']\n",
    "\n",
    "for col_name in numeric_columns:\n",
    "    print(col_name+':', cars[col_name].isna().sum())"
   ]
  },
  {
   "cell_type": "markdown",
   "metadata": {},
   "source": [
    "For the other columns, the amount of missing values is less than 2% for each column. Let's drop the `normalized_losses` column and keep all the other columns by replacing the missing values with the average value from each column."
   ]
  },
  {
   "cell_type": "code",
   "execution_count": 37,
   "metadata": {
    "collapsed": false,
    "jupyter": {
     "outputs_hidden": false
    }
   },
   "outputs": [],
   "source": [
    "cars.drop('normalized_losses', inplace=True, axis=1)"
   ]
  },
  {
   "cell_type": "markdown",
   "metadata": {},
   "source": [
    "For the column `peak_rpm`, replace the missing values by the mean of the entire column, then check that there are no more missing values and that the mean has not been altered:"
   ]
  },
  {
   "cell_type": "code",
   "execution_count": 48,
   "metadata": {
    "collapsed": false,
    "jupyter": {
     "outputs_hidden": false
    }
   },
   "outputs": [
    {
     "name": "stdout",
     "output_type": "stream",
     "text": [
      "bore\n",
      "average: 0.564\n",
      "missing: 0\n",
      "new avg: 0.564\n",
      "stroke\n",
      "average: 0.564\n",
      "missing: 0\n",
      "new avg: 0.564\n",
      "horsepower\n",
      "average: 0.234\n",
      "missing: 0\n",
      "new avg: 0.234\n",
      "peak_rpm\n",
      "average: 0.398\n",
      "missing: 0\n",
      "new avg: 0.398\n",
      "price\n",
      "average: 13207.129\n",
      "missing: 0\n",
      "new avg: 13207.129\n"
     ]
    }
   ],
   "source": [
    "columns_with_nans = ['bore', 'stroke', 'horsepower', 'peak_rpm', 'price']\n",
    "\n",
    "for col in columns_with_nans:\n",
    "    avg = cars[col].mean().round(decimals=3)\n",
    "    print(col)\n",
    "    print('average:', avg)\n",
    "    cars[col] = cars[col].fillna(avg)\n",
    "    print('missing:', cars[col].isna().sum())\n",
    "    # Print new average and round it to three decimals:\n",
    "    print('new avg:', cars[col].mean().round(decimals=3))"
   ]
  },
  {
   "cell_type": "markdown",
   "metadata": {},
   "source": [
    "We still have some cells with missing data, let us just drop the corresponding rows."
   ]
  },
  {
   "cell_type": "code",
   "execution_count": 114,
   "metadata": {
    "collapsed": false,
    "jupyter": {
     "outputs_hidden": false
    }
   },
   "outputs": [
    {
     "name": "stdout",
     "output_type": "stream",
     "text": [
      "<class 'pandas.core.frame.DataFrame'>\n",
      "Int64Index: 203 entries, 0 to 204\n",
      "Data columns (total 25 columns):\n",
      "symboling            203 non-null float64\n",
      "make                 203 non-null object\n",
      "fuel_type            203 non-null object\n",
      "aspiration           203 non-null object\n",
      "num_doors            203 non-null object\n",
      "body_style           203 non-null object\n",
      "drive_wheels         203 non-null object\n",
      "engine_location      203 non-null object\n",
      "wheel_base           203 non-null float64\n",
      "length               203 non-null float64\n",
      "width                203 non-null float64\n",
      "height               203 non-null float64\n",
      "curb_weight          203 non-null float64\n",
      "engine_type          203 non-null object\n",
      "num_cylinders        203 non-null object\n",
      "engine_size          203 non-null float64\n",
      "fuel_system          203 non-null object\n",
      "bore                 203 non-null float64\n",
      "stroke               203 non-null float64\n",
      "compression_ratio    203 non-null float64\n",
      "horsepower           203 non-null float64\n",
      "peak_rpm             203 non-null float64\n",
      "city_mpg             203 non-null float64\n",
      "highway_mpg          203 non-null float64\n",
      "price                203 non-null float64\n",
      "dtypes: float64(15), object(10)\n",
      "memory usage: 41.2+ KB\n"
     ]
    }
   ],
   "source": [
    "cars.dropna(inplace=True)\n",
    "cars.info()"
   ]
  },
  {
   "cell_type": "markdown",
   "metadata": {},
   "source": [
    "Let's keep only the numeric columns:"
   ]
  },
  {
   "cell_type": "code",
   "execution_count": 122,
   "metadata": {
    "collapsed": false,
    "jupyter": {
     "outputs_hidden": false
    }
   },
   "outputs": [
    {
     "data": {
      "text/html": [
       "<div>\n",
       "<style scoped>\n",
       "    .dataframe tbody tr th:only-of-type {\n",
       "        vertical-align: middle;\n",
       "    }\n",
       "\n",
       "    .dataframe tbody tr th {\n",
       "        vertical-align: top;\n",
       "    }\n",
       "\n",
       "    .dataframe thead th {\n",
       "        text-align: right;\n",
       "    }\n",
       "</style>\n",
       "<table border=\"1\" class=\"dataframe\">\n",
       "  <thead>\n",
       "    <tr style=\"text-align: right;\">\n",
       "      <th></th>\n",
       "      <th>symboling</th>\n",
       "      <th>wheel_base</th>\n",
       "      <th>length</th>\n",
       "      <th>width</th>\n",
       "      <th>height</th>\n",
       "      <th>curb_weight</th>\n",
       "      <th>engine_size</th>\n",
       "      <th>bore</th>\n",
       "      <th>stroke</th>\n",
       "      <th>compression_ratio</th>\n",
       "      <th>horsepower</th>\n",
       "      <th>peak_rpm</th>\n",
       "      <th>city_mpg</th>\n",
       "      <th>highway_mpg</th>\n",
       "      <th>price</th>\n",
       "    </tr>\n",
       "  </thead>\n",
       "  <tbody>\n",
       "    <tr>\n",
       "      <th>0</th>\n",
       "      <td>1.0</td>\n",
       "      <td>0.058</td>\n",
       "      <td>0.413</td>\n",
       "      <td>0.317</td>\n",
       "      <td>0.083</td>\n",
       "      <td>0.411</td>\n",
       "      <td>0.260</td>\n",
       "      <td>0.664</td>\n",
       "      <td>0.290</td>\n",
       "      <td>0.125</td>\n",
       "      <td>0.262</td>\n",
       "      <td>0.347</td>\n",
       "      <td>0.222</td>\n",
       "      <td>0.289</td>\n",
       "      <td>13495.0</td>\n",
       "    </tr>\n",
       "    <tr>\n",
       "      <th>1</th>\n",
       "      <td>1.0</td>\n",
       "      <td>0.058</td>\n",
       "      <td>0.413</td>\n",
       "      <td>0.317</td>\n",
       "      <td>0.083</td>\n",
       "      <td>0.411</td>\n",
       "      <td>0.260</td>\n",
       "      <td>0.664</td>\n",
       "      <td>0.290</td>\n",
       "      <td>0.125</td>\n",
       "      <td>0.262</td>\n",
       "      <td>0.347</td>\n",
       "      <td>0.222</td>\n",
       "      <td>0.289</td>\n",
       "      <td>16500.0</td>\n",
       "    </tr>\n",
       "    <tr>\n",
       "      <th>2</th>\n",
       "      <td>0.6</td>\n",
       "      <td>0.230</td>\n",
       "      <td>0.449</td>\n",
       "      <td>0.433</td>\n",
       "      <td>0.383</td>\n",
       "      <td>0.518</td>\n",
       "      <td>0.343</td>\n",
       "      <td>0.100</td>\n",
       "      <td>0.667</td>\n",
       "      <td>0.125</td>\n",
       "      <td>0.442</td>\n",
       "      <td>0.347</td>\n",
       "      <td>0.167</td>\n",
       "      <td>0.263</td>\n",
       "      <td>16500.0</td>\n",
       "    </tr>\n",
       "    <tr>\n",
       "      <th>3</th>\n",
       "      <td>0.8</td>\n",
       "      <td>0.385</td>\n",
       "      <td>0.530</td>\n",
       "      <td>0.492</td>\n",
       "      <td>0.542</td>\n",
       "      <td>0.329</td>\n",
       "      <td>0.181</td>\n",
       "      <td>0.464</td>\n",
       "      <td>0.633</td>\n",
       "      <td>0.188</td>\n",
       "      <td>0.225</td>\n",
       "      <td>0.551</td>\n",
       "      <td>0.306</td>\n",
       "      <td>0.368</td>\n",
       "      <td>13950.0</td>\n",
       "    </tr>\n",
       "    <tr>\n",
       "      <th>4</th>\n",
       "      <td>0.8</td>\n",
       "      <td>0.373</td>\n",
       "      <td>0.530</td>\n",
       "      <td>0.508</td>\n",
       "      <td>0.542</td>\n",
       "      <td>0.518</td>\n",
       "      <td>0.283</td>\n",
       "      <td>0.464</td>\n",
       "      <td>0.633</td>\n",
       "      <td>0.062</td>\n",
       "      <td>0.279</td>\n",
       "      <td>0.551</td>\n",
       "      <td>0.139</td>\n",
       "      <td>0.158</td>\n",
       "      <td>17450.0</td>\n",
       "    </tr>\n",
       "  </tbody>\n",
       "</table>\n",
       "</div>"
      ],
      "text/plain": [
       "   symboling  wheel_base  length  width  height  curb_weight  engine_size  \\\n",
       "0        1.0       0.058   0.413  0.317   0.083        0.411        0.260   \n",
       "1        1.0       0.058   0.413  0.317   0.083        0.411        0.260   \n",
       "2        0.6       0.230   0.449  0.433   0.383        0.518        0.343   \n",
       "3        0.8       0.385   0.530  0.492   0.542        0.329        0.181   \n",
       "4        0.8       0.373   0.530  0.508   0.542        0.518        0.283   \n",
       "\n",
       "    bore  stroke  compression_ratio  horsepower  peak_rpm  city_mpg  \\\n",
       "0  0.664   0.290              0.125       0.262     0.347     0.222   \n",
       "1  0.664   0.290              0.125       0.262     0.347     0.222   \n",
       "2  0.100   0.667              0.125       0.442     0.347     0.167   \n",
       "3  0.464   0.633              0.188       0.225     0.551     0.306   \n",
       "4  0.464   0.633              0.062       0.279     0.551     0.139   \n",
       "\n",
       "   highway_mpg    price  \n",
       "0        0.289  13495.0  \n",
       "1        0.289  16500.0  \n",
       "2        0.263  16500.0  \n",
       "3        0.368  13950.0  \n",
       "4        0.158  17450.0  "
      ]
     },
     "execution_count": 122,
     "metadata": {},
     "output_type": "execute_result"
    }
   ],
   "source": [
    "cars_num = cars[numeric_columns]\n",
    "cars_num.head()"
   ]
  },
  {
   "cell_type": "markdown",
   "metadata": {},
   "source": [
    "To normalize all columns in a range of 0 to 1, we will use Min-Max normalization.\n",
    "\n",
    "#### Min-Max Normalization:\n",
    "$$ X = \\frac{X - X.min}{X.max -  X.min}$$"
   ]
  },
  {
   "cell_type": "markdown",
   "metadata": {},
   "source": [
    "Let's define a list of the numeric columns that we want to normalize so all values range from 0 to 1, and then perform the normalization by using a lambda function:\n",
    "NB: I did not handle the missing values in the `price` column, and I will not apply any normalization to it."
   ]
  },
  {
   "cell_type": "code",
   "execution_count": 153,
   "metadata": {
    "collapsed": false,
    "jupyter": {
     "outputs_hidden": false
    }
   },
   "outputs": [
    {
     "name": "stderr",
     "output_type": "stream",
     "text": [
      "/dataquest/system/env/python3/lib/python3.4/site-packages/pandas/core/frame.py:2540: SettingWithCopyWarning:\n",
      "\n",
      "\n",
      "A value is trying to be set on a copy of a slice from a DataFrame.\n",
      "Try using .loc[row_indexer,col_indexer] = value instead\n",
      "\n",
      "See the caveats in the documentation: http://pandas.pydata.org/pandas-docs/stable/indexing.html#indexing-view-versus-copy\n",
      "\n"
     ]
    }
   ],
   "source": [
    "columns_to_normalize = ['symboling', 'wheel_base', 'length', 'width', 'height', 'curb_weight', 'engine_size', 'bore', 'stroke', 'compression_ratio', 'horsepower', 'peak_rpm', 'city_mpg', 'highway_mpg']\n",
    "cars_num[columns_to_normalize] = cars_num[columns_to_normalize].apply(lambda x:(x-x.min()) / (x.max()-x.min())).round(decimals=3)"
   ]
  },
  {
   "cell_type": "markdown",
   "metadata": {},
   "source": [
    "Let's check the first ten columns of the resulting dataframe:"
   ]
  },
  {
   "cell_type": "code",
   "execution_count": 129,
   "metadata": {
    "collapsed": false,
    "jupyter": {
     "outputs_hidden": false
    },
    "scrolled": true
   },
   "outputs": [
    {
     "data": {
      "text/html": [
       "<div>\n",
       "<style scoped>\n",
       "    .dataframe tbody tr th:only-of-type {\n",
       "        vertical-align: middle;\n",
       "    }\n",
       "\n",
       "    .dataframe tbody tr th {\n",
       "        vertical-align: top;\n",
       "    }\n",
       "\n",
       "    .dataframe thead th {\n",
       "        text-align: right;\n",
       "    }\n",
       "</style>\n",
       "<table border=\"1\" class=\"dataframe\">\n",
       "  <thead>\n",
       "    <tr style=\"text-align: right;\">\n",
       "      <th></th>\n",
       "      <th>symboling</th>\n",
       "      <th>wheel_base</th>\n",
       "      <th>length</th>\n",
       "      <th>width</th>\n",
       "      <th>height</th>\n",
       "      <th>curb_weight</th>\n",
       "      <th>engine_size</th>\n",
       "      <th>bore</th>\n",
       "      <th>stroke</th>\n",
       "      <th>compression_ratio</th>\n",
       "      <th>horsepower</th>\n",
       "      <th>peak_rpm</th>\n",
       "      <th>city_mpg</th>\n",
       "      <th>highway_mpg</th>\n",
       "      <th>price</th>\n",
       "    </tr>\n",
       "  </thead>\n",
       "  <tbody>\n",
       "    <tr>\n",
       "      <th>0</th>\n",
       "      <td>1.0</td>\n",
       "      <td>0.058</td>\n",
       "      <td>0.413</td>\n",
       "      <td>0.317</td>\n",
       "      <td>0.083</td>\n",
       "      <td>0.411</td>\n",
       "      <td>0.260</td>\n",
       "      <td>0.664</td>\n",
       "      <td>0.290</td>\n",
       "      <td>0.125</td>\n",
       "      <td>0.262</td>\n",
       "      <td>0.347</td>\n",
       "      <td>0.222</td>\n",
       "      <td>0.289</td>\n",
       "      <td>13495.000</td>\n",
       "    </tr>\n",
       "    <tr>\n",
       "      <th>1</th>\n",
       "      <td>1.0</td>\n",
       "      <td>0.058</td>\n",
       "      <td>0.413</td>\n",
       "      <td>0.317</td>\n",
       "      <td>0.083</td>\n",
       "      <td>0.411</td>\n",
       "      <td>0.260</td>\n",
       "      <td>0.664</td>\n",
       "      <td>0.290</td>\n",
       "      <td>0.125</td>\n",
       "      <td>0.262</td>\n",
       "      <td>0.347</td>\n",
       "      <td>0.222</td>\n",
       "      <td>0.289</td>\n",
       "      <td>16500.000</td>\n",
       "    </tr>\n",
       "    <tr>\n",
       "      <th>2</th>\n",
       "      <td>0.6</td>\n",
       "      <td>0.230</td>\n",
       "      <td>0.449</td>\n",
       "      <td>0.433</td>\n",
       "      <td>0.383</td>\n",
       "      <td>0.518</td>\n",
       "      <td>0.343</td>\n",
       "      <td>0.100</td>\n",
       "      <td>0.667</td>\n",
       "      <td>0.125</td>\n",
       "      <td>0.442</td>\n",
       "      <td>0.347</td>\n",
       "      <td>0.167</td>\n",
       "      <td>0.263</td>\n",
       "      <td>16500.000</td>\n",
       "    </tr>\n",
       "    <tr>\n",
       "      <th>3</th>\n",
       "      <td>0.8</td>\n",
       "      <td>0.385</td>\n",
       "      <td>0.530</td>\n",
       "      <td>0.492</td>\n",
       "      <td>0.542</td>\n",
       "      <td>0.329</td>\n",
       "      <td>0.181</td>\n",
       "      <td>0.464</td>\n",
       "      <td>0.633</td>\n",
       "      <td>0.188</td>\n",
       "      <td>0.225</td>\n",
       "      <td>0.551</td>\n",
       "      <td>0.306</td>\n",
       "      <td>0.368</td>\n",
       "      <td>13950.000</td>\n",
       "    </tr>\n",
       "    <tr>\n",
       "      <th>4</th>\n",
       "      <td>0.8</td>\n",
       "      <td>0.373</td>\n",
       "      <td>0.530</td>\n",
       "      <td>0.508</td>\n",
       "      <td>0.542</td>\n",
       "      <td>0.518</td>\n",
       "      <td>0.283</td>\n",
       "      <td>0.464</td>\n",
       "      <td>0.633</td>\n",
       "      <td>0.062</td>\n",
       "      <td>0.279</td>\n",
       "      <td>0.551</td>\n",
       "      <td>0.139</td>\n",
       "      <td>0.158</td>\n",
       "      <td>17450.000</td>\n",
       "    </tr>\n",
       "    <tr>\n",
       "      <th>5</th>\n",
       "      <td>0.8</td>\n",
       "      <td>0.385</td>\n",
       "      <td>0.540</td>\n",
       "      <td>0.500</td>\n",
       "      <td>0.442</td>\n",
       "      <td>0.395</td>\n",
       "      <td>0.283</td>\n",
       "      <td>0.464</td>\n",
       "      <td>0.633</td>\n",
       "      <td>0.094</td>\n",
       "      <td>0.258</td>\n",
       "      <td>0.551</td>\n",
       "      <td>0.167</td>\n",
       "      <td>0.237</td>\n",
       "      <td>15250.000</td>\n",
       "    </tr>\n",
       "    <tr>\n",
       "      <th>6</th>\n",
       "      <td>0.6</td>\n",
       "      <td>0.560</td>\n",
       "      <td>0.770</td>\n",
       "      <td>0.925</td>\n",
       "      <td>0.658</td>\n",
       "      <td>0.526</td>\n",
       "      <td>0.283</td>\n",
       "      <td>0.464</td>\n",
       "      <td>0.633</td>\n",
       "      <td>0.094</td>\n",
       "      <td>0.258</td>\n",
       "      <td>0.551</td>\n",
       "      <td>0.167</td>\n",
       "      <td>0.237</td>\n",
       "      <td>17710.000</td>\n",
       "    </tr>\n",
       "    <tr>\n",
       "      <th>7</th>\n",
       "      <td>0.6</td>\n",
       "      <td>0.560</td>\n",
       "      <td>0.770</td>\n",
       "      <td>0.925</td>\n",
       "      <td>0.658</td>\n",
       "      <td>0.569</td>\n",
       "      <td>0.283</td>\n",
       "      <td>0.464</td>\n",
       "      <td>0.633</td>\n",
       "      <td>0.094</td>\n",
       "      <td>0.258</td>\n",
       "      <td>0.551</td>\n",
       "      <td>0.167</td>\n",
       "      <td>0.237</td>\n",
       "      <td>18920.000</td>\n",
       "    </tr>\n",
       "    <tr>\n",
       "      <th>8</th>\n",
       "      <td>0.6</td>\n",
       "      <td>0.560</td>\n",
       "      <td>0.770</td>\n",
       "      <td>0.925</td>\n",
       "      <td>0.675</td>\n",
       "      <td>0.620</td>\n",
       "      <td>0.264</td>\n",
       "      <td>0.421</td>\n",
       "      <td>0.633</td>\n",
       "      <td>0.081</td>\n",
       "      <td>0.383</td>\n",
       "      <td>0.551</td>\n",
       "      <td>0.111</td>\n",
       "      <td>0.105</td>\n",
       "      <td>23875.000</td>\n",
       "    </tr>\n",
       "    <tr>\n",
       "      <th>9</th>\n",
       "      <td>0.4</td>\n",
       "      <td>0.376</td>\n",
       "      <td>0.554</td>\n",
       "      <td>0.633</td>\n",
       "      <td>0.350</td>\n",
       "      <td>0.607</td>\n",
       "      <td>0.264</td>\n",
       "      <td>0.421</td>\n",
       "      <td>0.633</td>\n",
       "      <td>0.000</td>\n",
       "      <td>0.467</td>\n",
       "      <td>0.551</td>\n",
       "      <td>0.083</td>\n",
       "      <td>0.158</td>\n",
       "      <td>13207.129</td>\n",
       "    </tr>\n",
       "  </tbody>\n",
       "</table>\n",
       "</div>"
      ],
      "text/plain": [
       "   symboling  wheel_base  length  width  height  curb_weight  engine_size  \\\n",
       "0        1.0       0.058   0.413  0.317   0.083        0.411        0.260   \n",
       "1        1.0       0.058   0.413  0.317   0.083        0.411        0.260   \n",
       "2        0.6       0.230   0.449  0.433   0.383        0.518        0.343   \n",
       "3        0.8       0.385   0.530  0.492   0.542        0.329        0.181   \n",
       "4        0.8       0.373   0.530  0.508   0.542        0.518        0.283   \n",
       "5        0.8       0.385   0.540  0.500   0.442        0.395        0.283   \n",
       "6        0.6       0.560   0.770  0.925   0.658        0.526        0.283   \n",
       "7        0.6       0.560   0.770  0.925   0.658        0.569        0.283   \n",
       "8        0.6       0.560   0.770  0.925   0.675        0.620        0.264   \n",
       "9        0.4       0.376   0.554  0.633   0.350        0.607        0.264   \n",
       "\n",
       "    bore  stroke  compression_ratio  horsepower  peak_rpm  city_mpg  \\\n",
       "0  0.664   0.290              0.125       0.262     0.347     0.222   \n",
       "1  0.664   0.290              0.125       0.262     0.347     0.222   \n",
       "2  0.100   0.667              0.125       0.442     0.347     0.167   \n",
       "3  0.464   0.633              0.188       0.225     0.551     0.306   \n",
       "4  0.464   0.633              0.062       0.279     0.551     0.139   \n",
       "5  0.464   0.633              0.094       0.258     0.551     0.167   \n",
       "6  0.464   0.633              0.094       0.258     0.551     0.167   \n",
       "7  0.464   0.633              0.094       0.258     0.551     0.167   \n",
       "8  0.421   0.633              0.081       0.383     0.551     0.111   \n",
       "9  0.421   0.633              0.000       0.467     0.551     0.083   \n",
       "\n",
       "   highway_mpg      price  \n",
       "0        0.289  13495.000  \n",
       "1        0.289  16500.000  \n",
       "2        0.263  16500.000  \n",
       "3        0.368  13950.000  \n",
       "4        0.158  17450.000  \n",
       "5        0.237  15250.000  \n",
       "6        0.237  17710.000  \n",
       "7        0.237  18920.000  \n",
       "8        0.105  23875.000  \n",
       "9        0.158  13207.129  "
      ]
     },
     "execution_count": 129,
     "metadata": {},
     "output_type": "execute_result"
    }
   ],
   "source": [
    "cars_num.head(10)"
   ]
  },
  {
   "cell_type": "code",
   "execution_count": null,
   "metadata": {
    "collapsed": true,
    "jupyter": {
     "outputs_hidden": true
    }
   },
   "outputs": [],
   "source": [
    "print(numeric_columns)\n",
    "numeric_columns.remove('price')\n",
    "print(numeric_columns)"
   ]
  },
  {
   "cell_type": "markdown",
   "metadata": {},
   "source": [
    "## 3. Univariate Model"
   ]
  },
  {
   "cell_type": "markdown",
   "metadata": {},
   "source": [
    "We start the analysis with some univariate k-nearest neighbors models. This allows us to structure the code workflow and understand the features better.\n",
    "We create a function named `knn_train_test()` that encapsulates the training and validation process."
   ]
  },
  {
   "cell_type": "code",
   "execution_count": 130,
   "metadata": {},
   "outputs": [],
   "source": [
    "from sklearn.neighbors import KNeighborsRegressor\n",
    "from sklearn.metrics import mean_squared_error"
   ]
  },
  {
   "cell_type": "code",
   "execution_count": 203,
   "metadata": {
    "collapsed": true,
    "jupyter": {
     "outputs_hidden": true
    }
   },
   "outputs": [],
   "source": [
    "def knn_train_test(df, training_col_name='', target_col_name='price', k=5):\n",
    "    # MS: Split the data set into two partitions:\n",
    "    # - the training set contains the majority of the rows (75%)\n",
    "    # - the test set contains the remaining minority of the rows (25%)\n",
    "    \n",
    "    nb_rows = len(df)\n",
    "    np.random.seed(1)\n",
    "    \n",
    "    # Shuffle the indices\n",
    "    idx = np.random.permutation(nb_rows)\n",
    "    \n",
    "    train_df = df.iloc[idx[0:round(nb_rows * .75)]].copy()\n",
    "    test_df = df.iloc[idx[round(nb_rows * .75):]].copy()\n",
    "        \n",
    "    # MS: Create an instance of the KNeighborsRegressor class\n",
    "    # The default number of neighbors nb_neighbors is set to 5\n",
    "    knn = KNeighborsRegressor(n_neighbors=k)\n",
    "       \n",
    "    # MS: Fit the model on the training set\n",
    "    knn.fit(train_df[training_col_name], train_df[target_col_name])\n",
    "    \n",
    "    # MS: Make predictions on the training_col_name from test_df\n",
    "    # to predict the price value for the rows in test_df\n",
    "    predicted_prices = knn.predict(test_df[training_col_name])\n",
    "    \n",
    "    # MS: Calculate the RMSE and return that value\n",
    "    # MS: The true values are in the column: test_df['price']\n",
    "    mse = mean_squared_error(test_df[target_col_name], predicted_prices)\n",
    "    rmse = mse**(1/2)\n",
    "    \n",
    "    return(rmse)"
   ]
  },
  {
   "cell_type": "markdown",
   "metadata": {},
   "source": [
    "Now we use this function to train and test univariate models using the different numeric columns in the data set."
   ]
  },
  {
   "cell_type": "code",
   "execution_count": 204,
   "metadata": {
    "collapsed": false,
    "jupyter": {
     "outputs_hidden": false
    }
   },
   "outputs": [],
   "source": [
    "rmse_values = list()\n",
    "for feature in numeric_columns:\n",
    "    rmse = knn_train_test(cars_num,[feature])\n",
    "    rmse_values.append(rmse)"
   ]
  },
  {
   "cell_type": "code",
   "execution_count": 205,
   "metadata": {
    "collapsed": false,
    "jupyter": {
     "outputs_hidden": false
    }
   },
   "outputs": [
    {
     "data": {
      "text/plain": [
       "[8490.798625627902,\n",
       " 5505.260129327342,\n",
       " 5772.149418599638,\n",
       " 4352.518158860331,\n",
       " 7167.593956452231,\n",
       " 3584.4732031360736,\n",
       " 4111.5435002018685,\n",
       " 7539.748191030975,\n",
       " 7473.343528746731,\n",
       " 6718.450810548676,\n",
       " 3669.3739124972717,\n",
       " 9103.714162106908,\n",
       " 4186.46849810459,\n",
       " 4122.5573103882225]"
      ]
     },
     "execution_count": 205,
     "metadata": {},
     "output_type": "execute_result"
    }
   ],
   "source": [
    "rmse_values"
   ]
  },
  {
   "cell_type": "code",
   "execution_count": 126,
   "metadata": {
    "collapsed": false,
    "jupyter": {
     "outputs_hidden": false
    }
   },
   "outputs": [
    {
     "name": "stdout",
     "output_type": "stream",
     "text": [
      "176    0.230\n",
      "177    0.230\n",
      "18     0.000\n",
      "60     0.230\n",
      "145    0.177\n",
      "32     0.068\n",
      "29     0.358\n",
      "41     0.185\n",
      "69     0.460\n",
      "39     0.185\n",
      "172    0.321\n",
      "45     0.109\n",
      "154    0.117\n",
      "96     0.136\n",
      "4      0.283\n",
      "149    0.177\n",
      "173    0.230\n",
      "163    0.140\n",
      "11     0.177\n",
      "118    0.109\n",
      "36     0.117\n",
      "100    0.223\n",
      "121    0.109\n",
      "179    0.415\n",
      "119    0.140\n",
      "30     0.117\n",
      "57     0.034\n",
      "16     0.558\n",
      "91     0.136\n",
      "52     0.113\n",
      "       ...  \n",
      "164    0.140\n",
      "90     0.158\n",
      "200    0.302\n",
      "47     0.743\n",
      "64     0.230\n",
      "76     0.117\n",
      "94     0.136\n",
      "189    0.181\n",
      "89     0.136\n",
      "140    0.177\n",
      "10     0.177\n",
      "33     0.117\n",
      "85     0.230\n",
      "161    0.140\n",
      "102    0.453\n",
      "127    0.502\n",
      "23     0.140\n",
      "128    0.502\n",
      "9      0.264\n",
      "175    0.230\n",
      "106    0.453\n",
      "156    0.140\n",
      "137    0.226\n",
      "113    0.223\n",
      "193    0.181\n",
      "66     0.275\n",
      "15     0.558\n",
      "42     0.185\n",
      "168    0.321\n",
      "111    0.223\n",
      "Name: engine_size, Length: 152, dtype: float64\n",
      "176    10898.000\n",
      "177    11248.000\n",
      "18      5151.000\n",
      "60      8495.000\n",
      "145    11259.000\n",
      "32      5399.000\n",
      "29     12964.000\n",
      "41     12945.000\n",
      "69     28176.000\n",
      "39      8845.000\n",
      "172    17669.000\n",
      "45     13207.129\n",
      "154     7898.000\n",
      "96      7499.000\n",
      "4      17450.000\n",
      "149    11694.000\n",
      "173     8948.000\n",
      "163     8058.000\n",
      "11     16925.000\n",
      "118     5572.000\n",
      "36      7295.000\n",
      "100     9549.000\n",
      "121     6692.000\n",
      "179    15998.000\n",
      "119     7957.000\n",
      "30      6479.000\n",
      "57     13645.000\n",
      "16     41315.000\n",
      "91      6649.000\n",
      "52      6795.000\n",
      "         ...    \n",
      "164     8238.000\n",
      "90      7099.000\n",
      "200    16845.000\n",
      "47     32250.000\n",
      "64     11245.000\n",
      "76      5389.000\n",
      "94      7299.000\n",
      "189    11595.000\n",
      "89      5499.000\n",
      "140     7603.000\n",
      "10     16430.000\n",
      "33      6529.000\n",
      "85      6989.000\n",
      "161     8358.000\n",
      "102    14399.000\n",
      "127    34028.000\n",
      "23      7957.000\n",
      "128    37028.000\n",
      "9      13207.129\n",
      "175     9988.000\n",
      "106    18399.000\n",
      "156     6938.000\n",
      "137    18620.000\n",
      "113    16695.000\n",
      "193    12290.000\n",
      "66     18344.000\n",
      "15     30760.000\n",
      "42     10345.000\n",
      "168     9639.000\n",
      "111    15580.000\n",
      "Name: price, Length: 152, dtype: float64\n"
     ]
    },
    {
     "name": "stderr",
     "output_type": "stream",
     "text": [
      "/dataquest/system/env/python3/lib/python3.4/site-packages/sklearn/utils/validation.py:395: DeprecationWarning: Passing 1d arrays as data is deprecated in 0.17 and will raise ValueError in 0.19. Reshape your data either using X.reshape(-1, 1) if your data has a single feature or X.reshape(1, -1) if it contains a single sample.\n",
      "  DeprecationWarning)\n"
     ]
    },
    {
     "ename": "ValueError",
     "evalue": "Found input variables with inconsistent numbers of samples: [1, 152]",
     "output_type": "error",
     "traceback": [
      "\u001b[1;31m\u001b[0m",
      "\u001b[1;31mValueError\u001b[0mTraceback (most recent call last)",
      "\u001b[1;32m<ipython-input-126-a217da8f69d2>\u001b[0m in \u001b[0;36m<module>\u001b[1;34m()\u001b[0m\n\u001b[1;32m----> 1\u001b[1;33m \u001b[0mknn_train_test\u001b[0m\u001b[1;33m(\u001b[0m\u001b[1;34m'engine_size'\u001b[0m\u001b[1;33m,\u001b[0m \u001b[1;34m'price'\u001b[0m\u001b[1;33m,\u001b[0m \u001b[0mcars_num\u001b[0m\u001b[1;33m)\u001b[0m\u001b[1;33m\u001b[0m\u001b[0m\n\u001b[0m",
      "\u001b[1;32m<ipython-input-118-8a828f218075>\u001b[0m in \u001b[0;36mknn_train_test\u001b[1;34m(training_col_name, target_col_name, df)\u001b[0m\n\u001b[0;32m     22\u001b[0m \u001b[1;33m\u001b[0m\u001b[0m\n\u001b[0;32m     23\u001b[0m     \u001b[1;31m# MS: Fit the model on the training set\u001b[0m\u001b[1;33m\u001b[0m\u001b[1;33m\u001b[0m\u001b[0m\n\u001b[1;32m---> 24\u001b[1;33m     \u001b[0mknn\u001b[0m\u001b[1;33m.\u001b[0m\u001b[0mfit\u001b[0m\u001b[1;33m(\u001b[0m\u001b[0mtrain_df\u001b[0m\u001b[1;33m[\u001b[0m\u001b[0mtraining_col_name\u001b[0m\u001b[1;33m]\u001b[0m\u001b[1;33m,\u001b[0m \u001b[0mtrain_df\u001b[0m\u001b[1;33m[\u001b[0m\u001b[0mtarget_col_name\u001b[0m\u001b[1;33m]\u001b[0m\u001b[1;33m)\u001b[0m\u001b[1;33m\u001b[0m\u001b[0m\n\u001b[0m\u001b[0;32m     25\u001b[0m \u001b[1;33m\u001b[0m\u001b[0m\n\u001b[0;32m     26\u001b[0m     \u001b[1;31m# MS: Make predictions on the training_col_name from test_df\u001b[0m\u001b[1;33m\u001b[0m\u001b[1;33m\u001b[0m\u001b[0m\n",
      "\u001b[1;32m/dataquest/system/env/python3/lib/python3.4/site-packages/sklearn/neighbors/base.py\u001b[0m in \u001b[0;36mfit\u001b[1;34m(self, X, y)\u001b[0m\n\u001b[0;32m    739\u001b[0m         \"\"\"\n\u001b[0;32m    740\u001b[0m         \u001b[1;32mif\u001b[0m \u001b[1;32mnot\u001b[0m \u001b[0misinstance\u001b[0m\u001b[1;33m(\u001b[0m\u001b[0mX\u001b[0m\u001b[1;33m,\u001b[0m \u001b[1;33m(\u001b[0m\u001b[0mKDTree\u001b[0m\u001b[1;33m,\u001b[0m \u001b[0mBallTree\u001b[0m\u001b[1;33m)\u001b[0m\u001b[1;33m)\u001b[0m\u001b[1;33m:\u001b[0m\u001b[1;33m\u001b[0m\u001b[0m\n\u001b[1;32m--> 741\u001b[1;33m             \u001b[0mX\u001b[0m\u001b[1;33m,\u001b[0m \u001b[0my\u001b[0m \u001b[1;33m=\u001b[0m \u001b[0mcheck_X_y\u001b[0m\u001b[1;33m(\u001b[0m\u001b[0mX\u001b[0m\u001b[1;33m,\u001b[0m \u001b[0my\u001b[0m\u001b[1;33m,\u001b[0m \u001b[1;34m\"csr\"\u001b[0m\u001b[1;33m,\u001b[0m \u001b[0mmulti_output\u001b[0m\u001b[1;33m=\u001b[0m\u001b[1;32mTrue\u001b[0m\u001b[1;33m)\u001b[0m\u001b[1;33m\u001b[0m\u001b[0m\n\u001b[0m\u001b[0;32m    742\u001b[0m         \u001b[0mself\u001b[0m\u001b[1;33m.\u001b[0m\u001b[0m_y\u001b[0m \u001b[1;33m=\u001b[0m \u001b[0my\u001b[0m\u001b[1;33m\u001b[0m\u001b[0m\n\u001b[0;32m    743\u001b[0m         \u001b[1;32mreturn\u001b[0m \u001b[0mself\u001b[0m\u001b[1;33m.\u001b[0m\u001b[0m_fit\u001b[0m\u001b[1;33m(\u001b[0m\u001b[0mX\u001b[0m\u001b[1;33m)\u001b[0m\u001b[1;33m\u001b[0m\u001b[0m\n",
      "\u001b[1;32m/dataquest/system/env/python3/lib/python3.4/site-packages/sklearn/utils/validation.py\u001b[0m in \u001b[0;36mcheck_X_y\u001b[1;34m(X, y, accept_sparse, dtype, order, copy, force_all_finite, ensure_2d, allow_nd, multi_output, ensure_min_samples, ensure_min_features, y_numeric, warn_on_dtype, estimator)\u001b[0m\n\u001b[0;32m    529\u001b[0m         \u001b[0my\u001b[0m \u001b[1;33m=\u001b[0m \u001b[0my\u001b[0m\u001b[1;33m.\u001b[0m\u001b[0mastype\u001b[0m\u001b[1;33m(\u001b[0m\u001b[0mnp\u001b[0m\u001b[1;33m.\u001b[0m\u001b[0mfloat64\u001b[0m\u001b[1;33m)\u001b[0m\u001b[1;33m\u001b[0m\u001b[0m\n\u001b[0;32m    530\u001b[0m \u001b[1;33m\u001b[0m\u001b[0m\n\u001b[1;32m--> 531\u001b[1;33m     \u001b[0mcheck_consistent_length\u001b[0m\u001b[1;33m(\u001b[0m\u001b[0mX\u001b[0m\u001b[1;33m,\u001b[0m \u001b[0my\u001b[0m\u001b[1;33m)\u001b[0m\u001b[1;33m\u001b[0m\u001b[0m\n\u001b[0m\u001b[0;32m    532\u001b[0m \u001b[1;33m\u001b[0m\u001b[0m\n\u001b[0;32m    533\u001b[0m     \u001b[1;32mreturn\u001b[0m \u001b[0mX\u001b[0m\u001b[1;33m,\u001b[0m \u001b[0my\u001b[0m\u001b[1;33m\u001b[0m\u001b[0m\n",
      "\u001b[1;32m/dataquest/system/env/python3/lib/python3.4/site-packages/sklearn/utils/validation.py\u001b[0m in \u001b[0;36mcheck_consistent_length\u001b[1;34m(*arrays)\u001b[0m\n\u001b[0;32m    179\u001b[0m     \u001b[1;32mif\u001b[0m \u001b[0mlen\u001b[0m\u001b[1;33m(\u001b[0m\u001b[0muniques\u001b[0m\u001b[1;33m)\u001b[0m \u001b[1;33m>\u001b[0m \u001b[1;36m1\u001b[0m\u001b[1;33m:\u001b[0m\u001b[1;33m\u001b[0m\u001b[0m\n\u001b[0;32m    180\u001b[0m         raise ValueError(\"Found input variables with inconsistent numbers of\"\n\u001b[1;32m--> 181\u001b[1;33m                          \" samples: %r\" % [int(l) for l in lengths])\n\u001b[0m\u001b[0;32m    182\u001b[0m \u001b[1;33m\u001b[0m\u001b[0m\n\u001b[0;32m    183\u001b[0m \u001b[1;33m\u001b[0m\u001b[0m\n",
      "\u001b[1;31mValueError\u001b[0m: Found input variables with inconsistent numbers of samples: [1, 152]"
     ]
    }
   ],
   "source": [
    "knn_train_test('engine_size', 'price', cars_num)"
   ]
  },
  {
   "cell_type": "code",
   "execution_count": 206,
   "metadata": {
    "collapsed": false,
    "jupyter": {
     "outputs_hidden": false
    }
   },
   "outputs": [
    {
     "data": {
      "image/png": "[encoded data removed]",
      "text/plain": [
       "<matplotlib.figure.Figure at 0x7f792fbbbdd8>"
      ]
     },
     "metadata": {},
     "output_type": "display_data"
    }
   ],
   "source": [
    "import matplotlib.pyplot as plt\n",
    "%matplotlib inline\n",
    "\n",
    "x = list(range(0,len(rmse_values)))  \n",
    "plt.plot(x,rmse_values)\n",
    "plt.xticks(np.arange(len(rmse_values)), numeric_columns, rotation=90)\n",
    "plt.title('RMSE for the Univariate Model')\n",
    "plt.ylabel('RMSE')\n",
    "plt.show()"
   ]
  },
  {
   "cell_type": "markdown",
   "metadata": {},
   "source": [
    "The column that performs the best using the default k value is `curb_weight`, which has a rmse of 3584."
   ]
  },
  {
   "cell_type": "markdown",
   "metadata": {},
   "source": [
    "For each numeric column, create, train, and test a univariate model using the following k values (1, 3, 5, 7, and 9). Visualize the results using a scatter plot or a line plot."
   ]
  },
  {
   "cell_type": "code",
   "execution_count": 291,
   "metadata": {
    "collapsed": false,
    "jupyter": {
     "outputs_hidden": false
    }
   },
   "outputs": [
    {
     "data": {
      "image/png": "[encoded data removed]",
      "text/plain": [
       "<matplotlib.figure.Figure at 0x7f792fc08160>"
      ]
     },
     "metadata": {},
     "output_type": "display_data"
    },
    {
     "data": {
      "image/png": "[encoded data removed]",
      "text/plain": [
       "<matplotlib.figure.Figure at 0x7f792fee0908>"
      ]
     },
     "metadata": {},
     "output_type": "display_data"
    },
    {
     "data": {
      "image/png": "[encoded data removed]",
      "text/plain": [
       "<matplotlib.figure.Figure at 0x7f793003ceb8>"
      ]
     },
     "metadata": {},
     "output_type": "display_data"
    },
    {
     "data": {
      "image/png": "[encoded data removed]",
      "text/plain": [
       "<matplotlib.figure.Figure at 0x7f792fac1be0>"
      ]
     },
     "metadata": {},
     "output_type": "display_data"
    },
    {
     "data": {
      "image/png": "[encoded data removed]",
      "text/plain": [
       "<matplotlib.figure.Figure at 0x7f792f911780>"
      ]
     },
     "metadata": {},
     "output_type": "display_data"
    },
    {
     "data": {
      "image/png": "[encoded data removed]",
      "text/plain": [
       "<matplotlib.figure.Figure at 0x7f792fed8d68>"
      ]
     },
     "metadata": {},
     "output_type": "display_data"
    },
    {
     "data": {
      "image/png": "[encoded data removed]",
      "text/plain": [
       "<matplotlib.figure.Figure at 0x7f792fabae80>"
      ]
     },
     "metadata": {},
     "output_type": "display_data"
    },
    {
     "data": {
      "image/png": "[encoded data removed]",
      "text/plain": [
       "<matplotlib.figure.Figure at 0x7f792f9f8eb8>"
      ]
     },
     "metadata": {},
     "output_type": "display_data"
    },
    {
     "data": {
      "image/png": "[encoded data removed]",
      "text/plain": [
       "<matplotlib.figure.Figure at 0x7f792fa23588>"
      ]
     },
     "metadata": {},
     "output_type": "display_data"
    },
    {
     "data": {
      "image/png": "[encoded data removed]",
      "text/plain": [
       "<matplotlib.figure.Figure at 0x7f792fb01668>"
      ]
     },
     "metadata": {},
     "output_type": "display_data"
    },
    {
     "data": {
      "image/png": "[encoded data removed]",
      "text/plain": [
       "<matplotlib.figure.Figure at 0x7f7930325320>"
      ]
     },
     "metadata": {},
     "output_type": "display_data"
    },
    {
     "data": {
      "image/png": "[encoded data removed]",
      "text/plain": [
       "<matplotlib.figure.Figure at 0x7f792f9daac8>"
      ]
     },
     "metadata": {},
     "output_type": "display_data"
    },
    {
     "data": {
      "image/png": "[encoded data removed]",
      "text/plain": [
       "<matplotlib.figure.Figure at 0x7f792f8d1978>"
      ]
     },
     "metadata": {},
     "output_type": "display_data"
    },
    {
     "data": {
      "image/png": "[encoded data removed]",
      "text/plain": [
       "<matplotlib.figure.Figure at 0x7f79303a2358>"
      ]
     },
     "metadata": {},
     "output_type": "display_data"
    }
   ],
   "source": [
    "knn_array = [1, 3, 5, 7, 9]\n",
    "rmse_k = {}\n",
    "for feature in numeric_columns:\n",
    "    rmse_values = list()\n",
    "    for knn in knn_array:\n",
    "        rmse = knn_train_test(cars_num, [feature], k=knn)\n",
    "        rmse_values.append(rmse)\n",
    "        \n",
    "    # Save all the results in a dictionary:\n",
    "    rmse_k[feature] = rmse_values\n",
    "    \n",
    "    plt.scatter(knn_array,rmse_values)\n",
    "    plt.title(feature)\n",
    "    plt.xlabel('k value')\n",
    "    plt.ylabel('RMSE')\n",
    "    plt.show()"
   ]
  },
  {
   "cell_type": "markdown",
   "metadata": {},
   "source": [
    "Convert `rmse_k` into a dataframe:"
   ]
  },
  {
   "cell_type": "code",
   "execution_count": 215,
   "metadata": {
    "collapsed": false,
    "jupyter": {
     "outputs_hidden": false
    }
   },
   "outputs": [
    {
     "data": {
      "text/html": [
       "<div>\n",
       "<style scoped>\n",
       "    .dataframe tbody tr th:only-of-type {\n",
       "        vertical-align: middle;\n",
       "    }\n",
       "\n",
       "    .dataframe tbody tr th {\n",
       "        vertical-align: top;\n",
       "    }\n",
       "\n",
       "    .dataframe thead th {\n",
       "        text-align: right;\n",
       "    }\n",
       "</style>\n",
       "<table border=\"1\" class=\"dataframe\">\n",
       "  <thead>\n",
       "    <tr style=\"text-align: right;\">\n",
       "      <th></th>\n",
       "      <th>bore</th>\n",
       "      <th>city_mpg</th>\n",
       "      <th>compression_ratio</th>\n",
       "      <th>curb_weight</th>\n",
       "      <th>engine_size</th>\n",
       "      <th>height</th>\n",
       "      <th>highway_mpg</th>\n",
       "      <th>horsepower</th>\n",
       "      <th>length</th>\n",
       "      <th>peak_rpm</th>\n",
       "      <th>stroke</th>\n",
       "      <th>symboling</th>\n",
       "      <th>wheel_base</th>\n",
       "      <th>width</th>\n",
       "    </tr>\n",
       "  </thead>\n",
       "  <tbody>\n",
       "    <tr>\n",
       "      <th>1</th>\n",
       "      <td>8825.762307</td>\n",
       "      <td>6154.496397</td>\n",
       "      <td>6799.792829</td>\n",
       "      <td>4508.805207</td>\n",
       "      <td>5167.119160</td>\n",
       "      <td>9910.148489</td>\n",
       "      <td>4178.980719</td>\n",
       "      <td>3744.084017</td>\n",
       "      <td>5359.362316</td>\n",
       "      <td>10085.463100</td>\n",
       "      <td>8567.418666</td>\n",
       "      <td>14726.118300</td>\n",
       "      <td>3070.809728</td>\n",
       "      <td>3943.561250</td>\n",
       "    </tr>\n",
       "    <tr>\n",
       "      <th>3</th>\n",
       "      <td>8530.460580</td>\n",
       "      <td>4590.016694</td>\n",
       "      <td>6613.218267</td>\n",
       "      <td>4088.369789</td>\n",
       "      <td>3699.645036</td>\n",
       "      <td>6977.476102</td>\n",
       "      <td>4124.478050</td>\n",
       "      <td>3574.054578</td>\n",
       "      <td>6032.068372</td>\n",
       "      <td>9759.071350</td>\n",
       "      <td>7362.072164</td>\n",
       "      <td>10154.763976</td>\n",
       "      <td>4325.492077</td>\n",
       "      <td>5592.102942</td>\n",
       "    </tr>\n",
       "    <tr>\n",
       "      <th>5</th>\n",
       "      <td>7539.748191</td>\n",
       "      <td>4186.468498</td>\n",
       "      <td>6718.450811</td>\n",
       "      <td>3584.473203</td>\n",
       "      <td>4111.543500</td>\n",
       "      <td>7167.593956</td>\n",
       "      <td>4122.557310</td>\n",
       "      <td>3669.373912</td>\n",
       "      <td>5772.149419</td>\n",
       "      <td>9103.714162</td>\n",
       "      <td>7473.343529</td>\n",
       "      <td>8490.798626</td>\n",
       "      <td>5505.260129</td>\n",
       "      <td>4352.518159</td>\n",
       "    </tr>\n",
       "    <tr>\n",
       "      <th>7</th>\n",
       "      <td>6827.548155</td>\n",
       "      <td>4127.820004</td>\n",
       "      <td>6711.807083</td>\n",
       "      <td>3876.207885</td>\n",
       "      <td>4143.215519</td>\n",
       "      <td>7125.509493</td>\n",
       "      <td>4022.575653</td>\n",
       "      <td>3967.366088</td>\n",
       "      <td>5370.469118</td>\n",
       "      <td>8628.118491</td>\n",
       "      <td>8551.409934</td>\n",
       "      <td>8968.114911</td>\n",
       "      <td>5343.016187</td>\n",
       "      <td>4258.008529</td>\n",
       "    </tr>\n",
       "    <tr>\n",
       "      <th>9</th>\n",
       "      <td>6855.335618</td>\n",
       "      <td>4428.026657</td>\n",
       "      <td>6934.108522</td>\n",
       "      <td>3906.855356</td>\n",
       "      <td>4202.277116</td>\n",
       "      <td>7149.952812</td>\n",
       "      <td>4098.751541</td>\n",
       "      <td>4412.015242</td>\n",
       "      <td>4669.268432</td>\n",
       "      <td>8247.556122</td>\n",
       "      <td>8401.777099</td>\n",
       "      <td>8703.464189</td>\n",
       "      <td>5352.518219</td>\n",
       "      <td>4409.577236</td>\n",
       "    </tr>\n",
       "  </tbody>\n",
       "</table>\n",
       "</div>"
      ],
      "text/plain": [
       "          bore     city_mpg  compression_ratio  curb_weight  engine_size  \\\n",
       "1  8825.762307  6154.496397        6799.792829  4508.805207  5167.119160   \n",
       "3  8530.460580  4590.016694        6613.218267  4088.369789  3699.645036   \n",
       "5  7539.748191  4186.468498        6718.450811  3584.473203  4111.543500   \n",
       "7  6827.548155  4127.820004        6711.807083  3876.207885  4143.215519   \n",
       "9  6855.335618  4428.026657        6934.108522  3906.855356  4202.277116   \n",
       "\n",
       "        height  highway_mpg   horsepower       length      peak_rpm  \\\n",
       "1  9910.148489  4178.980719  3744.084017  5359.362316  10085.463100   \n",
       "3  6977.476102  4124.478050  3574.054578  6032.068372   9759.071350   \n",
       "5  7167.593956  4122.557310  3669.373912  5772.149419   9103.714162   \n",
       "7  7125.509493  4022.575653  3967.366088  5370.469118   8628.118491   \n",
       "9  7149.952812  4098.751541  4412.015242  4669.268432   8247.556122   \n",
       "\n",
       "        stroke     symboling   wheel_base        width  \n",
       "1  8567.418666  14726.118300  3070.809728  3943.561250  \n",
       "3  7362.072164  10154.763976  4325.492077  5592.102942  \n",
       "5  7473.343529   8490.798626  5505.260129  4352.518159  \n",
       "7  8551.409934   8968.114911  5343.016187  4258.008529  \n",
       "9  8401.777099   8703.464189  5352.518219  4409.577236  "
      ]
     },
     "execution_count": 215,
     "metadata": {},
     "output_type": "execute_result"
    }
   ],
   "source": [
    "results = pd.DataFrame(rmse_k, index=knn_array)\n",
    "results.head(10)"
   ]
  },
  {
   "cell_type": "markdown",
   "metadata": {},
   "source": [
    "## 4. Multivariate Model"
   ]
  },
  {
   "cell_type": "markdown",
   "metadata": {},
   "source": [
    "Modify the knn_train_test() function to accept a list of column names (instead of just a string). Modify the rest of the function logic to use this parameter."
   ]
  },
  {
   "cell_type": "markdown",
   "metadata": {},
   "source": [
    "Use the best 2 features from the previous step to train and test a multivariate k-nearest neighbors model using the default k value."
   ]
  },
  {
   "cell_type": "markdown",
   "metadata": {},
   "source": [
    "To understand which features are the best, we will use the dataframe `result` from the previous step. For each feature, let us compute the average RMSE across the different `k` values and store it in a new row:"
   ]
  },
  {
   "cell_type": "code",
   "execution_count": 217,
   "metadata": {
    "collapsed": false,
    "jupyter": {
     "outputs_hidden": false
    }
   },
   "outputs": [
    {
     "data": {
      "text/html": [
       "<div>\n",
       "<style scoped>\n",
       "    .dataframe tbody tr th:only-of-type {\n",
       "        vertical-align: middle;\n",
       "    }\n",
       "\n",
       "    .dataframe tbody tr th {\n",
       "        vertical-align: top;\n",
       "    }\n",
       "\n",
       "    .dataframe thead th {\n",
       "        text-align: right;\n",
       "    }\n",
       "</style>\n",
       "<table border=\"1\" class=\"dataframe\">\n",
       "  <thead>\n",
       "    <tr style=\"text-align: right;\">\n",
       "      <th></th>\n",
       "      <th>bore</th>\n",
       "      <th>city_mpg</th>\n",
       "      <th>compression_ratio</th>\n",
       "      <th>curb_weight</th>\n",
       "      <th>engine_size</th>\n",
       "      <th>height</th>\n",
       "      <th>highway_mpg</th>\n",
       "      <th>horsepower</th>\n",
       "      <th>length</th>\n",
       "      <th>peak_rpm</th>\n",
       "      <th>stroke</th>\n",
       "      <th>symboling</th>\n",
       "      <th>wheel_base</th>\n",
       "      <th>width</th>\n",
       "    </tr>\n",
       "  </thead>\n",
       "  <tbody>\n",
       "    <tr>\n",
       "      <th>1</th>\n",
       "      <td>8825.762307</td>\n",
       "      <td>6154.496397</td>\n",
       "      <td>6799.792829</td>\n",
       "      <td>4508.805207</td>\n",
       "      <td>5167.119160</td>\n",
       "      <td>9910.148489</td>\n",
       "      <td>4178.980719</td>\n",
       "      <td>3744.084017</td>\n",
       "      <td>5359.362316</td>\n",
       "      <td>10085.463100</td>\n",
       "      <td>8567.418666</td>\n",
       "      <td>14726.118300</td>\n",
       "      <td>3070.809728</td>\n",
       "      <td>3943.561250</td>\n",
       "    </tr>\n",
       "    <tr>\n",
       "      <th>3</th>\n",
       "      <td>8530.460580</td>\n",
       "      <td>4590.016694</td>\n",
       "      <td>6613.218267</td>\n",
       "      <td>4088.369789</td>\n",
       "      <td>3699.645036</td>\n",
       "      <td>6977.476102</td>\n",
       "      <td>4124.478050</td>\n",
       "      <td>3574.054578</td>\n",
       "      <td>6032.068372</td>\n",
       "      <td>9759.071350</td>\n",
       "      <td>7362.072164</td>\n",
       "      <td>10154.763976</td>\n",
       "      <td>4325.492077</td>\n",
       "      <td>5592.102942</td>\n",
       "    </tr>\n",
       "    <tr>\n",
       "      <th>5</th>\n",
       "      <td>7539.748191</td>\n",
       "      <td>4186.468498</td>\n",
       "      <td>6718.450811</td>\n",
       "      <td>3584.473203</td>\n",
       "      <td>4111.543500</td>\n",
       "      <td>7167.593956</td>\n",
       "      <td>4122.557310</td>\n",
       "      <td>3669.373912</td>\n",
       "      <td>5772.149419</td>\n",
       "      <td>9103.714162</td>\n",
       "      <td>7473.343529</td>\n",
       "      <td>8490.798626</td>\n",
       "      <td>5505.260129</td>\n",
       "      <td>4352.518159</td>\n",
       "    </tr>\n",
       "    <tr>\n",
       "      <th>7</th>\n",
       "      <td>6827.548155</td>\n",
       "      <td>4127.820004</td>\n",
       "      <td>6711.807083</td>\n",
       "      <td>3876.207885</td>\n",
       "      <td>4143.215519</td>\n",
       "      <td>7125.509493</td>\n",
       "      <td>4022.575653</td>\n",
       "      <td>3967.366088</td>\n",
       "      <td>5370.469118</td>\n",
       "      <td>8628.118491</td>\n",
       "      <td>8551.409934</td>\n",
       "      <td>8968.114911</td>\n",
       "      <td>5343.016187</td>\n",
       "      <td>4258.008529</td>\n",
       "    </tr>\n",
       "    <tr>\n",
       "      <th>9</th>\n",
       "      <td>6855.335618</td>\n",
       "      <td>4428.026657</td>\n",
       "      <td>6934.108522</td>\n",
       "      <td>3906.855356</td>\n",
       "      <td>4202.277116</td>\n",
       "      <td>7149.952812</td>\n",
       "      <td>4098.751541</td>\n",
       "      <td>4412.015242</td>\n",
       "      <td>4669.268432</td>\n",
       "      <td>8247.556122</td>\n",
       "      <td>8401.777099</td>\n",
       "      <td>8703.464189</td>\n",
       "      <td>5352.518219</td>\n",
       "      <td>4409.577236</td>\n",
       "    </tr>\n",
       "    <tr>\n",
       "      <th>avg</th>\n",
       "      <td>7715.770970</td>\n",
       "      <td>4697.365650</td>\n",
       "      <td>6755.475502</td>\n",
       "      <td>3992.942288</td>\n",
       "      <td>4264.760066</td>\n",
       "      <td>7666.136171</td>\n",
       "      <td>4109.468655</td>\n",
       "      <td>3873.378768</td>\n",
       "      <td>5440.663531</td>\n",
       "      <td>9164.784645</td>\n",
       "      <td>8071.204278</td>\n",
       "      <td>10208.652000</td>\n",
       "      <td>4719.419268</td>\n",
       "      <td>4511.153623</td>\n",
       "    </tr>\n",
       "  </tbody>\n",
       "</table>\n",
       "</div>"
      ],
      "text/plain": [
       "            bore     city_mpg  compression_ratio  curb_weight  engine_size  \\\n",
       "1    8825.762307  6154.496397        6799.792829  4508.805207  5167.119160   \n",
       "3    8530.460580  4590.016694        6613.218267  4088.369789  3699.645036   \n",
       "5    7539.748191  4186.468498        6718.450811  3584.473203  4111.543500   \n",
       "7    6827.548155  4127.820004        6711.807083  3876.207885  4143.215519   \n",
       "9    6855.335618  4428.026657        6934.108522  3906.855356  4202.277116   \n",
       "avg  7715.770970  4697.365650        6755.475502  3992.942288  4264.760066   \n",
       "\n",
       "          height  highway_mpg   horsepower       length      peak_rpm  \\\n",
       "1    9910.148489  4178.980719  3744.084017  5359.362316  10085.463100   \n",
       "3    6977.476102  4124.478050  3574.054578  6032.068372   9759.071350   \n",
       "5    7167.593956  4122.557310  3669.373912  5772.149419   9103.714162   \n",
       "7    7125.509493  4022.575653  3967.366088  5370.469118   8628.118491   \n",
       "9    7149.952812  4098.751541  4412.015242  4669.268432   8247.556122   \n",
       "avg  7666.136171  4109.468655  3873.378768  5440.663531   9164.784645   \n",
       "\n",
       "          stroke     symboling   wheel_base        width  \n",
       "1    8567.418666  14726.118300  3070.809728  3943.561250  \n",
       "3    7362.072164  10154.763976  4325.492077  5592.102942  \n",
       "5    7473.343529   8490.798626  5505.260129  4352.518159  \n",
       "7    8551.409934   8968.114911  5343.016187  4258.008529  \n",
       "9    8401.777099   8703.464189  5352.518219  4409.577236  \n",
       "avg  8071.204278  10208.652000  4719.419268  4511.153623  "
      ]
     },
     "execution_count": 217,
     "metadata": {},
     "output_type": "execute_result"
    }
   ],
   "source": [
    "results.loc['avg'] = results.apply(np.mean)\n",
    "results.head(10)"
   ]
  },
  {
   "cell_type": "markdown",
   "metadata": {},
   "source": [
    "Sort the features in ascending order according to the average RMSE:"
   ]
  },
  {
   "cell_type": "code",
   "execution_count": 237,
   "metadata": {
    "collapsed": false,
    "jupyter": {
     "outputs_hidden": false
    }
   },
   "outputs": [
    {
     "data": {
      "text/plain": [
       "Index(['horsepower', 'curb_weight', 'highway_mpg', 'engine_size', 'width',\n",
       "       'city_mpg', 'wheel_base', 'length', 'compression_ratio', 'height',\n",
       "       'bore', 'stroke', 'peak_rpm', 'symboling'],\n",
       "      dtype='object')"
      ]
     },
     "execution_count": 237,
     "metadata": {},
     "output_type": "execute_result"
    }
   ],
   "source": [
    "# By using index we keep only the indices (i.e., the names of the best features)\n",
    "best_features = results.loc['avg'].sort_values().index\n",
    "best_features"
   ]
  },
  {
   "cell_type": "markdown",
   "metadata": {},
   "source": [
    "Use the best 2 features from the previous step to train and test a multivariate k-nearest neighbors model using the default `k` value."
   ]
  },
  {
   "cell_type": "code",
   "execution_count": 239,
   "metadata": {
    "collapsed": false,
    "jupyter": {
     "outputs_hidden": false
    }
   },
   "outputs": [
    {
     "data": {
      "text/plain": [
       "Index(['horsepower', 'curb_weight'], dtype='object')"
      ]
     },
     "execution_count": 239,
     "metadata": {},
     "output_type": "execute_result"
    }
   ],
   "source": [
    "best_features[:2]"
   ]
  },
  {
   "cell_type": "code",
   "execution_count": 250,
   "metadata": {
    "collapsed": false,
    "jupyter": {
     "outputs_hidden": false
    }
   },
   "outputs": [
    {
     "name": "stdout",
     "output_type": "stream",
     "text": [
      "{2: 2954.476560848554, 3: 3055.0266479304446, 4: 3140.1679857413924, 5: 2881.2595938485256, 6: 2955.4961080402636, 7: 2815.2513424517015, 8: 2852.1770380058388, 9: 3018.0510703410214, 10: 3121.9963291788463, 11: 3035.2924281464307, 12: 3266.0282843488935, 13: 3140.36547112055}\n"
     ]
    }
   ],
   "source": [
    "nb_best_features = list(range(2,len(best_features)))\n",
    "# Initialize dictionary for RMSE values:\n",
    "rmse_values = {}\n",
    "for n in nb_best_features:\n",
    "    # print(n)\n",
    "    # print( best_features[:n])\n",
    "    rmse = knn_train_test(cars_num, best_features[:n])\n",
    "    rmse_values[n] = rmse\n",
    "print(rmse_values)"
   ]
  },
  {
   "cell_type": "code",
   "execution_count": 290,
   "metadata": {
    "collapsed": false,
    "jupyter": {
     "outputs_hidden": false
    }
   },
   "outputs": [
    {
     "name": "stdout",
     "output_type": "stream",
     "text": [
      "[2, 3, 4, 5, 6, 7, 8, 9, 10, 11, 12, 13]\n"
     ]
    },
    {
     "ename": "AttributeError",
     "evalue": "'list' object has no attribute 'values'",
     "output_type": "error",
     "traceback": [
      "\u001b[1;31m\u001b[0m",
      "\u001b[1;31mAttributeError\u001b[0mTraceback (most recent call last)",
      "\u001b[1;32m<ipython-input-290-ea189e483f57>\u001b[0m in \u001b[0;36m<module>\u001b[1;34m()\u001b[0m\n\u001b[0;32m      1\u001b[0m \u001b[0mprint\u001b[0m\u001b[1;33m(\u001b[0m\u001b[0mnb_best_features\u001b[0m\u001b[1;33m)\u001b[0m\u001b[1;33m\u001b[0m\u001b[0m\n\u001b[1;32m----> 2\u001b[1;33m \u001b[0mprint\u001b[0m\u001b[1;33m(\u001b[0m\u001b[0mrmse_values\u001b[0m\u001b[1;33m.\u001b[0m\u001b[0mvalues\u001b[0m\u001b[1;33m(\u001b[0m\u001b[1;33m)\u001b[0m\u001b[1;33m)\u001b[0m\u001b[1;33m\u001b[0m\u001b[0m\n\u001b[0m\u001b[0;32m      3\u001b[0m \u001b[1;33m\u001b[0m\u001b[0m\n\u001b[0;32m      4\u001b[0m \u001b[0mplt\u001b[0m\u001b[1;33m.\u001b[0m\u001b[0mplot\u001b[0m\u001b[1;33m(\u001b[0m\u001b[0mnb_best_features\u001b[0m\u001b[1;33m,\u001b[0m \u001b[0mlist\u001b[0m\u001b[1;33m(\u001b[0m\u001b[0mrmse_values\u001b[0m\u001b[1;33m.\u001b[0m\u001b[0mvalues\u001b[0m\u001b[1;33m(\u001b[0m\u001b[1;33m)\u001b[0m\u001b[1;33m)\u001b[0m\u001b[1;33m)\u001b[0m\u001b[1;33m\u001b[0m\u001b[0m\n\u001b[0;32m      5\u001b[0m \u001b[0mplt\u001b[0m\u001b[1;33m.\u001b[0m\u001b[0mtitle\u001b[0m\u001b[1;33m(\u001b[0m\u001b[1;34m'RMSE vs number of best features'\u001b[0m\u001b[1;33m)\u001b[0m\u001b[1;33m\u001b[0m\u001b[0m\n",
      "\u001b[1;31mAttributeError\u001b[0m: 'list' object has no attribute 'values'"
     ]
    }
   ],
   "source": [
    "print(nb_best_features)\n",
    "print(rmse_values.values())\n",
    "\n",
    "plt.plot(nb_best_features, list(rmse_values.values()))\n",
    "plt.title('RMSE vs number of best features')\n",
    "plt.xlabel('number of best features')\n",
    "plt.ylabel('RMSE')\n",
    "plt.show()"
   ]
  },
  {
   "cell_type": "markdown",
   "metadata": {},
   "source": [
    "It appears that using 7 features gives the smallest RMSE."
   ]
  },
  {
   "cell_type": "markdown",
   "metadata": {},
   "source": [
    "## 5. Hyperparameter Tuning"
   ]
  },
  {
   "cell_type": "markdown",
   "metadata": {},
   "source": [
    "Let's now optimize the model that performed the best in the previous step.\n",
    "For the top 3 models in the last step, vary the hyperparameter value from 1 to 25 and plot the resulting RMSE values."
   ]
  },
  {
   "cell_type": "code",
   "execution_count": 302,
   "metadata": {
    "collapsed": false,
    "jupyter": {
     "outputs_hidden": false
    }
   },
   "outputs": [],
   "source": [
    "top_best_features = [2, 3, 4, 5]\n",
    "knn_array = list(range(1,26))\n",
    "rmse_k = {}\n",
    "for n in top_best_features:\n",
    "    rmse_values = list()\n",
    "    for knn in knn_array:\n",
    "        rmse = knn_train_test(cars_num, best_features[:n], k = knn)\n",
    "        rmse_values.append(rmse)\n",
    "    rmse_k[n] = rmse_values"
   ]
  },
  {
   "cell_type": "code",
   "execution_count": 303,
   "metadata": {
    "collapsed": false,
    "jupyter": {
     "outputs_hidden": false
    }
   },
   "outputs": [
    {
     "data": {
      "text/html": [
       "<div>\n",
       "<style scoped>\n",
       "    .dataframe tbody tr th:only-of-type {\n",
       "        vertical-align: middle;\n",
       "    }\n",
       "\n",
       "    .dataframe tbody tr th {\n",
       "        vertical-align: top;\n",
       "    }\n",
       "\n",
       "    .dataframe thead th {\n",
       "        text-align: right;\n",
       "    }\n",
       "</style>\n",
       "<table border=\"1\" class=\"dataframe\">\n",
       "  <thead>\n",
       "    <tr style=\"text-align: right;\">\n",
       "      <th></th>\n",
       "      <th>2</th>\n",
       "      <th>3</th>\n",
       "      <th>4</th>\n",
       "      <th>5</th>\n",
       "    </tr>\n",
       "  </thead>\n",
       "  <tbody>\n",
       "    <tr>\n",
       "      <th>1</th>\n",
       "      <td>2932.627836</td>\n",
       "      <td>3227.740260</td>\n",
       "      <td>3253.715378</td>\n",
       "      <td>3115.351861</td>\n",
       "    </tr>\n",
       "    <tr>\n",
       "      <th>2</th>\n",
       "      <td>3148.875274</td>\n",
       "      <td>2675.262958</td>\n",
       "      <td>3012.967405</td>\n",
       "      <td>2847.097060</td>\n",
       "    </tr>\n",
       "    <tr>\n",
       "      <th>3</th>\n",
       "      <td>3121.335017</td>\n",
       "      <td>2676.350382</td>\n",
       "      <td>2858.945775</td>\n",
       "      <td>3048.955492</td>\n",
       "    </tr>\n",
       "    <tr>\n",
       "      <th>4</th>\n",
       "      <td>2983.058720</td>\n",
       "      <td>2802.576252</td>\n",
       "      <td>3000.979339</td>\n",
       "      <td>2970.298988</td>\n",
       "    </tr>\n",
       "    <tr>\n",
       "      <th>5</th>\n",
       "      <td>2954.476561</td>\n",
       "      <td>3055.026648</td>\n",
       "      <td>3140.167986</td>\n",
       "      <td>2881.259594</td>\n",
       "    </tr>\n",
       "    <tr>\n",
       "      <th>6</th>\n",
       "      <td>2827.017489</td>\n",
       "      <td>3050.040694</td>\n",
       "      <td>3286.225767</td>\n",
       "      <td>2792.533408</td>\n",
       "    </tr>\n",
       "    <tr>\n",
       "      <th>7</th>\n",
       "      <td>2993.501037</td>\n",
       "      <td>3084.669052</td>\n",
       "      <td>3226.360168</td>\n",
       "      <td>2787.439021</td>\n",
       "    </tr>\n",
       "    <tr>\n",
       "      <th>8</th>\n",
       "      <td>3335.636756</td>\n",
       "      <td>3348.561380</td>\n",
       "      <td>3274.046274</td>\n",
       "      <td>2947.825017</td>\n",
       "    </tr>\n",
       "    <tr>\n",
       "      <th>9</th>\n",
       "      <td>3564.033088</td>\n",
       "      <td>3477.172664</td>\n",
       "      <td>3531.077502</td>\n",
       "      <td>3050.476314</td>\n",
       "    </tr>\n",
       "    <tr>\n",
       "      <th>10</th>\n",
       "      <td>3696.423688</td>\n",
       "      <td>3667.508081</td>\n",
       "      <td>3699.315313</td>\n",
       "      <td>3125.054076</td>\n",
       "    </tr>\n",
       "    <tr>\n",
       "      <th>11</th>\n",
       "      <td>3816.895133</td>\n",
       "      <td>3826.843771</td>\n",
       "      <td>3811.961729</td>\n",
       "      <td>3091.423148</td>\n",
       "    </tr>\n",
       "    <tr>\n",
       "      <th>12</th>\n",
       "      <td>3973.792305</td>\n",
       "      <td>4008.573339</td>\n",
       "      <td>3856.979962</td>\n",
       "      <td>3278.416341</td>\n",
       "    </tr>\n",
       "    <tr>\n",
       "      <th>13</th>\n",
       "      <td>4035.839445</td>\n",
       "      <td>4133.765816</td>\n",
       "      <td>3844.366475</td>\n",
       "      <td>3431.011837</td>\n",
       "    </tr>\n",
       "    <tr>\n",
       "      <th>14</th>\n",
       "      <td>4052.847446</td>\n",
       "      <td>4253.608237</td>\n",
       "      <td>3954.097634</td>\n",
       "      <td>3645.140708</td>\n",
       "    </tr>\n",
       "    <tr>\n",
       "      <th>15</th>\n",
       "      <td>4071.901550</td>\n",
       "      <td>4255.009341</td>\n",
       "      <td>4009.536326</td>\n",
       "      <td>3809.149461</td>\n",
       "    </tr>\n",
       "    <tr>\n",
       "      <th>16</th>\n",
       "      <td>4100.331005</td>\n",
       "      <td>4343.848114</td>\n",
       "      <td>4076.466125</td>\n",
       "      <td>3900.448138</td>\n",
       "    </tr>\n",
       "    <tr>\n",
       "      <th>17</th>\n",
       "      <td>4174.804882</td>\n",
       "      <td>4359.753373</td>\n",
       "      <td>3926.288719</td>\n",
       "      <td>4019.550939</td>\n",
       "    </tr>\n",
       "    <tr>\n",
       "      <th>18</th>\n",
       "      <td>4286.245564</td>\n",
       "      <td>4358.062529</td>\n",
       "      <td>3950.913965</td>\n",
       "      <td>4128.281292</td>\n",
       "    </tr>\n",
       "    <tr>\n",
       "      <th>19</th>\n",
       "      <td>4359.600163</td>\n",
       "      <td>4325.929067</td>\n",
       "      <td>3916.334191</td>\n",
       "      <td>4248.426358</td>\n",
       "    </tr>\n",
       "    <tr>\n",
       "      <th>20</th>\n",
       "      <td>4434.851405</td>\n",
       "      <td>4366.691668</td>\n",
       "      <td>3967.148113</td>\n",
       "      <td>4328.275689</td>\n",
       "    </tr>\n",
       "    <tr>\n",
       "      <th>21</th>\n",
       "      <td>4522.729378</td>\n",
       "      <td>4431.709283</td>\n",
       "      <td>4069.512694</td>\n",
       "      <td>4389.177024</td>\n",
       "    </tr>\n",
       "    <tr>\n",
       "      <th>22</th>\n",
       "      <td>4598.103781</td>\n",
       "      <td>4513.398906</td>\n",
       "      <td>4161.444241</td>\n",
       "      <td>4440.480586</td>\n",
       "    </tr>\n",
       "    <tr>\n",
       "      <th>23</th>\n",
       "      <td>4596.517069</td>\n",
       "      <td>4580.044200</td>\n",
       "      <td>4255.870214</td>\n",
       "      <td>4500.927582</td>\n",
       "    </tr>\n",
       "    <tr>\n",
       "      <th>24</th>\n",
       "      <td>4570.765644</td>\n",
       "      <td>4567.882323</td>\n",
       "      <td>4376.228378</td>\n",
       "      <td>4550.091534</td>\n",
       "    </tr>\n",
       "    <tr>\n",
       "      <th>25</th>\n",
       "      <td>4629.172339</td>\n",
       "      <td>4631.469423</td>\n",
       "      <td>4369.459545</td>\n",
       "      <td>4629.872188</td>\n",
       "    </tr>\n",
       "  </tbody>\n",
       "</table>\n",
       "</div>"
      ],
      "text/plain": [
       "              2            3            4            5\n",
       "1   2932.627836  3227.740260  3253.715378  3115.351861\n",
       "2   3148.875274  2675.262958  3012.967405  2847.097060\n",
       "3   3121.335017  2676.350382  2858.945775  3048.955492\n",
       "4   2983.058720  2802.576252  3000.979339  2970.298988\n",
       "5   2954.476561  3055.026648  3140.167986  2881.259594\n",
       "6   2827.017489  3050.040694  3286.225767  2792.533408\n",
       "7   2993.501037  3084.669052  3226.360168  2787.439021\n",
       "8   3335.636756  3348.561380  3274.046274  2947.825017\n",
       "9   3564.033088  3477.172664  3531.077502  3050.476314\n",
       "10  3696.423688  3667.508081  3699.315313  3125.054076\n",
       "11  3816.895133  3826.843771  3811.961729  3091.423148\n",
       "12  3973.792305  4008.573339  3856.979962  3278.416341\n",
       "13  4035.839445  4133.765816  3844.366475  3431.011837\n",
       "14  4052.847446  4253.608237  3954.097634  3645.140708\n",
       "15  4071.901550  4255.009341  4009.536326  3809.149461\n",
       "16  4100.331005  4343.848114  4076.466125  3900.448138\n",
       "17  4174.804882  4359.753373  3926.288719  4019.550939\n",
       "18  4286.245564  4358.062529  3950.913965  4128.281292\n",
       "19  4359.600163  4325.929067  3916.334191  4248.426358\n",
       "20  4434.851405  4366.691668  3967.148113  4328.275689\n",
       "21  4522.729378  4431.709283  4069.512694  4389.177024\n",
       "22  4598.103781  4513.398906  4161.444241  4440.480586\n",
       "23  4596.517069  4580.044200  4255.870214  4500.927582\n",
       "24  4570.765644  4567.882323  4376.228378  4550.091534\n",
       "25  4629.172339  4631.469423  4369.459545  4629.872188"
      ]
     },
     "execution_count": 303,
     "metadata": {},
     "output_type": "execute_result"
    }
   ],
   "source": [
    "final_result = pd.DataFrame(rmse_k, index=range(1,26))\n",
    "final_result"
   ]
  },
  {
   "cell_type": "markdown",
   "metadata": {},
   "source": [
    "Plot the resulting RMSE values."
   ]
  },
  {
   "cell_type": "code",
   "execution_count": 305,
   "metadata": {
    "collapsed": false,
    "jupyter": {
     "outputs_hidden": false
    }
   },
   "outputs": [
    {
     "data": {
      "image/png": "[encoded data removed]",
      "text/plain": [
       "<matplotlib.figure.Figure at 0x7f792fe5ca20>"
      ]
     },
     "metadata": {},
     "output_type": "display_data"
    }
   ],
   "source": [
    "plt.plot(final_result)\n",
    "plt.title('RMSE vs k value')\n",
    "plt.xlabel('k value')\n",
    "plt.ylabel('RMSE')\n",
    "plt.legend(top_best_features, loc='upper left')\n",
    "plt.show()"
   ]
  },
  {
   "cell_type": "markdown",
   "metadata": {},
   "source": [
    "Which k value is optimal for each model? How different are the k values and what do you think accounts for the differences?"
   ]
  },
  {
   "cell_type": "code",
   "execution_count": null,
   "metadata": {
    "collapsed": true,
    "jupyter": {
     "outputs_hidden": true
    }
   },
   "outputs": [],
   "source": []
  }
 ],
 "metadata": {
  "kernelspec": {
   "display_name": "Python 3",
   "language": "python",
   "name": "python3"
  },
  "language_info": {
   "codemirror_mode": {
    "name": "ipython",
    "version": 3
   },
   "file_extension": ".py",
   "mimetype": "text/x-python",
   "name": "python",
   "nbconvert_exporter": "python",
   "pygments_lexer": "ipython3",
   "version": "3.7.6"
  }
 },
 "nbformat": 4,
 "nbformat_minor": 4
}

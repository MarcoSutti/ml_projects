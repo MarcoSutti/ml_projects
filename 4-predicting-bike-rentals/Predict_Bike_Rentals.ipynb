{
 "cells": [
  {
   "cell_type": "markdown",
   "metadata": {
    "collapsed": true
   },
   "source": [
    "# Predicting Bike Rentals\n",
    "## 1. Introduction to the Dataset\n",
    "Many U.S. cities have communal bike sharing stations where you can rent bicycles by the hour or day. Washington, D.C. is one of these cities. The District of Columbia collects detailed data on the number of bicycles people rent by the hour and day.\n",
    "\n",
    "The data have been compiled into a CSV file which can be downloaded at [University of California, Irvine's website](http://archive.ics.uci.edu/ml/datasets/Bike+Sharing+Dataset). The file contains `17380` rows, with each row representing the number of bike rentals for a single hour of a single day.\n",
    "\n",
    "In this project, we will try to predict the total number of bikes people rented in a given hour. You'll predict the `cnt` (count) column using all of the other columns, except for `casual` and `registered`. To accomplish this, we create a few different machine learning models and evaluate their performance."
   ]
  },
  {
   "cell_type": "code",
   "execution_count": 1,
   "metadata": {},
   "outputs": [
    {
     "data": {
      "text/html": [
       "<div>\n",
       "<style scoped>\n",
       "    .dataframe tbody tr th:only-of-type {\n",
       "        vertical-align: middle;\n",
       "    }\n",
       "\n",
       "    .dataframe tbody tr th {\n",
       "        vertical-align: top;\n",
       "    }\n",
       "\n",
       "    .dataframe thead th {\n",
       "        text-align: right;\n",
       "    }\n",
       "</style>\n",
       "<table border=\"1\" class=\"dataframe\">\n",
       "  <thead>\n",
       "    <tr style=\"text-align: right;\">\n",
       "      <th></th>\n",
       "      <th>instant</th>\n",
       "      <th>dteday</th>\n",
       "      <th>season</th>\n",
       "      <th>yr</th>\n",
       "      <th>mnth</th>\n",
       "      <th>hr</th>\n",
       "      <th>holiday</th>\n",
       "      <th>weekday</th>\n",
       "      <th>workingday</th>\n",
       "      <th>weathersit</th>\n",
       "      <th>temp</th>\n",
       "      <th>atemp</th>\n",
       "      <th>hum</th>\n",
       "      <th>windspeed</th>\n",
       "      <th>casual</th>\n",
       "      <th>registered</th>\n",
       "      <th>cnt</th>\n",
       "    </tr>\n",
       "  </thead>\n",
       "  <tbody>\n",
       "    <tr>\n",
       "      <th>0</th>\n",
       "      <td>1</td>\n",
       "      <td>2011-01-01</td>\n",
       "      <td>1</td>\n",
       "      <td>0</td>\n",
       "      <td>1</td>\n",
       "      <td>0</td>\n",
       "      <td>0</td>\n",
       "      <td>6</td>\n",
       "      <td>0</td>\n",
       "      <td>1</td>\n",
       "      <td>0.24</td>\n",
       "      <td>0.2879</td>\n",
       "      <td>0.81</td>\n",
       "      <td>0.0</td>\n",
       "      <td>3</td>\n",
       "      <td>13</td>\n",
       "      <td>16</td>\n",
       "    </tr>\n",
       "    <tr>\n",
       "      <th>1</th>\n",
       "      <td>2</td>\n",
       "      <td>2011-01-01</td>\n",
       "      <td>1</td>\n",
       "      <td>0</td>\n",
       "      <td>1</td>\n",
       "      <td>1</td>\n",
       "      <td>0</td>\n",
       "      <td>6</td>\n",
       "      <td>0</td>\n",
       "      <td>1</td>\n",
       "      <td>0.22</td>\n",
       "      <td>0.2727</td>\n",
       "      <td>0.80</td>\n",
       "      <td>0.0</td>\n",
       "      <td>8</td>\n",
       "      <td>32</td>\n",
       "      <td>40</td>\n",
       "    </tr>\n",
       "    <tr>\n",
       "      <th>2</th>\n",
       "      <td>3</td>\n",
       "      <td>2011-01-01</td>\n",
       "      <td>1</td>\n",
       "      <td>0</td>\n",
       "      <td>1</td>\n",
       "      <td>2</td>\n",
       "      <td>0</td>\n",
       "      <td>6</td>\n",
       "      <td>0</td>\n",
       "      <td>1</td>\n",
       "      <td>0.22</td>\n",
       "      <td>0.2727</td>\n",
       "      <td>0.80</td>\n",
       "      <td>0.0</td>\n",
       "      <td>5</td>\n",
       "      <td>27</td>\n",
       "      <td>32</td>\n",
       "    </tr>\n",
       "    <tr>\n",
       "      <th>3</th>\n",
       "      <td>4</td>\n",
       "      <td>2011-01-01</td>\n",
       "      <td>1</td>\n",
       "      <td>0</td>\n",
       "      <td>1</td>\n",
       "      <td>3</td>\n",
       "      <td>0</td>\n",
       "      <td>6</td>\n",
       "      <td>0</td>\n",
       "      <td>1</td>\n",
       "      <td>0.24</td>\n",
       "      <td>0.2879</td>\n",
       "      <td>0.75</td>\n",
       "      <td>0.0</td>\n",
       "      <td>3</td>\n",
       "      <td>10</td>\n",
       "      <td>13</td>\n",
       "    </tr>\n",
       "    <tr>\n",
       "      <th>4</th>\n",
       "      <td>5</td>\n",
       "      <td>2011-01-01</td>\n",
       "      <td>1</td>\n",
       "      <td>0</td>\n",
       "      <td>1</td>\n",
       "      <td>4</td>\n",
       "      <td>0</td>\n",
       "      <td>6</td>\n",
       "      <td>0</td>\n",
       "      <td>1</td>\n",
       "      <td>0.24</td>\n",
       "      <td>0.2879</td>\n",
       "      <td>0.75</td>\n",
       "      <td>0.0</td>\n",
       "      <td>0</td>\n",
       "      <td>1</td>\n",
       "      <td>1</td>\n",
       "    </tr>\n",
       "  </tbody>\n",
       "</table>\n",
       "</div>"
      ],
      "text/plain": [
       "   instant      dteday  season  yr  mnth  hr  holiday  weekday  workingday  \\\n",
       "0        1  2011-01-01       1   0     1   0        0        6           0   \n",
       "1        2  2011-01-01       1   0     1   1        0        6           0   \n",
       "2        3  2011-01-01       1   0     1   2        0        6           0   \n",
       "3        4  2011-01-01       1   0     1   3        0        6           0   \n",
       "4        5  2011-01-01       1   0     1   4        0        6           0   \n",
       "\n",
       "   weathersit  temp   atemp   hum  windspeed  casual  registered  cnt  \n",
       "0           1  0.24  0.2879  0.81        0.0       3          13   16  \n",
       "1           1  0.22  0.2727  0.80        0.0       8          32   40  \n",
       "2           1  0.22  0.2727  0.80        0.0       5          27   32  \n",
       "3           1  0.24  0.2879  0.75        0.0       3          10   13  \n",
       "4           1  0.24  0.2879  0.75        0.0       0           1    1  "
      ]
     },
     "execution_count": 1,
     "metadata": {},
     "output_type": "execute_result"
    }
   ],
   "source": [
    "import numpy as np\n",
    "import pandas as pd\n",
    "import matplotlib.pyplot as plt\n",
    "%matplotlib inline\n",
    "\n",
    "bike_rentals = pd.read_csv('bike_rental_hour.csv')\n",
    "bike_rentals.head()"
   ]
  },
  {
   "cell_type": "markdown",
   "metadata": {},
   "source": [
    "Let's make a histogram of the `cnt` column of `bike_rentals`, and take a look at the distribution of total rentals."
   ]
  },
  {
   "cell_type": "code",
   "execution_count": 2,
   "metadata": {},
   "outputs": [
    {
     "data": {
      "image/png": "[encoded data removed]",
      "text/plain": [
       "<Figure size 432x288 with 1 Axes>"
      ]
     },
     "metadata": {
      "needs_background": "light"
     },
     "output_type": "display_data"
    }
   ],
   "source": [
    "# MS: This makes a histogram with matplotlib,\n",
    "# but we could also use pandas, seaborn...\n",
    "plt.hist(bike_rentals['cnt'], bins=50, color='#607c8e')\n",
    "plt.show()"
   ]
  },
  {
   "cell_type": "markdown",
   "metadata": {},
   "source": [
    "Use the corr method on the `bike_rentals` dataframe to explore how each column is correlated with `cnt`.\n",
    "Compute pairwise correlation of columns, excluding NA/null values."
   ]
  },
  {
   "cell_type": "code",
   "execution_count": 3,
   "metadata": {
    "scrolled": true
   },
   "outputs": [
    {
     "data": {
      "text/html": [
       "<div>\n",
       "<style scoped>\n",
       "    .dataframe tbody tr th:only-of-type {\n",
       "        vertical-align: middle;\n",
       "    }\n",
       "\n",
       "    .dataframe tbody tr th {\n",
       "        vertical-align: top;\n",
       "    }\n",
       "\n",
       "    .dataframe thead th {\n",
       "        text-align: right;\n",
       "    }\n",
       "</style>\n",
       "<table border=\"1\" class=\"dataframe\">\n",
       "  <thead>\n",
       "    <tr style=\"text-align: right;\">\n",
       "      <th></th>\n",
       "      <th>instant</th>\n",
       "      <th>season</th>\n",
       "      <th>yr</th>\n",
       "      <th>mnth</th>\n",
       "      <th>hr</th>\n",
       "      <th>holiday</th>\n",
       "      <th>weekday</th>\n",
       "      <th>workingday</th>\n",
       "      <th>weathersit</th>\n",
       "      <th>temp</th>\n",
       "      <th>atemp</th>\n",
       "      <th>hum</th>\n",
       "      <th>windspeed</th>\n",
       "      <th>casual</th>\n",
       "      <th>registered</th>\n",
       "      <th>cnt</th>\n",
       "    </tr>\n",
       "  </thead>\n",
       "  <tbody>\n",
       "    <tr>\n",
       "      <th>instant</th>\n",
       "      <td>1.000000</td>\n",
       "      <td>0.404046</td>\n",
       "      <td>0.866014</td>\n",
       "      <td>0.489164</td>\n",
       "      <td>-0.004775</td>\n",
       "      <td>0.014723</td>\n",
       "      <td>0.001357</td>\n",
       "      <td>-0.003416</td>\n",
       "      <td>-0.014198</td>\n",
       "      <td>0.136178</td>\n",
       "      <td>0.137615</td>\n",
       "      <td>0.009577</td>\n",
       "      <td>-0.074505</td>\n",
       "      <td>0.158295</td>\n",
       "      <td>0.282046</td>\n",
       "      <td>0.278379</td>\n",
       "    </tr>\n",
       "    <tr>\n",
       "      <th>season</th>\n",
       "      <td>0.404046</td>\n",
       "      <td>1.000000</td>\n",
       "      <td>-0.010742</td>\n",
       "      <td>0.830386</td>\n",
       "      <td>-0.006117</td>\n",
       "      <td>-0.009585</td>\n",
       "      <td>-0.002335</td>\n",
       "      <td>0.013743</td>\n",
       "      <td>-0.014524</td>\n",
       "      <td>0.312025</td>\n",
       "      <td>0.319380</td>\n",
       "      <td>0.150625</td>\n",
       "      <td>-0.149773</td>\n",
       "      <td>0.120206</td>\n",
       "      <td>0.174226</td>\n",
       "      <td>0.178056</td>\n",
       "    </tr>\n",
       "    <tr>\n",
       "      <th>yr</th>\n",
       "      <td>0.866014</td>\n",
       "      <td>-0.010742</td>\n",
       "      <td>1.000000</td>\n",
       "      <td>-0.010473</td>\n",
       "      <td>-0.003867</td>\n",
       "      <td>0.006692</td>\n",
       "      <td>-0.004485</td>\n",
       "      <td>-0.002196</td>\n",
       "      <td>-0.019157</td>\n",
       "      <td>0.040913</td>\n",
       "      <td>0.039222</td>\n",
       "      <td>-0.083546</td>\n",
       "      <td>-0.008740</td>\n",
       "      <td>0.142779</td>\n",
       "      <td>0.253684</td>\n",
       "      <td>0.250495</td>\n",
       "    </tr>\n",
       "    <tr>\n",
       "      <th>mnth</th>\n",
       "      <td>0.489164</td>\n",
       "      <td>0.830386</td>\n",
       "      <td>-0.010473</td>\n",
       "      <td>1.000000</td>\n",
       "      <td>-0.005772</td>\n",
       "      <td>0.018430</td>\n",
       "      <td>0.010400</td>\n",
       "      <td>-0.003477</td>\n",
       "      <td>0.005400</td>\n",
       "      <td>0.201691</td>\n",
       "      <td>0.208096</td>\n",
       "      <td>0.164411</td>\n",
       "      <td>-0.135386</td>\n",
       "      <td>0.068457</td>\n",
       "      <td>0.122273</td>\n",
       "      <td>0.120638</td>\n",
       "    </tr>\n",
       "    <tr>\n",
       "      <th>hr</th>\n",
       "      <td>-0.004775</td>\n",
       "      <td>-0.006117</td>\n",
       "      <td>-0.003867</td>\n",
       "      <td>-0.005772</td>\n",
       "      <td>1.000000</td>\n",
       "      <td>0.000479</td>\n",
       "      <td>-0.003498</td>\n",
       "      <td>0.002285</td>\n",
       "      <td>-0.020203</td>\n",
       "      <td>0.137603</td>\n",
       "      <td>0.133750</td>\n",
       "      <td>-0.276498</td>\n",
       "      <td>0.137252</td>\n",
       "      <td>0.301202</td>\n",
       "      <td>0.374141</td>\n",
       "      <td>0.394071</td>\n",
       "    </tr>\n",
       "    <tr>\n",
       "      <th>holiday</th>\n",
       "      <td>0.014723</td>\n",
       "      <td>-0.009585</td>\n",
       "      <td>0.006692</td>\n",
       "      <td>0.018430</td>\n",
       "      <td>0.000479</td>\n",
       "      <td>1.000000</td>\n",
       "      <td>-0.102088</td>\n",
       "      <td>-0.252471</td>\n",
       "      <td>-0.017036</td>\n",
       "      <td>-0.027340</td>\n",
       "      <td>-0.030973</td>\n",
       "      <td>-0.010588</td>\n",
       "      <td>0.003988</td>\n",
       "      <td>0.031564</td>\n",
       "      <td>-0.047345</td>\n",
       "      <td>-0.030927</td>\n",
       "    </tr>\n",
       "    <tr>\n",
       "      <th>weekday</th>\n",
       "      <td>0.001357</td>\n",
       "      <td>-0.002335</td>\n",
       "      <td>-0.004485</td>\n",
       "      <td>0.010400</td>\n",
       "      <td>-0.003498</td>\n",
       "      <td>-0.102088</td>\n",
       "      <td>1.000000</td>\n",
       "      <td>0.035955</td>\n",
       "      <td>0.003311</td>\n",
       "      <td>-0.001795</td>\n",
       "      <td>-0.008821</td>\n",
       "      <td>-0.037158</td>\n",
       "      <td>0.011502</td>\n",
       "      <td>0.032721</td>\n",
       "      <td>0.021578</td>\n",
       "      <td>0.026900</td>\n",
       "    </tr>\n",
       "    <tr>\n",
       "      <th>workingday</th>\n",
       "      <td>-0.003416</td>\n",
       "      <td>0.013743</td>\n",
       "      <td>-0.002196</td>\n",
       "      <td>-0.003477</td>\n",
       "      <td>0.002285</td>\n",
       "      <td>-0.252471</td>\n",
       "      <td>0.035955</td>\n",
       "      <td>1.000000</td>\n",
       "      <td>0.044672</td>\n",
       "      <td>0.055390</td>\n",
       "      <td>0.054667</td>\n",
       "      <td>0.015688</td>\n",
       "      <td>-0.011830</td>\n",
       "      <td>-0.300942</td>\n",
       "      <td>0.134326</td>\n",
       "      <td>0.030284</td>\n",
       "    </tr>\n",
       "    <tr>\n",
       "      <th>weathersit</th>\n",
       "      <td>-0.014198</td>\n",
       "      <td>-0.014524</td>\n",
       "      <td>-0.019157</td>\n",
       "      <td>0.005400</td>\n",
       "      <td>-0.020203</td>\n",
       "      <td>-0.017036</td>\n",
       "      <td>0.003311</td>\n",
       "      <td>0.044672</td>\n",
       "      <td>1.000000</td>\n",
       "      <td>-0.102640</td>\n",
       "      <td>-0.105563</td>\n",
       "      <td>0.418130</td>\n",
       "      <td>0.026226</td>\n",
       "      <td>-0.152628</td>\n",
       "      <td>-0.120966</td>\n",
       "      <td>-0.142426</td>\n",
       "    </tr>\n",
       "    <tr>\n",
       "      <th>temp</th>\n",
       "      <td>0.136178</td>\n",
       "      <td>0.312025</td>\n",
       "      <td>0.040913</td>\n",
       "      <td>0.201691</td>\n",
       "      <td>0.137603</td>\n",
       "      <td>-0.027340</td>\n",
       "      <td>-0.001795</td>\n",
       "      <td>0.055390</td>\n",
       "      <td>-0.102640</td>\n",
       "      <td>1.000000</td>\n",
       "      <td>0.987672</td>\n",
       "      <td>-0.069881</td>\n",
       "      <td>-0.023125</td>\n",
       "      <td>0.459616</td>\n",
       "      <td>0.335361</td>\n",
       "      <td>0.404772</td>\n",
       "    </tr>\n",
       "    <tr>\n",
       "      <th>atemp</th>\n",
       "      <td>0.137615</td>\n",
       "      <td>0.319380</td>\n",
       "      <td>0.039222</td>\n",
       "      <td>0.208096</td>\n",
       "      <td>0.133750</td>\n",
       "      <td>-0.030973</td>\n",
       "      <td>-0.008821</td>\n",
       "      <td>0.054667</td>\n",
       "      <td>-0.105563</td>\n",
       "      <td>0.987672</td>\n",
       "      <td>1.000000</td>\n",
       "      <td>-0.051918</td>\n",
       "      <td>-0.062336</td>\n",
       "      <td>0.454080</td>\n",
       "      <td>0.332559</td>\n",
       "      <td>0.400929</td>\n",
       "    </tr>\n",
       "    <tr>\n",
       "      <th>hum</th>\n",
       "      <td>0.009577</td>\n",
       "      <td>0.150625</td>\n",
       "      <td>-0.083546</td>\n",
       "      <td>0.164411</td>\n",
       "      <td>-0.276498</td>\n",
       "      <td>-0.010588</td>\n",
       "      <td>-0.037158</td>\n",
       "      <td>0.015688</td>\n",
       "      <td>0.418130</td>\n",
       "      <td>-0.069881</td>\n",
       "      <td>-0.051918</td>\n",
       "      <td>1.000000</td>\n",
       "      <td>-0.290105</td>\n",
       "      <td>-0.347028</td>\n",
       "      <td>-0.273933</td>\n",
       "      <td>-0.322911</td>\n",
       "    </tr>\n",
       "    <tr>\n",
       "      <th>windspeed</th>\n",
       "      <td>-0.074505</td>\n",
       "      <td>-0.149773</td>\n",
       "      <td>-0.008740</td>\n",
       "      <td>-0.135386</td>\n",
       "      <td>0.137252</td>\n",
       "      <td>0.003988</td>\n",
       "      <td>0.011502</td>\n",
       "      <td>-0.011830</td>\n",
       "      <td>0.026226</td>\n",
       "      <td>-0.023125</td>\n",
       "      <td>-0.062336</td>\n",
       "      <td>-0.290105</td>\n",
       "      <td>1.000000</td>\n",
       "      <td>0.090287</td>\n",
       "      <td>0.082321</td>\n",
       "      <td>0.093234</td>\n",
       "    </tr>\n",
       "    <tr>\n",
       "      <th>casual</th>\n",
       "      <td>0.158295</td>\n",
       "      <td>0.120206</td>\n",
       "      <td>0.142779</td>\n",
       "      <td>0.068457</td>\n",
       "      <td>0.301202</td>\n",
       "      <td>0.031564</td>\n",
       "      <td>0.032721</td>\n",
       "      <td>-0.300942</td>\n",
       "      <td>-0.152628</td>\n",
       "      <td>0.459616</td>\n",
       "      <td>0.454080</td>\n",
       "      <td>-0.347028</td>\n",
       "      <td>0.090287</td>\n",
       "      <td>1.000000</td>\n",
       "      <td>0.506618</td>\n",
       "      <td>0.694564</td>\n",
       "    </tr>\n",
       "    <tr>\n",
       "      <th>registered</th>\n",
       "      <td>0.282046</td>\n",
       "      <td>0.174226</td>\n",
       "      <td>0.253684</td>\n",
       "      <td>0.122273</td>\n",
       "      <td>0.374141</td>\n",
       "      <td>-0.047345</td>\n",
       "      <td>0.021578</td>\n",
       "      <td>0.134326</td>\n",
       "      <td>-0.120966</td>\n",
       "      <td>0.335361</td>\n",
       "      <td>0.332559</td>\n",
       "      <td>-0.273933</td>\n",
       "      <td>0.082321</td>\n",
       "      <td>0.506618</td>\n",
       "      <td>1.000000</td>\n",
       "      <td>0.972151</td>\n",
       "    </tr>\n",
       "    <tr>\n",
       "      <th>cnt</th>\n",
       "      <td>0.278379</td>\n",
       "      <td>0.178056</td>\n",
       "      <td>0.250495</td>\n",
       "      <td>0.120638</td>\n",
       "      <td>0.394071</td>\n",
       "      <td>-0.030927</td>\n",
       "      <td>0.026900</td>\n",
       "      <td>0.030284</td>\n",
       "      <td>-0.142426</td>\n",
       "      <td>0.404772</td>\n",
       "      <td>0.400929</td>\n",
       "      <td>-0.322911</td>\n",
       "      <td>0.093234</td>\n",
       "      <td>0.694564</td>\n",
       "      <td>0.972151</td>\n",
       "      <td>1.000000</td>\n",
       "    </tr>\n",
       "  </tbody>\n",
       "</table>\n",
       "</div>"
      ],
      "text/plain": [
       "             instant    season        yr      mnth        hr   holiday  \\\n",
       "instant     1.000000  0.404046  0.866014  0.489164 -0.004775  0.014723   \n",
       "season      0.404046  1.000000 -0.010742  0.830386 -0.006117 -0.009585   \n",
       "yr          0.866014 -0.010742  1.000000 -0.010473 -0.003867  0.006692   \n",
       "mnth        0.489164  0.830386 -0.010473  1.000000 -0.005772  0.018430   \n",
       "hr         -0.004775 -0.006117 -0.003867 -0.005772  1.000000  0.000479   \n",
       "holiday     0.014723 -0.009585  0.006692  0.018430  0.000479  1.000000   \n",
       "weekday     0.001357 -0.002335 -0.004485  0.010400 -0.003498 -0.102088   \n",
       "workingday -0.003416  0.013743 -0.002196 -0.003477  0.002285 -0.252471   \n",
       "weathersit -0.014198 -0.014524 -0.019157  0.005400 -0.020203 -0.017036   \n",
       "temp        0.136178  0.312025  0.040913  0.201691  0.137603 -0.027340   \n",
       "atemp       0.137615  0.319380  0.039222  0.208096  0.133750 -0.030973   \n",
       "hum         0.009577  0.150625 -0.083546  0.164411 -0.276498 -0.010588   \n",
       "windspeed  -0.074505 -0.149773 -0.008740 -0.135386  0.137252  0.003988   \n",
       "casual      0.158295  0.120206  0.142779  0.068457  0.301202  0.031564   \n",
       "registered  0.282046  0.174226  0.253684  0.122273  0.374141 -0.047345   \n",
       "cnt         0.278379  0.178056  0.250495  0.120638  0.394071 -0.030927   \n",
       "\n",
       "             weekday  workingday  weathersit      temp     atemp       hum  \\\n",
       "instant     0.001357   -0.003416   -0.014198  0.136178  0.137615  0.009577   \n",
       "season     -0.002335    0.013743   -0.014524  0.312025  0.319380  0.150625   \n",
       "yr         -0.004485   -0.002196   -0.019157  0.040913  0.039222 -0.083546   \n",
       "mnth        0.010400   -0.003477    0.005400  0.201691  0.208096  0.164411   \n",
       "hr         -0.003498    0.002285   -0.020203  0.137603  0.133750 -0.276498   \n",
       "holiday    -0.102088   -0.252471   -0.017036 -0.027340 -0.030973 -0.010588   \n",
       "weekday     1.000000    0.035955    0.003311 -0.001795 -0.008821 -0.037158   \n",
       "workingday  0.035955    1.000000    0.044672  0.055390  0.054667  0.015688   \n",
       "weathersit  0.003311    0.044672    1.000000 -0.102640 -0.105563  0.418130   \n",
       "temp       -0.001795    0.055390   -0.102640  1.000000  0.987672 -0.069881   \n",
       "atemp      -0.008821    0.054667   -0.105563  0.987672  1.000000 -0.051918   \n",
       "hum        -0.037158    0.015688    0.418130 -0.069881 -0.051918  1.000000   \n",
       "windspeed   0.011502   -0.011830    0.026226 -0.023125 -0.062336 -0.290105   \n",
       "casual      0.032721   -0.300942   -0.152628  0.459616  0.454080 -0.347028   \n",
       "registered  0.021578    0.134326   -0.120966  0.335361  0.332559 -0.273933   \n",
       "cnt         0.026900    0.030284   -0.142426  0.404772  0.400929 -0.322911   \n",
       "\n",
       "            windspeed    casual  registered       cnt  \n",
       "instant     -0.074505  0.158295    0.282046  0.278379  \n",
       "season      -0.149773  0.120206    0.174226  0.178056  \n",
       "yr          -0.008740  0.142779    0.253684  0.250495  \n",
       "mnth        -0.135386  0.068457    0.122273  0.120638  \n",
       "hr           0.137252  0.301202    0.374141  0.394071  \n",
       "holiday      0.003988  0.031564   -0.047345 -0.030927  \n",
       "weekday      0.011502  0.032721    0.021578  0.026900  \n",
       "workingday  -0.011830 -0.300942    0.134326  0.030284  \n",
       "weathersit   0.026226 -0.152628   -0.120966 -0.142426  \n",
       "temp        -0.023125  0.459616    0.335361  0.404772  \n",
       "atemp       -0.062336  0.454080    0.332559  0.400929  \n",
       "hum         -0.290105 -0.347028   -0.273933 -0.322911  \n",
       "windspeed    1.000000  0.090287    0.082321  0.093234  \n",
       "casual       0.090287  1.000000    0.506618  0.694564  \n",
       "registered   0.082321  0.506618    1.000000  0.972151  \n",
       "cnt          0.093234  0.694564    0.972151  1.000000  "
      ]
     },
     "execution_count": 3,
     "metadata": {},
     "output_type": "execute_result"
    }
   ],
   "source": [
    "bike_rentals.corr(method='pearson')"
   ]
  },
  {
   "cell_type": "markdown",
   "metadata": {},
   "source": [
    "It appears that the columns `casual` and `registered` are the most correlated with `cnt`. This makes sense since `cnt` is derived from them."
   ]
  },
  {
   "cell_type": "markdown",
   "metadata": {},
   "source": [
    "## 2. Calculating Features\n",
    "It is helpful to calculate features before applying machine learning models. Adding new features can enhance the accuracy of models by introducing new information or distilling existing information."
   ]
  },
  {
   "cell_type": "code",
   "execution_count": 4,
   "metadata": {},
   "outputs": [
    {
     "data": {
      "text/plain": [
       "array([ 0,  1,  2,  3,  4,  5,  6,  7,  8,  9, 10, 11, 12, 13, 14, 15, 16,\n",
       "       17, 18, 19, 20, 21, 22, 23])"
      ]
     },
     "execution_count": 4,
     "metadata": {},
     "output_type": "execute_result"
    }
   ],
   "source": [
    "bike_rentals['hr'].unique()"
   ]
  },
  {
   "cell_type": "markdown",
   "metadata": {},
   "source": [
    "The `hr` column in `bike_rentals` contains the hours during which bikes are rented, from 0 to 23. A machine treats each hour differently, without understanding that certain hours are related. We can introduce some order into the process by creating a new column with labels for morning, afternoon, evening, and night. This bundles similar times together, enabling the model to make better decisions."
   ]
  },
  {
   "cell_type": "code",
   "execution_count": 5,
   "metadata": {},
   "outputs": [],
   "source": [
    "def assign_label(hour):\n",
    "    if hour >= 0 and hour < 6:\n",
    "        return 4\n",
    "    if hour >= 6 and hour < 12:\n",
    "        return 1\n",
    "    if hour >= 12 and hour < 18:\n",
    "        return 2\n",
    "    if hour >= 18 and hour < 24:\n",
    "        return 3"
   ]
  },
  {
   "cell_type": "markdown",
   "metadata": {},
   "source": [
    "Use the apply method on series objects to apply the function to each item in the `hr` column. Assign the result to the `time_label` column of `bike_rentals`."
   ]
  },
  {
   "cell_type": "code",
   "execution_count": 6,
   "metadata": {},
   "outputs": [],
   "source": [
    "bike_rentals['time_label'] = bike_rentals['hr'].apply(assign_label)"
   ]
  },
  {
   "cell_type": "markdown",
   "metadata": {},
   "source": [
    "Quick check:"
   ]
  },
  {
   "cell_type": "code",
   "execution_count": 7,
   "metadata": {},
   "outputs": [
    {
     "data": {
      "text/plain": [
       "0     4\n",
       "1     4\n",
       "2     4\n",
       "3     4\n",
       "4     4\n",
       "5     4\n",
       "6     1\n",
       "7     1\n",
       "8     1\n",
       "9     1\n",
       "10    1\n",
       "11    1\n",
       "12    2\n",
       "13    2\n",
       "14    2\n",
       "15    2\n",
       "16    2\n",
       "17    2\n",
       "18    3\n",
       "19    3\n",
       "20    3\n",
       "21    3\n",
       "22    3\n",
       "23    3\n",
       "24    4\n",
       "25    4\n",
       "26    4\n",
       "27    4\n",
       "28    4\n",
       "29    1\n",
       "Name: time_label, dtype: int64"
      ]
     },
     "execution_count": 7,
     "metadata": {},
     "output_type": "execute_result"
    }
   ],
   "source": [
    "bike_rentals['time_label'].head(30)"
   ]
  },
  {
   "cell_type": "markdown",
   "metadata": {},
   "source": [
    "We observe that we have the four labels for morning, afternoon, evening, and night, as we desired."
   ]
  },
  {
   "cell_type": "markdown",
   "metadata": {},
   "source": [
    "## 3. Splitting the Data into Train and Test Sets\n",
    "Before applying any machine learning algorithm, we split the data into **train** and **test sets**. We will train the algorithm using the training set, and then evaluate its accuracy on the testing set.\n",
    "\n",
    "We also need to pick an **error metric** that we will use to evaluate the performance of the machine learning algorithms. For example, we might choose among the following error metrics:\n",
    "- mean squared error (MSE);\n",
    "- root mean squared error (RMSE);\n",
    "- mean absolute error (MAE);\n",
    "- area under the curve (AUC)."
   ]
  },
  {
   "cell_type": "code",
   "execution_count": 8,
   "metadata": {},
   "outputs": [],
   "source": [
    "from sklearn.metrics import mean_squared_error"
   ]
  },
  {
   "cell_type": "markdown",
   "metadata": {},
   "source": [
    "Using the sample method, we select 80% of the rows in `bike_rentals` to be part of the training set."
   ]
  },
  {
   "cell_type": "code",
   "execution_count": 9,
   "metadata": {},
   "outputs": [],
   "source": [
    "train = bike_rentals.sample(frac=0.80, replace=False, random_state=1)"
   ]
  },
  {
   "cell_type": "markdown",
   "metadata": {},
   "source": [
    "We select the rows that are in `bike_rentals` but not in `train` to be in the test set, and assign the result to `test`. To do this, we need to use the row indices in `bike_rentals` that are NOT the same as the indices in the `train` dataframe:"
   ]
  },
  {
   "cell_type": "code",
   "execution_count": 10,
   "metadata": {},
   "outputs": [],
   "source": [
    "test = bike_rentals.loc[~bike_rentals.index.isin(train.index)]"
   ]
  },
  {
   "cell_type": "markdown",
   "metadata": {},
   "source": [
    "## 4. Linear Regression\n",
    "Let's apply linear regression to the data. We create a list of predictor columns to use in training and predictions. We ignore the columns `cnt`, `casual`, `dteday`, and `registered`. Also, we ignore `instant` and `atemp`."
   ]
  },
  {
   "cell_type": "code",
   "execution_count": 11,
   "metadata": {},
   "outputs": [],
   "source": [
    "features = ['season', 'yr', 'mnth', 'hr', 'holiday', 'weekday', 'workingday', 'weathersit', 'temp', 'hum', 'windspeed']\n",
    "target = ['cnt']"
   ]
  },
  {
   "cell_type": "markdown",
   "metadata": {},
   "source": [
    "Use the `LinearRegression` class from `sklearn` to train a machine learning algorithm on `train`."
   ]
  },
  {
   "cell_type": "code",
   "execution_count": 12,
   "metadata": {},
   "outputs": [
    {
     "data": {
      "text/plain": [
       "LinearRegression(copy_X=True, fit_intercept=True, n_jobs=None, normalize=False)"
      ]
     },
     "execution_count": 12,
     "metadata": {},
     "output_type": "execute_result"
    }
   ],
   "source": [
    "from sklearn.linear_model import LinearRegression\n",
    "\n",
    "linear_model = LinearRegression()\n",
    "linear_model.fit(train[features], train[target])"
   ]
  },
  {
   "cell_type": "markdown",
   "metadata": {},
   "source": [
    "Make predictions for the `cnt` column of the `test` data."
   ]
  },
  {
   "cell_type": "code",
   "execution_count": 13,
   "metadata": {},
   "outputs": [],
   "source": [
    "predictions = linear_model.predict(test[features])"
   ]
  },
  {
   "cell_type": "markdown",
   "metadata": {},
   "source": [
    "Compute the error between the predictions and the `cnt` column of `test`.\n",
    "I choose to compute the Root Mean Squared Error (RMSE)."
   ]
  },
  {
   "cell_type": "code",
   "execution_count": 14,
   "metadata": {},
   "outputs": [
    {
     "name": "stdout",
     "output_type": "stream",
     "text": [
      "140.07\n"
     ]
    }
   ],
   "source": [
    "rmse = np.sqrt(mean_squared_error(test[target], predictions))\n",
    "\n",
    "# Visualize the RMSE\n",
    "print(\"{:0.2f}\".format(rmse))"
   ]
  },
  {
   "cell_type": "markdown",
   "metadata": {},
   "source": [
    "## 5. Decision Tree Algorithm\n",
    "Now we will apply the decision tree algorithm. Decision trees tend to predict outcomes much more reliably than linear regression models. Moreover, since a decision tree is a fairly complex model, it also tends to **overfit**, particularly when we don't tweak parameters like maximum depth and minimum number of samples per leaf. Decision trees are also prone to **instability**, i.e., small changes in the input data can result in a very different output model."
   ]
  },
  {
   "cell_type": "code",
   "execution_count": 15,
   "metadata": {},
   "outputs": [
    {
     "data": {
      "text/plain": [
       "DecisionTreeRegressor(ccp_alpha=0.0, criterion='mse', max_depth=16,\n",
       "                      max_features=None, max_leaf_nodes=None,\n",
       "                      min_impurity_decrease=0.0, min_impurity_split=None,\n",
       "                      min_samples_leaf=10, min_samples_split=2,\n",
       "                      min_weight_fraction_leaf=0.0, presort='deprecated',\n",
       "                      random_state=1, splitter='best')"
      ]
     },
     "execution_count": 15,
     "metadata": {},
     "output_type": "execute_result"
    }
   ],
   "source": [
    "from sklearn.tree import DecisionTreeRegressor\n",
    "from sklearn.metrics import roc_auc_score\n",
    "\n",
    "# Initialize the classifier\n",
    "clf = DecisionTreeRegressor(min_samples_leaf=10, max_depth=16, random_state=1)\n",
    "\n",
    "# Fit the classifier to the training data.\n",
    "clf.fit(train[features], train[target])"
   ]
  },
  {
   "cell_type": "markdown",
   "metadata": {},
   "source": [
    "The option `min_samples_leaf` in the `DecisionTreeRegressor` indicates the minimum number of samples required to be at a leaf node.\n",
    "A split point at any depth will only be considered if it leaves at least `min_samples_leaf` training samples in each of the left and right branches. This may have the effect of smoothing the model, especially in regression."
   ]
  },
  {
   "cell_type": "code",
   "execution_count": 16,
   "metadata": {},
   "outputs": [
    {
     "name": "stdout",
     "output_type": "stream",
     "text": [
      "43.37\n",
      "54.01\n",
      "10.65\n"
     ]
    }
   ],
   "source": [
    "# Make predictions on the training set, compute the RMSE, and assign it to train_rmse.\n",
    "train_predictions = clf.predict(train[features])\n",
    "train_rmse = np.sqrt(mean_squared_error(train[target], train_predictions))\n",
    "\n",
    "# Make predictions on the test set, compute the RMSE, and assign it to test_rmse.\n",
    "test_predictions = clf.predict(test[features])\n",
    "test_rmse = np.sqrt(mean_squared_error(test[target], test_predictions))\n",
    "\n",
    "# To check whether the Decision Tree is overfitting:\n",
    "print(\"{:0.2f}\".format(train_rmse))\n",
    "print(\"{:0.2f}\".format(test_rmse))\n",
    "print(\"{:0.2f}\".format(test_rmse-train_rmse))"
   ]
  },
  {
   "cell_type": "markdown",
   "metadata": {},
   "source": [
    "I experimented with various values of the parameters `min_samples_leaf` and `max_depth` to make `train_rmse` and `test_rmse` closer to each other."
   ]
  },
  {
   "cell_type": "markdown",
   "metadata": {},
   "source": [
    "## 6. Random Forests\n",
    "We can now try to apply the Random Forest algorithm, which improves on the decision tree algorithm. Due to the way random forests are constructed, they tend to overfit much less than decision trees."
   ]
  },
  {
   "cell_type": "code",
   "execution_count": 17,
   "metadata": {},
   "outputs": [
    {
     "name": "stdout",
     "output_type": "stream",
     "text": [
      "42.39\n",
      "50.76\n",
      "8.37\n"
     ]
    }
   ],
   "source": [
    "from sklearn.ensemble import RandomForestRegressor\n",
    "\n",
    "random_forest = RandomForestRegressor(n_estimators=50, min_samples_leaf=10, max_depth=20, random_state=1)\n",
    "\n",
    "# MS: Fit a random forest algorithm to the train data.\n",
    "random_forest.fit(train[features], train[target].values.ravel())\n",
    "\n",
    "# Make predictions on the training set, compute the RMSE, and assign it to train_rmse.\n",
    "train_predictions = random_forest.predict(train[features])\n",
    "train_rmse = np.sqrt(mean_squared_error(train[target], train_predictions))\n",
    "\n",
    "# Make predictions on the test set, compute the RMSE, and assign it to test_rmse.\n",
    "test_predictions = random_forest.predict(test[features])\n",
    "test_rmse = np.sqrt(mean_squared_error(test[target], test_predictions))\n",
    "\n",
    "# To check whether the Random Forest is overfitting:\n",
    "print(\"{:0.2f}\".format(train_rmse))\n",
    "print(\"{:0.2f}\".format(test_rmse))\n",
    "print(\"{:0.2f}\".format(test_rmse-train_rmse))"
   ]
  },
  {
   "cell_type": "markdown",
   "metadata": {},
   "source": [
    "It is still overfitting, but less than the decision tree model."
   ]
  }
 ],
 "metadata": {
  "kernelspec": {
   "display_name": "Python 3",
   "language": "python",
   "name": "python3"
  },
  "language_info": {
   "codemirror_mode": {
    "name": "ipython",
    "version": 3
   },
   "file_extension": ".py",
   "mimetype": "text/x-python",
   "name": "python",
   "nbconvert_exporter": "python",
   "pygments_lexer": "ipython3",
   "version": "3.7.6"
  }
 },
 "nbformat": 4,
 "nbformat_minor": 1
}

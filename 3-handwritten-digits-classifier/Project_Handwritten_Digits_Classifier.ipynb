{
 "cells": [
  {
   "cell_type": "markdown",
   "metadata": {},
   "source": [
    "# Building A Handwritten Digits Classifier\n",
    "## 1. Introduction"
   ]
  },
  {
   "cell_type": "markdown",
   "metadata": {},
   "source": [
    "In this project, we explore the effectiveness of deep, feedforward neural networks at classifying images, by building a few models that can classify handwritten digits.\n",
    "We work with the handwritten digits dataset from UCI, [http://archive.ics.uci.edu/ml/datasets/Optical+Recognition+of+Handwritten+Digits](http://archive.ics.uci.edu/ml/datasets/Optical+Recognition+of+Handwritten+Digits).\n",
    "\n",
    "In this project, we use a **Deep, Feedforward Neural Network**, even though, in practical applications, **Convolutional Neural Networks** are used for image classification.\n",
    "\n",
    "The purpose of this project is threefold:\n",
    "1. Explore image classification.\n",
    "2. Observe the limitations of traditional ML models for image classification.\n",
    "3. Train, test and improve a few different Deep Neural Networks (DNNs) for image classification."
   ]
  },
  {
   "cell_type": "markdown",
   "metadata": {},
   "source": [
    "## 2. Working with Image Data"
   ]
  },
  {
   "cell_type": "code",
   "execution_count": 1,
   "metadata": {},
   "outputs": [],
   "source": [
    "from sklearn.datasets import load_digits\n",
    "import pandas as pd\n",
    "import numpy as np\n",
    "import matplotlib.pyplot as plt\n",
    "%matplotlib inline"
   ]
  },
  {
   "cell_type": "markdown",
   "metadata": {},
   "source": [
    "The load_digits() function returns a copy of the hand-written digits dataset from UCI."
   ]
  },
  {
   "cell_type": "code",
   "execution_count": 2,
   "metadata": {},
   "outputs": [
    {
     "name": "stdout",
     "output_type": "stream",
     "text": [
      "(1797, 64)\n"
     ]
    }
   ],
   "source": [
    "digits = load_digits()\n",
    "print(digits.data.shape)"
   ]
  },
  {
   "cell_type": "code",
   "execution_count": 3,
   "metadata": {},
   "outputs": [],
   "source": [
    "data = digits['data']\n",
    "images = digits['images']\n",
    "target = digits['target']\n",
    "target_names = digits['target_names']"
   ]
  },
  {
   "cell_type": "markdown",
   "metadata": {},
   "source": [
    "Let's use matplotlib to visualize some of the images in the dataset."
   ]
  },
  {
   "cell_type": "code",
   "execution_count": 4,
   "metadata": {},
   "outputs": [
    {
     "data": {
      "image/png": "[encoded data removed]",
      "text/plain": [
       "<Figure size 432x288 with 8 Axes>"
      ]
     },
     "metadata": {
      "needs_background": "light"
     },
     "output_type": "display_data"
    }
   ],
   "source": [
    "fig, ax = plt.subplots(2, 4)\n",
    "\n",
    "first_row = [0, 100, 200, 300]\n",
    "second_row = [1000, 1100, 1200, 1300]\n",
    "\n",
    "i = 0\n",
    "for n in first_row:\n",
    "    ax[0,i].imshow(images[n], cmap='gray_r')\n",
    "    ax[0,i].set_title(target[n])\n",
    "    ax[0,i].axis('off')\n",
    "    i += 1\n",
    "\n",
    "i = 0\n",
    "for n in second_row:\n",
    "    ax[1,i].imshow(images[n], cmap='gray_r')\n",
    "    ax[1,i].set_title(target[n])\n",
    "    ax[1,i].axis('off')\n",
    "    i += 1\n",
    "\n",
    "plt.show() "
   ]
  },
  {
   "cell_type": "markdown",
   "metadata": {},
   "source": [
    "## 3. K-Nearest Neighbors Algorithm"
   ]
  },
  {
   "cell_type": "markdown",
   "metadata": {},
   "source": [
    "Linear and logistic regressions both assume linearity between the features and the labels. By contrast, the **k-nearest neighbors algorithm** does not make such an assumption, so it can be used to capture nonlinearity in the data.\n",
    "We use the k-nearest neighbors algorithm to compare every new observation in the test set to every observation in the training set to look for similar (i.e., the nearest) observations. Then, the algorithm finds the label with the most nearby observations and assigns that label as the prediction for the test data.\n",
    "\n",
    "Since we are performing classification, we will use the accuracy classification score `accuracy_score` that we can find in `sklearn.metrics`."
   ]
  },
  {
   "cell_type": "code",
   "execution_count": 5,
   "metadata": {},
   "outputs": [],
   "source": [
    "from sklearn.neighbors import KNeighborsClassifier\n",
    "from sklearn.metrics import accuracy_score\n",
    "from sklearn.model_selection import cross_val_score, KFold"
   ]
  },
  {
   "cell_type": "markdown",
   "metadata": {},
   "source": [
    "We prepare the data by converting the image pixel data `data` into a pandas `DataFrame`, and the numpy array `target` containing the labels into a `Series`. Then we shuffle both the dataframe and the series."
   ]
  },
  {
   "cell_type": "code",
   "execution_count": 6,
   "metadata": {},
   "outputs": [],
   "source": [
    "df = pd.DataFrame(data)\n",
    "target_labels = pd.Series(target)\n",
    "\n",
    "# Fix a random seed for reproducibility:\n",
    "np.random.seed(1)\n",
    "shuffled_index = np.random.permutation(df.index)\n",
    "df = df.loc[shuffled_index]\n",
    "target_labels = target_labels[shuffled_index]"
   ]
  },
  {
   "cell_type": "markdown",
   "metadata": {},
   "source": [
    "We split the data set into two partitions:\n",
    "- the training set containing the majority of the rows (75%);\n",
    "- the test set containing the remaining rows (25%)."
   ]
  },
  {
   "cell_type": "code",
   "execution_count": 7,
   "metadata": {},
   "outputs": [],
   "source": [
    "nb_rows = len(df)\n",
    "threshold = round(nb_rows * .75)\n",
    "\n",
    "train_df = df.iloc[0:threshold].copy()\n",
    "test_df = df.iloc[threshold:].copy()\n",
    "train_labels = target_labels[0:threshold]\n",
    "test_labels = target_labels[threshold:]"
   ]
  },
  {
   "cell_type": "markdown",
   "metadata": {},
   "source": [
    "We create a function `knn_train_test` that encapsulates the training and validation process, and returns an accuracy score."
   ]
  },
  {
   "cell_type": "code",
   "execution_count": 8,
   "metadata": {},
   "outputs": [],
   "source": [
    "def knn_train_test(train_df, train_labels, test_df, test_labels, k=5):\n",
    "    # MS: Create an instance of the KNeighborsClassifier class\n",
    "    # The default number of neighbors nb_neighbors is set to 5\n",
    "    knn = KNeighborsClassifier(n_neighbors=k)\n",
    "    \n",
    "    # MS: Fit the model on the training set\n",
    "    knn.fit(train_df, train_labels)\n",
    "    \n",
    "    # MS: Make predictions on the target labels test_labels\n",
    "    # to predict the digits for the images in test_df\n",
    "    test_predictions = knn.predict(test_df)\n",
    "    \n",
    "    # MS: Calculate the accuracy classification score and return that value\n",
    "    # MS: The true labels are in the test_labels series\n",
    "    acs = accuracy_score(test_labels, test_predictions)\n",
    "    \n",
    "    return acs"
   ]
  },
  {
   "cell_type": "markdown",
   "metadata": {},
   "source": [
    "We create, train, and test a univariate model using the `k` values from 1 to 20, and visualize the results using a line plot."
   ]
  },
  {
   "cell_type": "code",
   "execution_count": 9,
   "metadata": {},
   "outputs": [
    {
     "data": {
      "image/png": "[encoded data removed]",
      "text/plain": [
       "<Figure size 432x288 with 1 Axes>"
      ]
     },
     "metadata": {
      "needs_background": "light"
     },
     "output_type": "display_data"
    },
    {
     "name": "stdout",
     "output_type": "stream",
     "text": [
      "['0.9777', '0.9755', '0.9844', '0.9822', '0.9822', '0.9755', '0.9800', '0.9800', '0.9755', '0.9755', '0.9733', '0.9733', '0.9710', '0.9710', '0.9710', '0.9688', '0.9688', '0.9688', '0.9688', '0.9688']\n",
      "Best accuracy score: 0.9844\n"
     ]
    }
   ],
   "source": [
    "k_values_array = list(range(1,21))\n",
    "acs_array = []\n",
    "for k_value in k_values_array:\n",
    "    acs = knn_train_test(train_df, train_labels, test_df, test_labels, k=k_value)\n",
    "    acs_array.append(acs)\n",
    "\n",
    "plt.plot(k_values_array, acs_array, color='#7A4988')\n",
    "plt.title('Accuracy score vs k value')\n",
    "plt.xlabel('k value')\n",
    "plt.ylabel('Accuracy score')\n",
    "plt.show()\n",
    "\n",
    "# Print the formatted list of accuracy scores, and the best accuracy score.\n",
    "print(list(map(lambda x: \"{:.4f}\".format(x), acs_array)))\n",
    "print(\"Best accuracy score:\", \"{:.4f}\".format(np.max(acs_array)))"
   ]
  },
  {
   "cell_type": "markdown",
   "metadata": {},
   "source": [
    "We observe that the best `k` value is 3, which corresponds to an accuracy score of 98.44%.\n",
    "\n",
    "Now let's perform 4-fold cross validation, and experiment with different values for `k` and plot the resulting classification accuracies."
   ]
  },
  {
   "cell_type": "code",
   "execution_count": 10,
   "metadata": {},
   "outputs": [
    {
     "data": {
      "image/png": "[encoded data removed]",
      "text/plain": [
       "<Figure size 432x288 with 1 Axes>"
      ]
     },
     "metadata": {
      "needs_background": "light"
     },
     "output_type": "display_data"
    },
    {
     "name": "stdout",
     "output_type": "stream",
     "text": [
      "['0.9878', '0.9866', '0.9866', '0.9850', '0.9861', '0.9844', '0.9828', '0.9828', '0.9839', '0.9816', '0.9822', '0.9772', '0.9772', '0.9761', '0.9738', '0.9744', '0.9733', '0.9716', '0.9705', '0.9700']\n",
      "Best accuracy score: 0.9878\n"
     ]
    }
   ],
   "source": [
    "# Perform 4-fold cross validation:\n",
    "kf = KFold(n_splits=4, shuffle=True, random_state=1)\n",
    "\n",
    "# Experiment with different values of k.\n",
    "k_values_list = list(range(1,21))\n",
    "avg_acs_list = []\n",
    "\n",
    "for k_value in k_values_list:\n",
    "    knn = KNeighborsClassifier(n_neighbors=k_value)\n",
    "    # MS: Use the cross_val_score() function to perform k-fold cross-validation:\n",
    "    # cv describes the number of folds (e.g., an instance of the KFold class)\n",
    "    # scoring set to \"accuracy\" corresponds to the metrics.accuracy_score\n",
    "    # (acs = accuracy classification score)\n",
    "    acs = cross_val_score(knn, df, target_labels, scoring=\"accuracy\", cv=kf)\n",
    "    avg_acs = np.mean(acs)\n",
    "    avg_acs_list.append(avg_acs)\n",
    "\n",
    "# Plot the resulting classification accuracies.\n",
    "plt.plot(k_values_list, avg_acs_list, color='#990F02')\n",
    "plt.title('Avg accuracy score vs k value')\n",
    "plt.xlabel('k value')\n",
    "plt.ylabel('Avg accuracy score')\n",
    "plt.show()\n",
    "\n",
    "# Print the formatted list of average accuracy scores, and the best accuracy score.\n",
    "print(list(map(lambda x: \"{:.4f}\".format(x), avg_acs_list)))\n",
    "print(\"Best accuracy score:\", \"{:.4f}\".format(np.max(avg_acs_list)))"
   ]
  },
  {
   "cell_type": "markdown",
   "metadata": {},
   "source": [
    "It is evident that the best `k` value is 1, which corresponds to an average accuracy score of 98.78%.\n",
    "\n",
    "There are some **drawbacks** in using the k-nearest neighbors algorithm:\n",
    "- the memory usage is high, since for every new observation, we need to perform comparisons to the available observations;\n",
    "- there is no model representation that we can be explored or used for debugging.\n",
    "\n",
    "For these reasons, we are going to try a neural network with a single hidden layer, using the `MLPClassifier` class from scikit-learn."
   ]
  },
  {
   "cell_type": "markdown",
   "metadata": {},
   "source": [
    "## 4. Neural Network with Single Hidden Layer"
   ]
  },
  {
   "cell_type": "markdown",
   "metadata": {},
   "source": [
    "We use 4-fold cross validation on a neural network with a single hidden layer, in which we are going to increase the number of neurons from 8 to 256. NB: It will take some time to run!"
   ]
  },
  {
   "cell_type": "code",
   "execution_count": 11,
   "metadata": {},
   "outputs": [
    {
     "name": "stdout",
     "output_type": "stream",
     "text": [
      "(8,)\n"
     ]
    },
    {
     "name": "stderr",
     "output_type": "stream",
     "text": [
      "/home/marco/anaconda3/lib/python3.7/site-packages/sklearn/neural_network/_multilayer_perceptron.py:571: ConvergenceWarning: Stochastic Optimizer: Maximum iterations (200) reached and the optimization hasn't converged yet.\n",
      "  % self.max_iter, ConvergenceWarning)\n",
      "/home/marco/anaconda3/lib/python3.7/site-packages/sklearn/neural_network/_multilayer_perceptron.py:571: ConvergenceWarning: Stochastic Optimizer: Maximum iterations (200) reached and the optimization hasn't converged yet.\n",
      "  % self.max_iter, ConvergenceWarning)\n",
      "/home/marco/anaconda3/lib/python3.7/site-packages/sklearn/neural_network/_multilayer_perceptron.py:571: ConvergenceWarning: Stochastic Optimizer: Maximum iterations (200) reached and the optimization hasn't converged yet.\n",
      "  % self.max_iter, ConvergenceWarning)\n",
      "/home/marco/anaconda3/lib/python3.7/site-packages/sklearn/neural_network/_multilayer_perceptron.py:571: ConvergenceWarning: Stochastic Optimizer: Maximum iterations (200) reached and the optimization hasn't converged yet.\n",
      "  % self.max_iter, ConvergenceWarning)\n"
     ]
    },
    {
     "name": "stdout",
     "output_type": "stream",
     "text": [
      "(16,)\n"
     ]
    },
    {
     "name": "stderr",
     "output_type": "stream",
     "text": [
      "/home/marco/anaconda3/lib/python3.7/site-packages/sklearn/neural_network/_multilayer_perceptron.py:571: ConvergenceWarning: Stochastic Optimizer: Maximum iterations (200) reached and the optimization hasn't converged yet.\n",
      "  % self.max_iter, ConvergenceWarning)\n",
      "/home/marco/anaconda3/lib/python3.7/site-packages/sklearn/neural_network/_multilayer_perceptron.py:571: ConvergenceWarning: Stochastic Optimizer: Maximum iterations (200) reached and the optimization hasn't converged yet.\n",
      "  % self.max_iter, ConvergenceWarning)\n",
      "/home/marco/anaconda3/lib/python3.7/site-packages/sklearn/neural_network/_multilayer_perceptron.py:571: ConvergenceWarning: Stochastic Optimizer: Maximum iterations (200) reached and the optimization hasn't converged yet.\n",
      "  % self.max_iter, ConvergenceWarning)\n",
      "/home/marco/anaconda3/lib/python3.7/site-packages/sklearn/neural_network/_multilayer_perceptron.py:571: ConvergenceWarning: Stochastic Optimizer: Maximum iterations (200) reached and the optimization hasn't converged yet.\n",
      "  % self.max_iter, ConvergenceWarning)\n"
     ]
    },
    {
     "name": "stdout",
     "output_type": "stream",
     "text": [
      "(32,)\n"
     ]
    },
    {
     "name": "stderr",
     "output_type": "stream",
     "text": [
      "/home/marco/anaconda3/lib/python3.7/site-packages/sklearn/neural_network/_multilayer_perceptron.py:571: ConvergenceWarning: Stochastic Optimizer: Maximum iterations (200) reached and the optimization hasn't converged yet.\n",
      "  % self.max_iter, ConvergenceWarning)\n",
      "/home/marco/anaconda3/lib/python3.7/site-packages/sklearn/neural_network/_multilayer_perceptron.py:571: ConvergenceWarning: Stochastic Optimizer: Maximum iterations (200) reached and the optimization hasn't converged yet.\n",
      "  % self.max_iter, ConvergenceWarning)\n",
      "/home/marco/anaconda3/lib/python3.7/site-packages/sklearn/neural_network/_multilayer_perceptron.py:571: ConvergenceWarning: Stochastic Optimizer: Maximum iterations (200) reached and the optimization hasn't converged yet.\n",
      "  % self.max_iter, ConvergenceWarning)\n",
      "/home/marco/anaconda3/lib/python3.7/site-packages/sklearn/neural_network/_multilayer_perceptron.py:571: ConvergenceWarning: Stochastic Optimizer: Maximum iterations (200) reached and the optimization hasn't converged yet.\n",
      "  % self.max_iter, ConvergenceWarning)\n"
     ]
    },
    {
     "name": "stdout",
     "output_type": "stream",
     "text": [
      "(64,)\n",
      "(128,)\n",
      "(256,)\n"
     ]
    }
   ],
   "source": [
    "from sklearn.neural_network import MLPClassifier\n",
    "\n",
    "def get_mlp_avg_acs_list(hidden_layer_neurons, kf):\n",
    "    mlp_avg_acs_list = []\n",
    "    for n in hidden_layer_neurons:\n",
    "        print(n)\n",
    "        mlp = MLPClassifier(hidden_layer_sizes=n, max_iter=200)\n",
    "        acs = cross_val_score(mlp, df, target_labels, scoring=\"accuracy\", cv=kf)\n",
    "        mlp_avg_acs = np.mean(acs)\n",
    "        mlp_avg_acs_list.append(mlp_avg_acs)\n",
    "    return mlp_avg_acs_list\n",
    "\n",
    "one_hl_neurons = [(8,), (16,), (32,), (64,), (128,), (256,)]\n",
    "\n",
    "mlp_avg_acs_list = get_mlp_avg_acs_list(one_hl_neurons, kf)\n",
    "x = [i[0] for i in one_hl_neurons]"
   ]
  },
  {
   "cell_type": "code",
   "execution_count": 12,
   "metadata": {},
   "outputs": [
    {
     "data": {
      "image/png": "[encoded data removed]",
      "text/plain": [
       "<Figure size 432x288 with 1 Axes>"
      ]
     },
     "metadata": {
      "needs_background": "light"
     },
     "output_type": "display_data"
    },
    {
     "name": "stdout",
     "output_type": "stream",
     "text": [
      "['0.9266', '0.9482', '0.9722', '0.9683', '0.9772', '0.9811']\n",
      "Best accuracy score: 0.9811\n"
     ]
    }
   ],
   "source": [
    "# Plot the resulting classification accuracies.\n",
    "plt.plot(x, mlp_avg_acs_list, color='#59788E')\n",
    "plt.title('Avg accuracy score vs number of neurons')\n",
    "plt.xlabel('number of neurons in single hidden layer')\n",
    "plt.ylabel('Avg accuracy score')\n",
    "plt.show()\n",
    "\n",
    "# Print the formatted list of average accuracy scores, and the best accuracy score.\n",
    "print(list(map(lambda x: \"{:.4f}\".format(x), mlp_avg_acs_list)))\n",
    "print(\"Best accuracy score:\", \"{:.4f}\".format(np.max(mlp_avg_acs_list)))"
   ]
  },
  {
   "cell_type": "markdown",
   "metadata": {},
   "source": [
    "We get an average accuracy score of 98.11% for a neural network using a single hidden layer of 256 neurons. If we compare with the k-nearest neighbors algorithm above, which had an accuracy score of 98.78%, we still have room for improving our model.\n",
    "\n",
    "It is evident that adding more neurons to a single hidden layer greatly improves the classification accuracy. \n",
    "\n",
    "In general, adding hidden layers of neurons to a neural network improves its ability to capture nonlinearity in the data. So, let's try using two hidden layers in the following.\n",
    "\n",
    "We create a function that performs simple train/test validation, and computes both the accuracy scores on the test set (which is usually the case) and the train set (the so-called **in-sample score**). Comparing the test and the train score might allow us to detect **overfitting**."
   ]
  },
  {
   "cell_type": "code",
   "execution_count": 13,
   "metadata": {},
   "outputs": [],
   "source": [
    "def train_and_test(df, target_labels, n):\n",
    "    # Perform train/test validation and calculate both\n",
    "    # the accuracy score on the test and on the train set\n",
    "    # in order to detect overfitting.\n",
    "    # The inputs are the entire dataframe df and the target_labels\n",
    "    \n",
    "    # MS: Create an instance of the MLPClassifier class\n",
    "    mlp = MLPClassifier(hidden_layer_sizes=n)\n",
    "\n",
    "    # We shuffle the ordering of the rows in the dataframe.\n",
    "    np.random.seed(1)\n",
    "    shuffled_index = np.random.permutation(df.index)\n",
    "    df = df.loc[shuffled_index]\n",
    "    target_labels = target_labels[shuffled_index]\n",
    "\n",
    "    # Split the data into training and test sets.\n",
    "    nb_rows = len(df)\n",
    "    threshold = round(nb_rows * .5)\n",
    "    \n",
    "    train_df = df.iloc[0:threshold].copy()\n",
    "    train_labels = target_labels[0:threshold]\n",
    "    test_df = df.iloc[threshold:].copy()    \n",
    "    test_labels = target_labels[threshold:]\n",
    "            \n",
    "    # MS: Fit the model on the training set.\n",
    "    mlp.fit(train_df, train_labels)\n",
    "    \n",
    "    # Make predictions on the training set (in-sample score).\n",
    "    train_predictions = mlp.predict(train_df)\n",
    "    train_acs = accuracy_score(train_labels, train_predictions)\n",
    "    \n",
    "    # Make predictions on the test set.\n",
    "    test_predictions = mlp.predict(test_df)\n",
    "    test_acs = accuracy_score(test_labels, test_predictions)\n",
    "                                   \n",
    "    # Print the two scores\n",
    "    print(\"Neurons: {}, ACS test: {:.4f}, ACS train: {:.4f}\".format(n[0], test_acs, train_acs))\n",
    "    \n",
    "    return test_acs, train_acs"
   ]
  },
  {
   "cell_type": "markdown",
   "metadata": {},
   "source": [
    "We create another helper function to apply the `train_and_test` function above for an increasing number of neurons in the single layer network."
   ]
  },
  {
   "cell_type": "code",
   "execution_count": 14,
   "metadata": {},
   "outputs": [
    {
     "name": "stderr",
     "output_type": "stream",
     "text": [
      "/home/marco/anaconda3/lib/python3.7/site-packages/sklearn/neural_network/_multilayer_perceptron.py:571: ConvergenceWarning: Stochastic Optimizer: Maximum iterations (200) reached and the optimization hasn't converged yet.\n",
      "  % self.max_iter, ConvergenceWarning)\n"
     ]
    },
    {
     "name": "stdout",
     "output_type": "stream",
     "text": [
      "Neurons: 8, ACS test: 0.8932, ACS train: 0.9354\n"
     ]
    },
    {
     "name": "stderr",
     "output_type": "stream",
     "text": [
      "/home/marco/anaconda3/lib/python3.7/site-packages/sklearn/neural_network/_multilayer_perceptron.py:571: ConvergenceWarning: Stochastic Optimizer: Maximum iterations (200) reached and the optimization hasn't converged yet.\n",
      "  % self.max_iter, ConvergenceWarning)\n"
     ]
    },
    {
     "name": "stdout",
     "output_type": "stream",
     "text": [
      "Neurons: 16, ACS test: 0.9522, ACS train: 0.9978\n"
     ]
    },
    {
     "name": "stderr",
     "output_type": "stream",
     "text": [
      "/home/marco/anaconda3/lib/python3.7/site-packages/sklearn/neural_network/_multilayer_perceptron.py:571: ConvergenceWarning: Stochastic Optimizer: Maximum iterations (200) reached and the optimization hasn't converged yet.\n",
      "  % self.max_iter, ConvergenceWarning)\n"
     ]
    },
    {
     "name": "stdout",
     "output_type": "stream",
     "text": [
      "Neurons: 32, ACS test: 0.9488, ACS train: 0.9989\n",
      "Neurons: 64, ACS test: 0.9633, ACS train: 1.0000\n",
      "Neurons: 128, ACS test: 0.9755, ACS train: 1.0000\n",
      "Neurons: 256, ACS test: 0.9778, ACS train: 1.0000\n"
     ]
    },
    {
     "data": {
      "image/png": "[encoded data removed]",
      "text/plain": [
       "<Figure size 432x288 with 1 Axes>"
      ]
     },
     "metadata": {
      "needs_background": "light"
     },
     "output_type": "display_data"
    }
   ],
   "source": [
    "def get_train_and_test_acs_list(hidden_layer_neurons):\n",
    "    test_acs_list = []\n",
    "    train_acs_list = []\n",
    "    for n in hidden_layer_neurons:\n",
    "        mlp = MLPClassifier(hidden_layer_sizes=n, max_iter=200)\n",
    "        test_acs, train_acs = train_and_test(df, target_labels, n)\n",
    "        test_acs_list.append(test_acs)\n",
    "        train_acs_list.append(train_acs)\n",
    "    return test_acs_list, train_acs_list\n",
    "\n",
    "test_acs_list, train_acs_list = get_train_and_test_acs_list(one_hl_neurons)\n",
    "x = [i[0] for i in one_hl_neurons]\n",
    "\n",
    "# Plot the resulting classification accuracies.\n",
    "plt.plot(x, test_acs_list, color='#59788E', label='ACS test')\n",
    "plt.plot(x, train_acs_list, color='#028A0F', label='ACS train')\n",
    "plt.legend()\n",
    "plt.title('Accuracy score vs number of neurons')\n",
    "plt.xlabel('number of neurons in single hidden layer')\n",
    "plt.ylabel('Accuracy score')\n",
    "plt.show()"
   ]
  },
  {
   "cell_type": "markdown",
   "metadata": {},
   "source": [
    "If the train score is much higher than the test score, then we are probably overfitting. It appears that the gap between the test score and the train score decreases when we increase the number of neurons in the single hidden layer. Let's explore how introducing a second hidden layer affects the results of the model."
   ]
  },
  {
   "cell_type": "markdown",
   "metadata": {},
   "source": [
    "## 5. Neural Network with Two Hidden Layers"
   ]
  },
  {
   "cell_type": "markdown",
   "metadata": {},
   "source": [
    "We modify the above piece of code to perform a 4-fold cross validation, and train a neural network model with two hidden layers:\n",
    "- `n` neurons in the first hidden layer;\n",
    "- `n` neurons in the second hidden layer;\n",
    "\n",
    "where `n` goes from 8 to 256."
   ]
  },
  {
   "cell_type": "code",
   "execution_count": 15,
   "metadata": {},
   "outputs": [
    {
     "name": "stdout",
     "output_type": "stream",
     "text": [
      "(8, 8)\n"
     ]
    },
    {
     "name": "stderr",
     "output_type": "stream",
     "text": [
      "/home/marco/anaconda3/lib/python3.7/site-packages/sklearn/neural_network/_multilayer_perceptron.py:571: ConvergenceWarning: Stochastic Optimizer: Maximum iterations (200) reached and the optimization hasn't converged yet.\n",
      "  % self.max_iter, ConvergenceWarning)\n",
      "/home/marco/anaconda3/lib/python3.7/site-packages/sklearn/neural_network/_multilayer_perceptron.py:571: ConvergenceWarning: Stochastic Optimizer: Maximum iterations (200) reached and the optimization hasn't converged yet.\n",
      "  % self.max_iter, ConvergenceWarning)\n",
      "/home/marco/anaconda3/lib/python3.7/site-packages/sklearn/neural_network/_multilayer_perceptron.py:571: ConvergenceWarning: Stochastic Optimizer: Maximum iterations (200) reached and the optimization hasn't converged yet.\n",
      "  % self.max_iter, ConvergenceWarning)\n",
      "/home/marco/anaconda3/lib/python3.7/site-packages/sklearn/neural_network/_multilayer_perceptron.py:571: ConvergenceWarning: Stochastic Optimizer: Maximum iterations (200) reached and the optimization hasn't converged yet.\n",
      "  % self.max_iter, ConvergenceWarning)\n"
     ]
    },
    {
     "name": "stdout",
     "output_type": "stream",
     "text": [
      "(16, 16)\n"
     ]
    },
    {
     "name": "stderr",
     "output_type": "stream",
     "text": [
      "/home/marco/anaconda3/lib/python3.7/site-packages/sklearn/neural_network/_multilayer_perceptron.py:571: ConvergenceWarning: Stochastic Optimizer: Maximum iterations (200) reached and the optimization hasn't converged yet.\n",
      "  % self.max_iter, ConvergenceWarning)\n",
      "/home/marco/anaconda3/lib/python3.7/site-packages/sklearn/neural_network/_multilayer_perceptron.py:571: ConvergenceWarning: Stochastic Optimizer: Maximum iterations (200) reached and the optimization hasn't converged yet.\n",
      "  % self.max_iter, ConvergenceWarning)\n",
      "/home/marco/anaconda3/lib/python3.7/site-packages/sklearn/neural_network/_multilayer_perceptron.py:571: ConvergenceWarning: Stochastic Optimizer: Maximum iterations (200) reached and the optimization hasn't converged yet.\n",
      "  % self.max_iter, ConvergenceWarning)\n",
      "/home/marco/anaconda3/lib/python3.7/site-packages/sklearn/neural_network/_multilayer_perceptron.py:571: ConvergenceWarning: Stochastic Optimizer: Maximum iterations (200) reached and the optimization hasn't converged yet.\n",
      "  % self.max_iter, ConvergenceWarning)\n"
     ]
    },
    {
     "name": "stdout",
     "output_type": "stream",
     "text": [
      "(32, 32)\n",
      "(64, 64)\n",
      "(128, 128)\n",
      "(256, 256)\n"
     ]
    }
   ],
   "source": [
    "two_hl_neurons = [(8,8), (16,16), (32,32), (64,64), (128,128), (256,256)]\n",
    "\n",
    "two_hl_avg_acs_list = get_mlp_avg_acs_list(two_hl_neurons, kf)\n",
    "x = [i[0] for i in two_hl_neurons]"
   ]
  },
  {
   "cell_type": "code",
   "execution_count": 16,
   "metadata": {},
   "outputs": [
    {
     "data": {
      "image/png": "[encoded data removed]",
      "text/plain": [
       "<Figure size 432x288 with 1 Axes>"
      ]
     },
     "metadata": {
      "needs_background": "light"
     },
     "output_type": "display_data"
    },
    {
     "name": "stdout",
     "output_type": "stream",
     "text": [
      "['0.9104', '0.9510', '0.9627', '0.9755', '0.9766', '0.9833']\n",
      "Best accuracy score: 0.9833\n"
     ]
    }
   ],
   "source": [
    "# Plot the resulting classification accuracies.\n",
    "plt.plot(x, two_hl_avg_acs_list, color='#028A0F')\n",
    "plt.title('Avg accuracy score vs number of neurons in two hidden layers')\n",
    "plt.xlabel('number of neurons in two hidden layers')\n",
    "plt.ylabel('Avg accuracy score')\n",
    "plt.show()\n",
    "\n",
    "# Print the formatted list of average accuracy scores, and the best accuracy score.\n",
    "print(list(map(lambda x: \"{:.4f}\".format(x), two_hl_avg_acs_list)))\n",
    "print(\"Best accuracy score:\", \"{:.4f}\".format(np.max(two_hl_avg_acs_list)))"
   ]
  },
  {
   "cell_type": "markdown",
   "metadata": {},
   "source": [
    "In order to detect overfitting, we can still perform a simple train/test validation and compute the accuracy scores for both the test and the train sets. As before, if the train score is much higher than the test score, then the model is probably overfitting the data."
   ]
  },
  {
   "cell_type": "code",
   "execution_count": 17,
   "metadata": {},
   "outputs": [
    {
     "name": "stderr",
     "output_type": "stream",
     "text": [
      "/home/marco/anaconda3/lib/python3.7/site-packages/sklearn/neural_network/_multilayer_perceptron.py:571: ConvergenceWarning: Stochastic Optimizer: Maximum iterations (200) reached and the optimization hasn't converged yet.\n",
      "  % self.max_iter, ConvergenceWarning)\n"
     ]
    },
    {
     "name": "stdout",
     "output_type": "stream",
     "text": [
      "Neurons: 8, ACS test: 0.7419, ACS train: 0.7806\n"
     ]
    },
    {
     "name": "stderr",
     "output_type": "stream",
     "text": [
      "/home/marco/anaconda3/lib/python3.7/site-packages/sklearn/neural_network/_multilayer_perceptron.py:571: ConvergenceWarning: Stochastic Optimizer: Maximum iterations (200) reached and the optimization hasn't converged yet.\n",
      "  % self.max_iter, ConvergenceWarning)\n"
     ]
    },
    {
     "name": "stdout",
     "output_type": "stream",
     "text": [
      "Neurons: 16, ACS test: 0.9455, ACS train: 0.9989\n"
     ]
    },
    {
     "name": "stderr",
     "output_type": "stream",
     "text": [
      "/home/marco/anaconda3/lib/python3.7/site-packages/sklearn/neural_network/_multilayer_perceptron.py:571: ConvergenceWarning: Stochastic Optimizer: Maximum iterations (200) reached and the optimization hasn't converged yet.\n",
      "  % self.max_iter, ConvergenceWarning)\n"
     ]
    },
    {
     "name": "stdout",
     "output_type": "stream",
     "text": [
      "Neurons: 32, ACS test: 0.9566, ACS train: 1.0000\n",
      "Neurons: 64, ACS test: 0.9766, ACS train: 1.0000\n",
      "Neurons: 128, ACS test: 0.9733, ACS train: 1.0000\n",
      "Neurons: 256, ACS test: 0.9811, ACS train: 1.0000\n"
     ]
    },
    {
     "data": {
      "image/png": "[encoded data removed]",
      "text/plain": [
       "<Figure size 432x288 with 1 Axes>"
      ]
     },
     "metadata": {
      "needs_background": "light"
     },
     "output_type": "display_data"
    }
   ],
   "source": [
    "test_acs_list, train_acs_list = get_train_and_test_acs_list(two_hl_neurons)\n",
    "x = [i[0] for i in two_hl_neurons]\n",
    "\n",
    "# Plot the resulting classification accuracies.\n",
    "plt.plot(x, test_acs_list, color='#59788E', label='ACS test')\n",
    "plt.plot(x, train_acs_list, color='#028A0F', label='ACS train')\n",
    "plt.legend()\n",
    "plt.title('Accuracy score vs number of neurons')\n",
    "plt.xlabel('number of neurons in two hidden layers')\n",
    "plt.ylabel('Accuracy score')\n",
    "plt.show()"
   ]
  },
  {
   "cell_type": "markdown",
   "metadata": {},
   "source": [
    "It seems that introducing a second hidden layer helped to decrease the gap between the test score and the train score (i.e., it helped to reduce overfitting). Let's try to see if the model can benefit from introducing a third hidden layer."
   ]
  },
  {
   "cell_type": "markdown",
   "metadata": {},
   "source": [
    "## 6. Neural Network with Three Hidden Layers\n",
    "It is known that the amount of overfitting increases when we use more hidden layers. To help us prevent overfitting, let's increase the number of folds we use for k-fold cross validation to 6 while testing networks with 3 hidden layers.\n",
    "\n",
    "We train a neural network model using 3 hidden layers with:\n",
    "- `n` neurons in the first hidden layer;\n",
    "- `n` neurons in the second hidden layer;\n",
    "- `n` neurons in the third hidden layer;\n",
    "\n",
    "where `n` goes from 8 to 256."
   ]
  },
  {
   "cell_type": "code",
   "execution_count": 18,
   "metadata": {},
   "outputs": [
    {
     "name": "stdout",
     "output_type": "stream",
     "text": [
      "(8, 8, 8)\n"
     ]
    },
    {
     "name": "stderr",
     "output_type": "stream",
     "text": [
      "/home/marco/anaconda3/lib/python3.7/site-packages/sklearn/neural_network/_multilayer_perceptron.py:571: ConvergenceWarning: Stochastic Optimizer: Maximum iterations (200) reached and the optimization hasn't converged yet.\n",
      "  % self.max_iter, ConvergenceWarning)\n",
      "/home/marco/anaconda3/lib/python3.7/site-packages/sklearn/neural_network/_multilayer_perceptron.py:571: ConvergenceWarning: Stochastic Optimizer: Maximum iterations (200) reached and the optimization hasn't converged yet.\n",
      "  % self.max_iter, ConvergenceWarning)\n",
      "/home/marco/anaconda3/lib/python3.7/site-packages/sklearn/neural_network/_multilayer_perceptron.py:571: ConvergenceWarning: Stochastic Optimizer: Maximum iterations (200) reached and the optimization hasn't converged yet.\n",
      "  % self.max_iter, ConvergenceWarning)\n",
      "/home/marco/anaconda3/lib/python3.7/site-packages/sklearn/neural_network/_multilayer_perceptron.py:571: ConvergenceWarning: Stochastic Optimizer: Maximum iterations (200) reached and the optimization hasn't converged yet.\n",
      "  % self.max_iter, ConvergenceWarning)\n",
      "/home/marco/anaconda3/lib/python3.7/site-packages/sklearn/neural_network/_multilayer_perceptron.py:571: ConvergenceWarning: Stochastic Optimizer: Maximum iterations (200) reached and the optimization hasn't converged yet.\n",
      "  % self.max_iter, ConvergenceWarning)\n",
      "/home/marco/anaconda3/lib/python3.7/site-packages/sklearn/neural_network/_multilayer_perceptron.py:571: ConvergenceWarning: Stochastic Optimizer: Maximum iterations (200) reached and the optimization hasn't converged yet.\n",
      "  % self.max_iter, ConvergenceWarning)\n"
     ]
    },
    {
     "name": "stdout",
     "output_type": "stream",
     "text": [
      "(16, 16, 16)\n"
     ]
    },
    {
     "name": "stderr",
     "output_type": "stream",
     "text": [
      "/home/marco/anaconda3/lib/python3.7/site-packages/sklearn/neural_network/_multilayer_perceptron.py:571: ConvergenceWarning: Stochastic Optimizer: Maximum iterations (200) reached and the optimization hasn't converged yet.\n",
      "  % self.max_iter, ConvergenceWarning)\n",
      "/home/marco/anaconda3/lib/python3.7/site-packages/sklearn/neural_network/_multilayer_perceptron.py:571: ConvergenceWarning: Stochastic Optimizer: Maximum iterations (200) reached and the optimization hasn't converged yet.\n",
      "  % self.max_iter, ConvergenceWarning)\n",
      "/home/marco/anaconda3/lib/python3.7/site-packages/sklearn/neural_network/_multilayer_perceptron.py:571: ConvergenceWarning: Stochastic Optimizer: Maximum iterations (200) reached and the optimization hasn't converged yet.\n",
      "  % self.max_iter, ConvergenceWarning)\n"
     ]
    },
    {
     "name": "stdout",
     "output_type": "stream",
     "text": [
      "(32, 32, 32)\n",
      "(64, 64, 64)\n",
      "(128, 128, 128)\n",
      "(256, 256, 256)\n"
     ]
    }
   ],
   "source": [
    "# Perform 6-fold cross validation:\n",
    "kf6 = KFold(n_splits=6, shuffle=True, random_state=1)\n",
    "\n",
    "three_hl_neurons = [(8,8,8), (16,16,16), (32,32,32), (64,64,64), (128,128,128), (256,256,256)]\n",
    "\n",
    "three_hl_avg_acs_list = get_mlp_avg_acs_list(three_hl_neurons, kf6)\n",
    "x = [i[0] for i in three_hl_neurons]"
   ]
  },
  {
   "cell_type": "code",
   "execution_count": 21,
   "metadata": {},
   "outputs": [
    {
     "data": {
      "image/png": "[encoded data removed]",
      "text/plain": [
       "<Figure size 432x288 with 1 Axes>"
      ]
     },
     "metadata": {
      "needs_background": "light"
     },
     "output_type": "display_data"
    },
    {
     "name": "stdout",
     "output_type": "stream",
     "text": [
      "['0.8998', '0.9538', '0.9694', '0.9750', '0.9861', '0.9844']\n",
      "Best accuracy score: 0.9861\n"
     ]
    }
   ],
   "source": [
    "# Plot the resulting classification accuracies.\n",
    "plt.plot(x, three_hl_avg_acs_list, color='#016064')\n",
    "plt.title('Avg accuracy score vs number of neurons in three hidden layers')\n",
    "plt.xlabel('number of neurons in three hidden layers')\n",
    "plt.ylabel('Avg accuracy score')\n",
    "plt.show()\n",
    "\n",
    "# Print the formatted list of average accuracy scores, and the best accuracy score.\n",
    "print(list(map(lambda x: \"{:.4f}\".format(x), three_hl_avg_acs_list)))\n",
    "print(\"Best accuracy score:\", \"{:.4f}\".format(np.max(three_hl_avg_acs_list)))"
   ]
  },
  {
   "cell_type": "code",
   "execution_count": 20,
   "metadata": {},
   "outputs": [
    {
     "name": "stderr",
     "output_type": "stream",
     "text": [
      "/home/marco/anaconda3/lib/python3.7/site-packages/sklearn/neural_network/_multilayer_perceptron.py:571: ConvergenceWarning: Stochastic Optimizer: Maximum iterations (200) reached and the optimization hasn't converged yet.\n",
      "  % self.max_iter, ConvergenceWarning)\n"
     ]
    },
    {
     "name": "stdout",
     "output_type": "stream",
     "text": [
      "Neurons: 8, ACS test: 0.8888, ACS train: 0.9532\n"
     ]
    },
    {
     "name": "stderr",
     "output_type": "stream",
     "text": [
      "/home/marco/anaconda3/lib/python3.7/site-packages/sklearn/neural_network/_multilayer_perceptron.py:571: ConvergenceWarning: Stochastic Optimizer: Maximum iterations (200) reached and the optimization hasn't converged yet.\n",
      "  % self.max_iter, ConvergenceWarning)\n"
     ]
    },
    {
     "name": "stdout",
     "output_type": "stream",
     "text": [
      "Neurons: 16, ACS test: 0.9366, ACS train: 1.0000\n",
      "Neurons: 32, ACS test: 0.9466, ACS train: 1.0000\n",
      "Neurons: 64, ACS test: 0.9622, ACS train: 1.0000\n",
      "Neurons: 128, ACS test: 0.9722, ACS train: 1.0000\n",
      "Neurons: 256, ACS test: 0.9789, ACS train: 1.0000\n"
     ]
    },
    {
     "data": {
      "image/png": "[encoded data removed]",
      "text/plain": [
       "<Figure size 432x288 with 1 Axes>"
      ]
     },
     "metadata": {
      "needs_background": "light"
     },
     "output_type": "display_data"
    }
   ],
   "source": [
    "test_acs_list, train_acs_list = get_train_and_test_acs_list(three_hl_neurons)\n",
    "x = [i[0] for i in three_hl_neurons]\n",
    "\n",
    "# Plot the resulting classification accuracies.\n",
    "plt.plot(x, test_acs_list, color='#59788E', label='ACS test')\n",
    "plt.plot(x, train_acs_list, color='#028A0F', label='ACS train')\n",
    "plt.legend()\n",
    "plt.title('Accuracy score vs number of neurons')\n",
    "plt.xlabel('number of neurons in three hidden layers')\n",
    "plt.ylabel('Accuracy score')\n",
    "plt.show()"
   ]
  },
  {
   "cell_type": "markdown",
   "metadata": {},
   "source": [
    "It appears that the model does not benefit from introducing a third hidden layer; on the contrary, the amount of overfitting increases. This is a known effect."
   ]
  }
 ],
 "metadata": {
  "anaconda-cloud": {},
  "kernelspec": {
   "display_name": "Python 3",
   "language": "python",
   "name": "python3"
  },
  "language_info": {
   "codemirror_mode": {
    "name": "ipython",
    "version": 3
   },
   "file_extension": ".py",
   "mimetype": "text/x-python",
   "name": "python",
   "nbconvert_exporter": "python",
   "pygments_lexer": "ipython3",
   "version": "3.7.6"
  }
 },
 "nbformat": 4,
 "nbformat_minor": 4
}
